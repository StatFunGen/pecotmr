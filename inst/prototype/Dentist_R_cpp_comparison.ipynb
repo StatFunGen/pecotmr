{
 "cells": [
  {
   "cell_type": "markdown",
   "id": "c67b151d-e60c-4699-9188-46ce34350113",
   "metadata": {
    "kernel": "SoS",
    "tags": []
   },
   "source": [
    "# DENTIST R and cpp cpmparison\n"
   ]
  },
  {
   "cell_type": "markdown",
   "id": "fb71b025-a4ad-4431-ad2c-a9b4bb9feddd",
   "metadata": {
    "kernel": "SoS",
    "tags": []
   },
   "source": [
    "## Overview\n",
    "\n",
    "DENTIST code is implemented in cpp `https://github.com/Yves-CHEN/DENTIST`. To incorporate it in the pecotmr package an R version is developed. \n",
    "\n",
    "Here we will test if the R version code have the same result of cpp version."
   ]
  },
  {
   "cell_type": "markdown",
   "id": "d5684eac-247f-47c4-aa76-ca59894f820e",
   "metadata": {
    "kernel": "SoS"
   },
   "source": [
    "## Important note\n",
    "\n",
    "DENTIST does not have a easy way to compile it in the system. Their paths in the makefile is quite messy and we need to install all dependencies and re-wrote the make file, which is quite time consuming. \n",
    "\n",
    "However, DENTIST provided an excutable file that can do the same things, but we cannot modify it so that we can only have input and outputs. Given that DENTIST involves randomness in splitting the region into S1 and S2 two parts and iterated this multiple times, so the numerical value of different attempts might be different. So here our strategy is to run DENTIST 10 times in each system, take the average for numerical things and compare if they are similar enough."
   ]
  },
  {
   "cell_type": "markdown",
   "id": "272d03b4-e737-4934-9ec6-2c09e81b4635",
   "metadata": {
    "kernel": "SoS",
    "tags": []
   },
   "source": [
    "## Input\n",
    "\n",
    "DENTIST the original program needs PLINK file as input, and also sumstat in COJO format (including columns `SNP A1 A2 freq b se p N`). Here we use the first round RSS_QC result as reference, found a region have outliers after allele QC. We use this region to verify the similarity of result.\n",
    "\n",
    "+ PLINK file: `/home/hs3393/RSS_QC/pecotmr/data/RSS_QC_MWE/PLINK_input_MWE`\n",
    "\n",
    "+ Sumstat: `/home/hs3393/RSS_QC/pecotmr/data/RSS_QC_MWE/Sumstat_MAF_filtered.txt`\n",
    "\n",
    "\n",
    "Notes about inputs: DENTIST only allow region with 2000+ variables, also, should not include variants that have maf = 0 in PLINK. So here the plink file is already filtered by threshold 0.01."
   ]
  },
  {
   "cell_type": "markdown",
   "id": "61021457-82ea-4267-9929-c7d90f1e73da",
   "metadata": {
    "kernel": "SoS"
   },
   "source": [
    "## Details\n",
    "\n",
    "### 1. MWE data preparation\n",
    "\n",
    "For DENTIST in github https://github.com/Yves-CHEN/DENTIST version 1.3.0.0, it requires PLINK data, so here I prepared it."
   ]
  },
  {
   "cell_type": "code",
   "execution_count": 36,
   "id": "96a8d07f-8f15-4198-8e03-00778d001c51",
   "metadata": {
    "kernel": "R",
    "tags": []
   },
   "outputs": [],
   "source": [
    "library(tidyverse)\n",
    "library(susieR)\n",
    "library(plink2R)\n",
    "library(pecotmr)\n",
    "\n",
    "# Original sumstat is from Bellenguez GWAS data. \n",
    "# I found a region that has some signal and outliers so perfect for MWE.\n",
    "# Keep ~ 4000 variants because it's demanded by DENTIST\n",
    "\n",
    "test_data_path = \"/home/hs3393/RSS_QC/pecotmr/data/RSS_QC_MWE/Original_sumstat.tsv\"\n",
    "snp_data <- fread(test_data_path)\n",
    "\n",
    "# get variant list to extract from PLINK data\n",
    "snp_data %>% mutate(variant_id = paste0(\"chr\", chrom, \":\", pos, \"_\", A2, \"_\", A1)) %>% pull(variant_id) %>% \n",
    "    write.table(\"/home/hs3393/RSS_QC/pecotmr/data/RSS_QC_MWE/MWE_snplist.txt\", row.names = F, quote = F)"
   ]
  },
  {
   "cell_type": "code",
   "execution_count": null,
   "id": "7b164a84-bcbd-4d7b-a270-0d5074e06e9c",
   "metadata": {
    "kernel": "R"
   },
   "outputs": [],
   "source": [
    "plink --bfile /mnt/vast/hpc/csg/FunGen_xQTL/ROSMAP/Genotype/geno_by_chrom/ROSMAP_NIA_WGS.leftnorm.bcftools_qc.plink_qc.1 \\ \n",
    "    --extract /home/hs3393/RSS_QC/pecotmr/data/RSS_QC_MWE/MWE_snplist.txt \\\n",
    "    --make-bed --maf 0.01 --geno 0.01 --out ~/RSS_QC/pecotmr/data/RSS_QC_MWE/PLINK_input_MWE"
   ]
  },
  {
   "cell_type": "code",
   "execution_count": 37,
   "id": "70bc72ed-5fe6-43e3-91dd-2009850821a1",
   "metadata": {
    "kernel": "R",
    "tags": []
   },
   "outputs": [],
   "source": [
    "genotype = read_plink(\"~/RSS_QC/pecotmr/data/RSS_QC_MWE/PLINK_input_MWE\")\n",
    "\n",
    "# filter out columns that contain NA so that LD matrix can be computed without error\n",
    "keep_index = which(!is.na(colSums(genotype$bed)))\n",
    "\n",
    "names(keep_index) %>% \n",
    "    write.table(\"/home/hs3393/RSS_QC/pecotmr/data/RSS_QC_MWE/MWE_snplist.txt\", row.names = F, quote = F)\n",
    "\n",
    "snp_data %>% mutate(variant_id = paste0(\"chr\", chrom, \":\", pos, \"_\", A2, \"_\", A1)) %>%\n",
    "    filter(variant_id %in% names(keep_index)) %>%\n",
    "    select(variant_id, A1, A2, maf, beta, se,  pvalue ,n_case) %>% rename(SNP = variant_id,\n",
    "                                                                        freq = maf, b = beta,\n",
    "                                                                        p = pvalue, N = n_case) %>%\n",
    "    write_tsv(\"~/RSS_QC/pecotmr/data/RSS_QC_MWE/Sumstat_MAF_filtered.txt\")"
   ]
  },
  {
   "cell_type": "code",
   "execution_count": null,
   "id": "e53edfc2-18e1-437e-8818-a1fd95ed31c3",
   "metadata": {
    "kernel": "Bash",
    "tags": []
   },
   "outputs": [],
   "source": [
    "# rerun plink to remove those variants containing NA\n",
    "plink --bfile /mnt/vast/hpc/csg/FunGen_xQTL/ROSMAP/Genotype/geno_by_chrom/ROSMAP_NIA_WGS.leftnorm.bcftools_qc.plink_qc.1 \\ \n",
    "    --extract /home/hs3393/RSS_QC/pecotmr/data/RSS_QC_MWE/MWE_snplist.txt \\\n",
    "    --make-bed --maf 0.01 --geno 0.01 --out ~/RSS_QC/pecotmr/data/RSS_QC_MWE/PLINK_input_MWE"
   ]
  },
  {
   "cell_type": "code",
   "execution_count": 39,
   "id": "96737ded-dfad-4138-a785-bbebf28a7daa",
   "metadata": {
    "kernel": "R",
    "tags": []
   },
   "outputs": [
    {
     "name": "stderr",
     "output_type": "stream",
     "text": [
      "\u001b[1mRows: \u001b[22m\u001b[34m4123\u001b[39m \u001b[1mColumns: \u001b[22m\u001b[34m8\u001b[39m\n",
      "\u001b[36m──\u001b[39m \u001b[1mColumn specification\u001b[22m \u001b[36m────────────────────────────────────────────────────────\u001b[39m\n",
      "\u001b[1mDelimiter:\u001b[22m \"\\t\"\n",
      "\u001b[31mchr\u001b[39m (3): SNP, A1, A2\n",
      "\u001b[32mdbl\u001b[39m (5): freq, b, se, p, N\n",
      "\n",
      "\u001b[36mℹ\u001b[39m Use `spec()` to retrieve the full column specification for this data.\n",
      "\u001b[36mℹ\u001b[39m Specify the column types or set `show_col_types = FALSE` to quiet this message.\n",
      "\u001b[1mRows: \u001b[22m\u001b[34m4123\u001b[39m \u001b[1mColumns: \u001b[22m\u001b[34m8\u001b[39m\n",
      "\u001b[36m──\u001b[39m \u001b[1mColumn specification\u001b[22m \u001b[36m────────────────────────────────────────────────────────\u001b[39m\n",
      "\u001b[1mDelimiter:\u001b[22m \"\\t\"\n",
      "\u001b[31mchr\u001b[39m (3): SNP, A1, A2\n",
      "\u001b[32mdbl\u001b[39m (5): freq, b, se, p, N\n",
      "\n",
      "\u001b[36mℹ\u001b[39m Use `spec()` to retrieve the full column specification for this data.\n",
      "\u001b[36mℹ\u001b[39m Specify the column types or set `show_col_types = FALSE` to quiet this message.\n",
      "Warning message in fread(\"/home/hs3393//RSS_QC/pecotmr/data/RSS_QC_MWE/LD_MWE.tsv\"):\n",
      "“Detected 4123 column names but the data has 4124 columns (i.e. invalid file). Added 1 extra default column name for the first column which is guessed to be row names or an index. Use setnames() afterwards if this guess is not correct, or fix the file write command that created the file to create a valid file.”\n"
     ]
    }
   ],
   "source": [
    "# calculate LD matrix to run it in rCPP interface \n",
    "#sumstat = read_delim(\"/home/hs3393/RSS_QC/pecotmr/data/RSS_QC_MWE/Sumstat_MAF_filtered.txt\")\n",
    "#geno = read_plink(\"/home/hs3393//RSS_QC/pecotmr/data/RSS_QC_MWE/PLINK_input_MWE\")$bed\n",
    "#LD = as.matrix(cor(geno))\n",
    "#write.table(LD, \"/home/hs3393//RSS_QC/pecotmr/data/RSS_QC_MWE/LD_MWE.tsv\", sep = \"\\t\", quote = FALSE, row.names = TRUE, col.names = TRUE)\n",
    "\n",
    "#########FINISHED############\n",
    "sumstat = read_delim(\"/home/hs3393/RSS_QC/pecotmr/data/RSS_QC_MWE/Sumstat_MAF_filtered.txt\") %>% mutate(z = b / se)\n",
    "LD = fread(\"/home/hs3393//RSS_QC/pecotmr/data/RSS_QC_MWE/LD_MWE.tsv\")[,-1]\n",
    "LD = as.matrix(LD)"
   ]
  },
  {
   "cell_type": "markdown",
   "id": "798ef972-8130-419b-b700-f5330fab7044",
   "metadata": {
    "kernel": "R"
   },
   "source": [
    "### 2. DENTIST  -- github compiled version implementation"
   ]
  },
  {
   "cell_type": "code",
   "execution_count": null,
   "id": "0525b7ec-d8ed-458c-9178-791aeece069e",
   "metadata": {
    "kernel": "Bash",
    "tags": []
   },
   "outputs": [],
   "source": [
    "# DENTIST -- github compiled version\n",
    "\n",
    "~/RSS_QC/DENTIST/DENTIST_1.3.0.0  --bfile  /home/hs3393//RSS_QC/pecotmr/data/RSS_QC_MWE/PLINK_input_MWE --gwas-summary /home/hs3393/RSS_QC/pecotmr/data/RSS_QC_MWE/Sumstat_MAF_filtered.txt --out DENTIST_result"
   ]
  },
  {
   "cell_type": "code",
   "execution_count": 41,
   "id": "765394c3-dc09-4900-8505-e9d8db99ccf9",
   "metadata": {
    "kernel": "Bash",
    "tags": []
   },
   "outputs": [
    {
     "name": "stdout",
     "output_type": "stream",
     "text": [
      "63 /home/hs3393/RSS_QC/DENTIST/DENTIST_result.DENTIST.short.txt\n"
     ]
    }
   ],
   "source": [
    "wc -l ~/RSS_QC/DENTIST/DENTIST_result.DENTIST.short.txt"
   ]
  },
  {
   "cell_type": "markdown",
   "id": "09c77a5c-b7d6-432c-91bb-13d0654d9ffa",
   "metadata": {
    "kernel": "Bash"
   },
   "source": [
    "Here the row number of *.short.txt shows how many outliers are identified in this region and should be removed.\n",
    "\n",
    "So for DENTIST compiled version, the **number of outlier is 63**. "
   ]
  },
  {
   "cell_type": "markdown",
   "id": "a9784c5a-ab11-42e6-af2a-5f801a293f0a",
   "metadata": {
    "kernel": "Bash"
   },
   "source": [
    "### 3. DENTIST -- Rcpp version"
   ]
  },
  {
   "cell_type": "code",
   "execution_count": 45,
   "id": "674aaf2e-0e8c-4fcf-ba70-19b050764364",
   "metadata": {
    "kernel": "R",
    "tags": []
   },
   "outputs": [],
   "source": [
    "dentist_result = dentist(zScore = sumstat$z, LD = LD, nSample = 1153)"
   ]
  },
  {
   "cell_type": "code",
   "execution_count": 48,
   "id": "5339dc46-6cce-48b6-a240-b31675ffd533",
   "metadata": {
    "kernel": "R",
    "tags": []
   },
   "outputs": [
    {
     "data": {
      "text/html": [
       "1053"
      ],
      "text/latex": [
       "1053"
      ],
      "text/markdown": [
       "1053"
      ],
      "text/plain": [
       "[1] 1053"
      ]
     },
     "metadata": {},
     "output_type": "display_data"
    }
   ],
   "source": [
    "dentist_result %>% filter(is_problematic > 0) %>% nrow()"
   ]
  },
  {
   "cell_type": "markdown",
   "id": "831abd54-05f4-41f9-aae3-e15e65d6022c",
   "metadata": {
    "kernel": "R"
   },
   "source": [
    "So for DENTIST RCPP version, the **number of outlier is 1053**. The results looks quite different... Take a look at the LD."
   ]
  },
  {
   "cell_type": "code",
   "execution_count": 50,
   "id": "edfe394e-bc86-4b2a-9537-a8332c78fbdf",
   "metadata": {
    "kernel": "R",
    "tags": []
   },
   "outputs": [
    {
     "name": "stderr",
     "output_type": "stream",
     "text": [
      "Warning message in sourceCpp(\"/home/rd2972/software/pecotmr/src/RcppExports.cpp\"):\n",
      "“No Rcpp::export attributes or RCPP_MODULE declarations found in source”\n",
      "Warning message in fread(\"/home/rd2972/private_data/20240300_rss_qc_imputation/DENTIST/output_LD.txt\"):\n",
      "“Detected 4 column names but the data has 2061 columns (i.e. invalid file). Added 2057 extra default column names at the end.”\n",
      "Warning message in fread(\"/home/rd2972/private_data/20240300_rss_qc_imputation/DENTIST/output_LD.txt\"):\n",
      "“Stopped early on line 2064. Expected 2061 fields but found 0. Consider fill=TRUE and comment.char=. First discarded non-empty line: <<LD_it for iteration :>>”\n"
     ]
    }
   ],
   "source": [
    "library(readr)\n",
    "library(dplyr, warn.conflicts = FALSE)\n",
    "library(data.table)\n",
    "library(RcppArmadillo)\n",
    "library(Rcpp)\n",
    "source(\"/home/rd2972/software/pecotmr/R/run_dentist.R\")\n",
    "source(\"/home/rd2972/software/pecotmr/R/RcppExports.R\")\n",
    "sourceCpp(\"/home/rd2972/software/pecotmr/src/dentist.cpp\")\n",
    "sourceCpp(\"/home/rd2972/software/pecotmr/src/RcppExports.cpp\")\n",
    "dentist_LD_result = fread(\"/home/rd2972/private_data/20240300_rss_qc_imputation/DENTIST/output_LD.txt\")"
   ]
  },
  {
   "cell_type": "code",
   "execution_count": 52,
   "id": "fa876ee6-00ec-4511-ba6c-6bde28500c3d",
   "metadata": {
    "kernel": "R",
    "tags": []
   },
   "outputs": [
    {
     "data": {
      "text/html": [
       "<style>\n",
       ".list-inline {list-style: none; margin:0; padding: 0}\n",
       ".list-inline>li {display: inline-block}\n",
       ".list-inline>li:not(:last-child)::after {content: \"\\00b7\"; padding: 0 .5ex}\n",
       "</style>\n",
       "<ol class=list-inline><li>2062</li><li>2061</li></ol>\n"
      ],
      "text/latex": [
       "\\begin{enumerate*}\n",
       "\\item 2062\n",
       "\\item 2061\n",
       "\\end{enumerate*}\n"
      ],
      "text/markdown": [
       "1. 2062\n",
       "2. 2061\n",
       "\n",
       "\n"
      ],
      "text/plain": [
       "[1] 2062 2061"
      ]
     },
     "metadata": {},
     "output_type": "display_data"
    },
    {
     "data": {
      "text/html": [
       "<table class=\"dataframe\">\n",
       "<caption>A data.table: 6 × 2061</caption>\n",
       "<thead>\n",
       "\t<tr><th scope=col>LD_it</th><th scope=col>for</th><th scope=col>iteration</th><th scope=col>:</th><th scope=col>V5</th><th scope=col>V6</th><th scope=col>V7</th><th scope=col>V8</th><th scope=col>V9</th><th scope=col>V10</th><th scope=col>⋯</th><th scope=col>V2052</th><th scope=col>V2053</th><th scope=col>V2054</th><th scope=col>V2055</th><th scope=col>V2056</th><th scope=col>V2057</th><th scope=col>V2058</th><th scope=col>V2059</th><th scope=col>V2060</th><th scope=col>V2061</th></tr>\n",
       "\t<tr><th scope=col>&lt;dbl&gt;</th><th scope=col>&lt;dbl&gt;</th><th scope=col>&lt;dbl&gt;</th><th scope=col>&lt;dbl&gt;</th><th scope=col>&lt;dbl&gt;</th><th scope=col>&lt;dbl&gt;</th><th scope=col>&lt;dbl&gt;</th><th scope=col>&lt;dbl&gt;</th><th scope=col>&lt;dbl&gt;</th><th scope=col>&lt;dbl&gt;</th><th scope=col>⋯</th><th scope=col>&lt;dbl&gt;</th><th scope=col>&lt;dbl&gt;</th><th scope=col>&lt;dbl&gt;</th><th scope=col>&lt;dbl&gt;</th><th scope=col>&lt;dbl&gt;</th><th scope=col>&lt;dbl&gt;</th><th scope=col>&lt;dbl&gt;</th><th scope=col>&lt;dbl&gt;</th><th scope=col>&lt;dbl&gt;</th><th scope=col>&lt;dbl&gt;</th></tr>\n",
       "</thead>\n",
       "<tbody>\n",
       "\t<tr><td>0.98501</td><td>0.99703</td><td>-0.165970</td><td>0.98062</td><td>0.95174</td><td> 0.305990</td><td> 0.196350</td><td> 0.242870</td><td> 1.9603e-01</td><td> 0.200050</td><td>⋯</td><td> 0.0159500</td><td> 0.01011600</td><td>-0.0094939</td><td>-1.4634e-03</td><td>-0.0104610</td><td>-0.0104610</td><td>-0.024245</td><td>-0.00553900</td><td>-0.041944</td><td>-0.043000</td></tr>\n",
       "\t<tr><td>0.97722</td><td>0.98368</td><td>-0.165530</td><td>0.99097</td><td>0.96237</td><td> 0.309330</td><td> 0.182120</td><td> 0.245680</td><td> 1.9891e-01</td><td> 0.184900</td><td>⋯</td><td> 0.0252130</td><td> 0.01956100</td><td>-0.0130840</td><td> 4.3563e-03</td><td>-0.0073216</td><td>-0.0073216</td><td>-0.022075</td><td>-0.01147100</td><td>-0.039437</td><td>-0.040075</td></tr>\n",
       "\t<tr><td>0.94805</td><td>0.94244</td><td>-0.078334</td><td>0.96493</td><td>0.99127</td><td> 0.299980</td><td> 0.174640</td><td> 0.237840</td><td> 1.9103e-01</td><td> 0.177670</td><td>⋯</td><td> 0.0142890</td><td> 0.00809080</td><td>-0.0169470</td><td> 9.1581e-05</td><td>-0.0035575</td><td>-0.0035575</td><td>-0.027552</td><td>-0.00036976</td><td>-0.045728</td><td>-0.047427</td></tr>\n",
       "\t<tr><td>0.41409</td><td>0.40288</td><td>-0.056151</td><td>0.41477</td><td>0.39906</td><td>-0.034997</td><td>-0.049078</td><td>-0.025289</td><td>-3.2538e-02</td><td>-0.046423</td><td>⋯</td><td> 0.0057649</td><td>-0.00058517</td><td>-0.0405290</td><td>-1.2314e-03</td><td>-0.0481700</td><td>-0.0481700</td><td>-0.034190</td><td> 0.01815900</td><td>-0.046387</td><td>-0.032131</td></tr>\n",
       "\t<tr><td>0.58251</td><td>0.57434</td><td>-0.182270</td><td>0.58924</td><td>0.60417</td><td> 0.173310</td><td> 0.068187</td><td> 0.168260</td><td> 8.4623e-02</td><td> 0.077967</td><td>⋯</td><td>-0.0131740</td><td>-0.02404500</td><td> 0.0247050</td><td>-6.2777e-03</td><td> 0.0038312</td><td> 0.0038312</td><td>-0.047474</td><td> 0.04000800</td><td>-0.034784</td><td>-0.031634</td></tr>\n",
       "\t<tr><td>0.28936</td><td>0.28088</td><td>-0.048627</td><td>0.29017</td><td>0.27282</td><td> 0.900440</td><td> 0.708410</td><td>-0.039013</td><td>-7.5352e-05</td><td> 0.724340</td><td>⋯</td><td>-0.0075276</td><td>-0.01285700</td><td>-0.0218220</td><td>-3.2347e-03</td><td>-0.0328830</td><td>-0.0328830</td><td>-0.023340</td><td> 0.04111700</td><td>-0.016986</td><td>-0.014725</td></tr>\n",
       "</tbody>\n",
       "</table>\n"
      ],
      "text/latex": [
       "A data.table: 6 × 2061\n",
       "\\begin{tabular}{lllllllllllllllllllll}\n",
       " LD\\_it & for & iteration & : & V5 & V6 & V7 & V8 & V9 & V10 & ⋯ & V2052 & V2053 & V2054 & V2055 & V2056 & V2057 & V2058 & V2059 & V2060 & V2061\\\\\n",
       " <dbl> & <dbl> & <dbl> & <dbl> & <dbl> & <dbl> & <dbl> & <dbl> & <dbl> & <dbl> & ⋯ & <dbl> & <dbl> & <dbl> & <dbl> & <dbl> & <dbl> & <dbl> & <dbl> & <dbl> & <dbl>\\\\\n",
       "\\hline\n",
       "\t 0.98501 & 0.99703 & -0.165970 & 0.98062 & 0.95174 &  0.305990 &  0.196350 &  0.242870 &  1.9603e-01 &  0.200050 & ⋯ &  0.0159500 &  0.01011600 & -0.0094939 & -1.4634e-03 & -0.0104610 & -0.0104610 & -0.024245 & -0.00553900 & -0.041944 & -0.043000\\\\\n",
       "\t 0.97722 & 0.98368 & -0.165530 & 0.99097 & 0.96237 &  0.309330 &  0.182120 &  0.245680 &  1.9891e-01 &  0.184900 & ⋯ &  0.0252130 &  0.01956100 & -0.0130840 &  4.3563e-03 & -0.0073216 & -0.0073216 & -0.022075 & -0.01147100 & -0.039437 & -0.040075\\\\\n",
       "\t 0.94805 & 0.94244 & -0.078334 & 0.96493 & 0.99127 &  0.299980 &  0.174640 &  0.237840 &  1.9103e-01 &  0.177670 & ⋯ &  0.0142890 &  0.00809080 & -0.0169470 &  9.1581e-05 & -0.0035575 & -0.0035575 & -0.027552 & -0.00036976 & -0.045728 & -0.047427\\\\\n",
       "\t 0.41409 & 0.40288 & -0.056151 & 0.41477 & 0.39906 & -0.034997 & -0.049078 & -0.025289 & -3.2538e-02 & -0.046423 & ⋯ &  0.0057649 & -0.00058517 & -0.0405290 & -1.2314e-03 & -0.0481700 & -0.0481700 & -0.034190 &  0.01815900 & -0.046387 & -0.032131\\\\\n",
       "\t 0.58251 & 0.57434 & -0.182270 & 0.58924 & 0.60417 &  0.173310 &  0.068187 &  0.168260 &  8.4623e-02 &  0.077967 & ⋯ & -0.0131740 & -0.02404500 &  0.0247050 & -6.2777e-03 &  0.0038312 &  0.0038312 & -0.047474 &  0.04000800 & -0.034784 & -0.031634\\\\\n",
       "\t 0.28936 & 0.28088 & -0.048627 & 0.29017 & 0.27282 &  0.900440 &  0.708410 & -0.039013 & -7.5352e-05 &  0.724340 & ⋯ & -0.0075276 & -0.01285700 & -0.0218220 & -3.2347e-03 & -0.0328830 & -0.0328830 & -0.023340 &  0.04111700 & -0.016986 & -0.014725\\\\\n",
       "\\end{tabular}\n"
      ],
      "text/markdown": [
       "\n",
       "A data.table: 6 × 2061\n",
       "\n",
       "| LD_it &lt;dbl&gt; | for &lt;dbl&gt; | iteration &lt;dbl&gt; | : &lt;dbl&gt; | V5 &lt;dbl&gt; | V6 &lt;dbl&gt; | V7 &lt;dbl&gt; | V8 &lt;dbl&gt; | V9 &lt;dbl&gt; | V10 &lt;dbl&gt; | ⋯ ⋯ | V2052 &lt;dbl&gt; | V2053 &lt;dbl&gt; | V2054 &lt;dbl&gt; | V2055 &lt;dbl&gt; | V2056 &lt;dbl&gt; | V2057 &lt;dbl&gt; | V2058 &lt;dbl&gt; | V2059 &lt;dbl&gt; | V2060 &lt;dbl&gt; | V2061 &lt;dbl&gt; |\n",
       "|---|---|---|---|---|---|---|---|---|---|---|---|---|---|---|---|---|---|---|---|---|\n",
       "| 0.98501 | 0.99703 | -0.165970 | 0.98062 | 0.95174 |  0.305990 |  0.196350 |  0.242870 |  1.9603e-01 |  0.200050 | ⋯ |  0.0159500 |  0.01011600 | -0.0094939 | -1.4634e-03 | -0.0104610 | -0.0104610 | -0.024245 | -0.00553900 | -0.041944 | -0.043000 |\n",
       "| 0.97722 | 0.98368 | -0.165530 | 0.99097 | 0.96237 |  0.309330 |  0.182120 |  0.245680 |  1.9891e-01 |  0.184900 | ⋯ |  0.0252130 |  0.01956100 | -0.0130840 |  4.3563e-03 | -0.0073216 | -0.0073216 | -0.022075 | -0.01147100 | -0.039437 | -0.040075 |\n",
       "| 0.94805 | 0.94244 | -0.078334 | 0.96493 | 0.99127 |  0.299980 |  0.174640 |  0.237840 |  1.9103e-01 |  0.177670 | ⋯ |  0.0142890 |  0.00809080 | -0.0169470 |  9.1581e-05 | -0.0035575 | -0.0035575 | -0.027552 | -0.00036976 | -0.045728 | -0.047427 |\n",
       "| 0.41409 | 0.40288 | -0.056151 | 0.41477 | 0.39906 | -0.034997 | -0.049078 | -0.025289 | -3.2538e-02 | -0.046423 | ⋯ |  0.0057649 | -0.00058517 | -0.0405290 | -1.2314e-03 | -0.0481700 | -0.0481700 | -0.034190 |  0.01815900 | -0.046387 | -0.032131 |\n",
       "| 0.58251 | 0.57434 | -0.182270 | 0.58924 | 0.60417 |  0.173310 |  0.068187 |  0.168260 |  8.4623e-02 |  0.077967 | ⋯ | -0.0131740 | -0.02404500 |  0.0247050 | -6.2777e-03 |  0.0038312 |  0.0038312 | -0.047474 |  0.04000800 | -0.034784 | -0.031634 |\n",
       "| 0.28936 | 0.28088 | -0.048627 | 0.29017 | 0.27282 |  0.900440 |  0.708410 | -0.039013 | -7.5352e-05 |  0.724340 | ⋯ | -0.0075276 | -0.01285700 | -0.0218220 | -3.2347e-03 | -0.0328830 | -0.0328830 | -0.023340 |  0.04111700 | -0.016986 | -0.014725 |\n",
       "\n"
      ],
      "text/plain": [
       "  LD_it   for     iteration :       V5      V6        V7        V8       \n",
       "1 0.98501 0.99703 -0.165970 0.98062 0.95174  0.305990  0.196350  0.242870\n",
       "2 0.97722 0.98368 -0.165530 0.99097 0.96237  0.309330  0.182120  0.245680\n",
       "3 0.94805 0.94244 -0.078334 0.96493 0.99127  0.299980  0.174640  0.237840\n",
       "4 0.41409 0.40288 -0.056151 0.41477 0.39906 -0.034997 -0.049078 -0.025289\n",
       "5 0.58251 0.57434 -0.182270 0.58924 0.60417  0.173310  0.068187  0.168260\n",
       "6 0.28936 0.28088 -0.048627 0.29017 0.27282  0.900440  0.708410 -0.039013\n",
       "  V9          V10       ⋯ V2052      V2053       V2054      V2055      \n",
       "1  1.9603e-01  0.200050 ⋯  0.0159500  0.01011600 -0.0094939 -1.4634e-03\n",
       "2  1.9891e-01  0.184900 ⋯  0.0252130  0.01956100 -0.0130840  4.3563e-03\n",
       "3  1.9103e-01  0.177670 ⋯  0.0142890  0.00809080 -0.0169470  9.1581e-05\n",
       "4 -3.2538e-02 -0.046423 ⋯  0.0057649 -0.00058517 -0.0405290 -1.2314e-03\n",
       "5  8.4623e-02  0.077967 ⋯ -0.0131740 -0.02404500  0.0247050 -6.2777e-03\n",
       "6 -7.5352e-05  0.724340 ⋯ -0.0075276 -0.01285700 -0.0218220 -3.2347e-03\n",
       "  V2056      V2057      V2058     V2059       V2060     V2061    \n",
       "1 -0.0104610 -0.0104610 -0.024245 -0.00553900 -0.041944 -0.043000\n",
       "2 -0.0073216 -0.0073216 -0.022075 -0.01147100 -0.039437 -0.040075\n",
       "3 -0.0035575 -0.0035575 -0.027552 -0.00036976 -0.045728 -0.047427\n",
       "4 -0.0481700 -0.0481700 -0.034190  0.01815900 -0.046387 -0.032131\n",
       "5  0.0038312  0.0038312 -0.047474  0.04000800 -0.034784 -0.031634\n",
       "6 -0.0328830 -0.0328830 -0.023340  0.04111700 -0.016986 -0.014725"
      ]
     },
     "metadata": {},
     "output_type": "display_data"
    }
   ],
   "source": [
    "dim(dentist_LD_result)\n",
    "head(dentist_LD_result)"
   ]
  },
  {
   "cell_type": "markdown",
   "id": "572e1693-f80a-49f2-b3ec-c66b7ef5262c",
   "metadata": {
    "kernel": "R"
   },
   "source": [
    "Ignore the column names. The dimension of LD is not correct yet, also the diagnol elements are not equal to 1."
   ]
  }
 ],
 "metadata": {
  "kernelspec": {
   "display_name": "SoS",
   "language": "sos",
   "name": "sos"
  },
  "language_info": {
   "codemirror_mode": "sos",
   "file_extension": ".sos",
   "mimetype": "text/x-sos",
   "name": "sos",
   "nbconvert_exporter": "sos_notebook.converter.SoS_Exporter",
   "pygments_lexer": "sos"
  },
  "sos": {
   "kernels": [
    [
     "Bash",
     "calysto_bash",
     "Bash",
     "#E6EEFF",
     "shell"
    ],
    [
     "R",
     "ir",
     "R",
     "#DCDCDA",
     "r"
    ]
   ],
   "version": "0.24.3"
  }
 },
 "nbformat": 4,
 "nbformat_minor": 5
}
