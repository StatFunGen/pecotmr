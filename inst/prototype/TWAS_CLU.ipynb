{
 "cells": [
  {
   "cell_type": "markdown",
   "id": "canadian-spencer",
   "metadata": {
    "kernel": "SoS"
   },
   "source": [
    "# TWAS prototypes\n",
    "\n",
    "Here we analyze an example data-set for *CLU* eQTL in Inhibatory Neurons and AD GWAS from Bellenguez 2022. Data is received from Chunming Liu at Clemson University for the multi-tissue TWAS companion paper."
   ]
  },
  {
   "cell_type": "markdown",
   "id": "related-aviation",
   "metadata": {
    "kernel": "SoS"
   },
   "source": [
    "## Load data"
   ]
  },
  {
   "cell_type": "code",
   "execution_count": 1,
   "id": "alternative-spouse",
   "metadata": {
    "kernel": "SoS"
   },
   "outputs": [],
   "source": [
    "gwas = readRDS(\"CLU_gwas.rds\")\n",
    "eqtl = readRDS(\"pseudo_bulk_CLU.ENSG00000120885.rds\")"
   ]
  },
  {
   "cell_type": "code",
   "execution_count": 2,
   "id": "moved-alloy",
   "metadata": {
    "kernel": "SoS"
   },
   "outputs": [
    {
     "data": {
      "text/html": [
       "<table>\n",
       "<caption>A data.frame: 6 × 9</caption>\n",
       "<thead>\n",
       "\t<tr><th></th><th scope=col>key</th><th scope=col>CHR</th><th scope=col>POS</th><th scope=col>A1</th><th scope=col>A2</th><th scope=col>beta</th><th scope=col>standard_error</th><th scope=col>SNP</th><th scope=col>Z</th></tr>\n",
       "\t<tr><th></th><th scope=col>&lt;chr&gt;</th><th scope=col>&lt;int&gt;</th><th scope=col>&lt;int&gt;</th><th scope=col>&lt;chr&gt;</th><th scope=col>&lt;chr&gt;</th><th scope=col>&lt;dbl&gt;</th><th scope=col>&lt;dbl&gt;</th><th scope=col>&lt;chr&gt;</th><th scope=col>&lt;dbl&gt;</th></tr>\n",
       "</thead>\n",
       "<tbody>\n",
       "\t<tr><th scope=row>5506389</th><td>8:27119788</td><td>8</td><td>27119788</td><td>T</td><td>C</td><td>-0.0089</td><td>0.0111</td><td>chr8:27119788:C:T</td><td>-0.8018018</td></tr>\n",
       "\t<tr><th scope=row>5506390</th><td>8:27119867</td><td>8</td><td>27119867</td><td>T</td><td>G</td><td>-0.0089</td><td>0.0111</td><td>chr8:27119867:G:T</td><td>-0.8018018</td></tr>\n",
       "\t<tr><th scope=row>5506391</th><td>8:27119961</td><td>8</td><td>27119961</td><td>T</td><td>G</td><td> 0.0236</td><td>0.0083</td><td>chr8:27119961:T:G</td><td> 2.8433735</td></tr>\n",
       "\t<tr><th scope=row>5506392</th><td>8:27120053</td><td>8</td><td>27120053</td><td>T</td><td>C</td><td>-0.0217</td><td>0.0246</td><td>chr8:27120053:C:T</td><td>-0.8821138</td></tr>\n",
       "\t<tr><th scope=row>5506393</th><td>8:27120593</td><td>8</td><td>27120593</td><td>A</td><td>G</td><td>-0.0232</td><td>0.0246</td><td>chr8:27120593:G:A</td><td>-0.9430894</td></tr>\n",
       "\t<tr><th scope=row>5506394</th><td>8:27120636</td><td>8</td><td>27120636</td><td>T</td><td>C</td><td> 0.0045</td><td>0.0141</td><td>chr8:27120636:C:T</td><td> 0.3191489</td></tr>\n",
       "</tbody>\n",
       "</table>\n"
      ],
      "text/latex": [
       "A data.frame: 6 × 9\n",
       "\\begin{tabular}{r|lllllllll}\n",
       "  & key & CHR & POS & A1 & A2 & beta & standard\\_error & SNP & Z\\\\\n",
       "  & <chr> & <int> & <int> & <chr> & <chr> & <dbl> & <dbl> & <chr> & <dbl>\\\\\n",
       "\\hline\n",
       "\t5506389 & 8:27119788 & 8 & 27119788 & T & C & -0.0089 & 0.0111 & chr8:27119788:C:T & -0.8018018\\\\\n",
       "\t5506390 & 8:27119867 & 8 & 27119867 & T & G & -0.0089 & 0.0111 & chr8:27119867:G:T & -0.8018018\\\\\n",
       "\t5506391 & 8:27119961 & 8 & 27119961 & T & G &  0.0236 & 0.0083 & chr8:27119961:T:G &  2.8433735\\\\\n",
       "\t5506392 & 8:27120053 & 8 & 27120053 & T & C & -0.0217 & 0.0246 & chr8:27120053:C:T & -0.8821138\\\\\n",
       "\t5506393 & 8:27120593 & 8 & 27120593 & A & G & -0.0232 & 0.0246 & chr8:27120593:G:A & -0.9430894\\\\\n",
       "\t5506394 & 8:27120636 & 8 & 27120636 & T & C &  0.0045 & 0.0141 & chr8:27120636:C:T &  0.3191489\\\\\n",
       "\\end{tabular}\n"
      ],
      "text/markdown": [
       "\n",
       "A data.frame: 6 × 9\n",
       "\n",
       "| <!--/--> | key &lt;chr&gt; | CHR &lt;int&gt; | POS &lt;int&gt; | A1 &lt;chr&gt; | A2 &lt;chr&gt; | beta &lt;dbl&gt; | standard_error &lt;dbl&gt; | SNP &lt;chr&gt; | Z &lt;dbl&gt; |\n",
       "|---|---|---|---|---|---|---|---|---|---|\n",
       "| 5506389 | 8:27119788 | 8 | 27119788 | T | C | -0.0089 | 0.0111 | chr8:27119788:C:T | -0.8018018 |\n",
       "| 5506390 | 8:27119867 | 8 | 27119867 | T | G | -0.0089 | 0.0111 | chr8:27119867:G:T | -0.8018018 |\n",
       "| 5506391 | 8:27119961 | 8 | 27119961 | T | G |  0.0236 | 0.0083 | chr8:27119961:T:G |  2.8433735 |\n",
       "| 5506392 | 8:27120053 | 8 | 27120053 | T | C | -0.0217 | 0.0246 | chr8:27120053:C:T | -0.8821138 |\n",
       "| 5506393 | 8:27120593 | 8 | 27120593 | A | G | -0.0232 | 0.0246 | chr8:27120593:G:A | -0.9430894 |\n",
       "| 5506394 | 8:27120636 | 8 | 27120636 | T | C |  0.0045 | 0.0141 | chr8:27120636:C:T |  0.3191489 |\n",
       "\n"
      ],
      "text/plain": [
       "        key        CHR POS      A1 A2 beta    standard_error SNP              \n",
       "5506389 8:27119788 8   27119788 T  C  -0.0089 0.0111         chr8:27119788:C:T\n",
       "5506390 8:27119867 8   27119867 T  G  -0.0089 0.0111         chr8:27119867:G:T\n",
       "5506391 8:27119961 8   27119961 T  G   0.0236 0.0083         chr8:27119961:T:G\n",
       "5506392 8:27120053 8   27120053 T  C  -0.0217 0.0246         chr8:27120053:C:T\n",
       "5506393 8:27120593 8   27120593 A  G  -0.0232 0.0246         chr8:27120593:G:A\n",
       "5506394 8:27120636 8   27120636 T  C   0.0045 0.0141         chr8:27120636:C:T\n",
       "        Z         \n",
       "5506389 -0.8018018\n",
       "5506390 -0.8018018\n",
       "5506391  2.8433735\n",
       "5506392 -0.8821138\n",
       "5506393 -0.9430894\n",
       "5506394  0.3191489"
      ]
     },
     "metadata": {},
     "output_type": "display_data"
    }
   ],
   "source": [
    "head(gwas)"
   ]
  },
  {
   "cell_type": "code",
   "execution_count": 3,
   "id": "hourly-computer",
   "metadata": {
    "kernel": "SoS"
   },
   "outputs": [
    {
     "data": {
      "text/html": [
       "<style>\n",
       ".list-inline {list-style: none; margin:0; padding: 0}\n",
       ".list-inline>li {display: inline-block}\n",
       ".list-inline>li:not(:last-child)::after {content: \"\\00b7\"; padding: 0 .5ex}\n",
       "</style>\n",
       "<ol class=list-inline><li>'X'</li><li>'y_res'</li></ol>\n"
      ],
      "text/latex": [
       "\\begin{enumerate*}\n",
       "\\item 'X'\n",
       "\\item 'y\\_res'\n",
       "\\end{enumerate*}\n"
      ],
      "text/markdown": [
       "1. 'X'\n",
       "2. 'y_res'\n",
       "\n",
       "\n"
      ],
      "text/plain": [
       "[1] \"X\"     \"y_res\""
      ]
     },
     "metadata": {},
     "output_type": "display_data"
    }
   ],
   "source": [
    "names(eqtl)"
   ]
  },
  {
   "cell_type": "code",
   "execution_count": 4,
   "id": "seeing-orchestra",
   "metadata": {
    "kernel": "SoS"
   },
   "outputs": [
    {
     "data": {
      "text/html": [
       "<table>\n",
       "<caption>A matrix: 6 × 2828 of type dbl</caption>\n",
       "<thead>\n",
       "\t<tr><th></th><th scope=col>chr8:27119788_C_T</th><th scope=col>chr8:27119867_G_T</th><th scope=col>chr8:27119961_G_T</th><th scope=col>chr8:27120053_C_T</th><th scope=col>chr8:27120593_G_A</th><th scope=col>chr8:27120636_C_T</th><th scope=col>chr8:27120932_A_G</th><th scope=col>chr8:27120975_G_A</th><th scope=col>chr8:27121290_T_C</th><th scope=col>chr8:27121498_C_A</th><th scope=col>⋯</th><th scope=col>chr8:28108194_A_C</th><th scope=col>chr8:28108723_T_C</th><th scope=col>chr8:28109257_G_A</th><th scope=col>chr8:28109506_A_G</th><th scope=col>chr8:28109848_G_A</th><th scope=col>chr8:28110339_A_G</th><th scope=col>chr8:28112230_C_T</th><th scope=col>chr8:28112288_A_G</th><th scope=col>chr8:28113443_G_T</th><th scope=col>chr8:28114493_A_C</th></tr>\n",
       "</thead>\n",
       "<tbody>\n",
       "\t<tr><th scope=row>MAP15387421:MAP15387421</th><td>0</td><td>0</td><td>0</td><td>0</td><td>0</td><td>1</td><td>0</td><td>1</td><td>1</td><td>1</td><td>⋯</td><td>1</td><td>1</td><td>0</td><td>0</td><td>1</td><td>1</td><td>0</td><td>1</td><td>0</td><td>0</td></tr>\n",
       "\t<tr><th scope=row>MAP22868024:MAP22868024</th><td>0</td><td>0</td><td>1</td><td>0</td><td>0</td><td>0</td><td>0</td><td>0</td><td>0</td><td>0</td><td>⋯</td><td>0</td><td>1</td><td>0</td><td>0</td><td>1</td><td>1</td><td>0</td><td>0</td><td>1</td><td>0</td></tr>\n",
       "\t<tr><th scope=row>MAP46246604:MAP46246604</th><td>1</td><td>1</td><td>0</td><td>0</td><td>0</td><td>0</td><td>0</td><td>0</td><td>1</td><td>1</td><td>⋯</td><td>1</td><td>1</td><td>0</td><td>0</td><td>1</td><td>1</td><td>0</td><td>1</td><td>0</td><td>0</td></tr>\n",
       "\t<tr><th scope=row>MAP50104134:MAP50104134</th><td>1</td><td>1</td><td>1</td><td>0</td><td>0</td><td>0</td><td>0</td><td>0</td><td>1</td><td>1</td><td>⋯</td><td>0</td><td>1</td><td>0</td><td>0</td><td>1</td><td>1</td><td>0</td><td>1</td><td>0</td><td>0</td></tr>\n",
       "\t<tr><th scope=row>MAP50104846:MAP50104846</th><td>1</td><td>1</td><td>1</td><td>0</td><td>0</td><td>0</td><td>0</td><td>0</td><td>1</td><td>1</td><td>⋯</td><td>0</td><td>0</td><td>0</td><td>0</td><td>0</td><td>0</td><td>0</td><td>0</td><td>0</td><td>0</td></tr>\n",
       "\t<tr><th scope=row>MAP50106442:MAP50106442</th><td>1</td><td>1</td><td>1</td><td>0</td><td>0</td><td>0</td><td>1</td><td>0</td><td>1</td><td>1</td><td>⋯</td><td>1</td><td>1</td><td>0</td><td>0</td><td>1</td><td>1</td><td>0</td><td>1</td><td>0</td><td>0</td></tr>\n",
       "</tbody>\n",
       "</table>\n"
      ],
      "text/latex": [
       "A matrix: 6 × 2828 of type dbl\n",
       "\\begin{tabular}{r|lllllllllllllllllllll}\n",
       "  & chr8:27119788\\_C\\_T & chr8:27119867\\_G\\_T & chr8:27119961\\_G\\_T & chr8:27120053\\_C\\_T & chr8:27120593\\_G\\_A & chr8:27120636\\_C\\_T & chr8:27120932\\_A\\_G & chr8:27120975\\_G\\_A & chr8:27121290\\_T\\_C & chr8:27121498\\_C\\_A & ⋯ & chr8:28108194\\_A\\_C & chr8:28108723\\_T\\_C & chr8:28109257\\_G\\_A & chr8:28109506\\_A\\_G & chr8:28109848\\_G\\_A & chr8:28110339\\_A\\_G & chr8:28112230\\_C\\_T & chr8:28112288\\_A\\_G & chr8:28113443\\_G\\_T & chr8:28114493\\_A\\_C\\\\\n",
       "\\hline\n",
       "\tMAP15387421:MAP15387421 & 0 & 0 & 0 & 0 & 0 & 1 & 0 & 1 & 1 & 1 & ⋯ & 1 & 1 & 0 & 0 & 1 & 1 & 0 & 1 & 0 & 0\\\\\n",
       "\tMAP22868024:MAP22868024 & 0 & 0 & 1 & 0 & 0 & 0 & 0 & 0 & 0 & 0 & ⋯ & 0 & 1 & 0 & 0 & 1 & 1 & 0 & 0 & 1 & 0\\\\\n",
       "\tMAP46246604:MAP46246604 & 1 & 1 & 0 & 0 & 0 & 0 & 0 & 0 & 1 & 1 & ⋯ & 1 & 1 & 0 & 0 & 1 & 1 & 0 & 1 & 0 & 0\\\\\n",
       "\tMAP50104134:MAP50104134 & 1 & 1 & 1 & 0 & 0 & 0 & 0 & 0 & 1 & 1 & ⋯ & 0 & 1 & 0 & 0 & 1 & 1 & 0 & 1 & 0 & 0\\\\\n",
       "\tMAP50104846:MAP50104846 & 1 & 1 & 1 & 0 & 0 & 0 & 0 & 0 & 1 & 1 & ⋯ & 0 & 0 & 0 & 0 & 0 & 0 & 0 & 0 & 0 & 0\\\\\n",
       "\tMAP50106442:MAP50106442 & 1 & 1 & 1 & 0 & 0 & 0 & 1 & 0 & 1 & 1 & ⋯ & 1 & 1 & 0 & 0 & 1 & 1 & 0 & 1 & 0 & 0\\\\\n",
       "\\end{tabular}\n"
      ],
      "text/markdown": [
       "\n",
       "A matrix: 6 × 2828 of type dbl\n",
       "\n",
       "| <!--/--> | chr8:27119788_C_T | chr8:27119867_G_T | chr8:27119961_G_T | chr8:27120053_C_T | chr8:27120593_G_A | chr8:27120636_C_T | chr8:27120932_A_G | chr8:27120975_G_A | chr8:27121290_T_C | chr8:27121498_C_A | ⋯ | chr8:28108194_A_C | chr8:28108723_T_C | chr8:28109257_G_A | chr8:28109506_A_G | chr8:28109848_G_A | chr8:28110339_A_G | chr8:28112230_C_T | chr8:28112288_A_G | chr8:28113443_G_T | chr8:28114493_A_C |\n",
       "|---|---|---|---|---|---|---|---|---|---|---|---|---|---|---|---|---|---|---|---|---|---|\n",
       "| MAP15387421:MAP15387421 | 0 | 0 | 0 | 0 | 0 | 1 | 0 | 1 | 1 | 1 | ⋯ | 1 | 1 | 0 | 0 | 1 | 1 | 0 | 1 | 0 | 0 |\n",
       "| MAP22868024:MAP22868024 | 0 | 0 | 1 | 0 | 0 | 0 | 0 | 0 | 0 | 0 | ⋯ | 0 | 1 | 0 | 0 | 1 | 1 | 0 | 0 | 1 | 0 |\n",
       "| MAP46246604:MAP46246604 | 1 | 1 | 0 | 0 | 0 | 0 | 0 | 0 | 1 | 1 | ⋯ | 1 | 1 | 0 | 0 | 1 | 1 | 0 | 1 | 0 | 0 |\n",
       "| MAP50104134:MAP50104134 | 1 | 1 | 1 | 0 | 0 | 0 | 0 | 0 | 1 | 1 | ⋯ | 0 | 1 | 0 | 0 | 1 | 1 | 0 | 1 | 0 | 0 |\n",
       "| MAP50104846:MAP50104846 | 1 | 1 | 1 | 0 | 0 | 0 | 0 | 0 | 1 | 1 | ⋯ | 0 | 0 | 0 | 0 | 0 | 0 | 0 | 0 | 0 | 0 |\n",
       "| MAP50106442:MAP50106442 | 1 | 1 | 1 | 0 | 0 | 0 | 1 | 0 | 1 | 1 | ⋯ | 1 | 1 | 0 | 0 | 1 | 1 | 0 | 1 | 0 | 0 |\n",
       "\n"
      ],
      "text/plain": [
       "                        chr8:27119788_C_T chr8:27119867_G_T chr8:27119961_G_T\n",
       "MAP15387421:MAP15387421 0                 0                 0                \n",
       "MAP22868024:MAP22868024 0                 0                 1                \n",
       "MAP46246604:MAP46246604 1                 1                 0                \n",
       "MAP50104134:MAP50104134 1                 1                 1                \n",
       "MAP50104846:MAP50104846 1                 1                 1                \n",
       "MAP50106442:MAP50106442 1                 1                 1                \n",
       "                        chr8:27120053_C_T chr8:27120593_G_A chr8:27120636_C_T\n",
       "MAP15387421:MAP15387421 0                 0                 1                \n",
       "MAP22868024:MAP22868024 0                 0                 0                \n",
       "MAP46246604:MAP46246604 0                 0                 0                \n",
       "MAP50104134:MAP50104134 0                 0                 0                \n",
       "MAP50104846:MAP50104846 0                 0                 0                \n",
       "MAP50106442:MAP50106442 0                 0                 0                \n",
       "                        chr8:27120932_A_G chr8:27120975_G_A chr8:27121290_T_C\n",
       "MAP15387421:MAP15387421 0                 1                 1                \n",
       "MAP22868024:MAP22868024 0                 0                 0                \n",
       "MAP46246604:MAP46246604 0                 0                 1                \n",
       "MAP50104134:MAP50104134 0                 0                 1                \n",
       "MAP50104846:MAP50104846 0                 0                 1                \n",
       "MAP50106442:MAP50106442 1                 0                 1                \n",
       "                        chr8:27121498_C_A ⋯ chr8:28108194_A_C chr8:28108723_T_C\n",
       "MAP15387421:MAP15387421 1                 ⋯ 1                 1                \n",
       "MAP22868024:MAP22868024 0                 ⋯ 0                 1                \n",
       "MAP46246604:MAP46246604 1                 ⋯ 1                 1                \n",
       "MAP50104134:MAP50104134 1                 ⋯ 0                 1                \n",
       "MAP50104846:MAP50104846 1                 ⋯ 0                 0                \n",
       "MAP50106442:MAP50106442 1                 ⋯ 1                 1                \n",
       "                        chr8:28109257_G_A chr8:28109506_A_G chr8:28109848_G_A\n",
       "MAP15387421:MAP15387421 0                 0                 1                \n",
       "MAP22868024:MAP22868024 0                 0                 1                \n",
       "MAP46246604:MAP46246604 0                 0                 1                \n",
       "MAP50104134:MAP50104134 0                 0                 1                \n",
       "MAP50104846:MAP50104846 0                 0                 0                \n",
       "MAP50106442:MAP50106442 0                 0                 1                \n",
       "                        chr8:28110339_A_G chr8:28112230_C_T chr8:28112288_A_G\n",
       "MAP15387421:MAP15387421 1                 0                 1                \n",
       "MAP22868024:MAP22868024 1                 0                 0                \n",
       "MAP46246604:MAP46246604 1                 0                 1                \n",
       "MAP50104134:MAP50104134 1                 0                 1                \n",
       "MAP50104846:MAP50104846 0                 0                 0                \n",
       "MAP50106442:MAP50106442 1                 0                 1                \n",
       "                        chr8:28113443_G_T chr8:28114493_A_C\n",
       "MAP15387421:MAP15387421 0                 0                \n",
       "MAP22868024:MAP22868024 1                 0                \n",
       "MAP46246604:MAP46246604 0                 0                \n",
       "MAP50104134:MAP50104134 0                 0                \n",
       "MAP50104846:MAP50104846 0                 0                \n",
       "MAP50106442:MAP50106442 0                 0                "
      ]
     },
     "metadata": {},
     "output_type": "display_data"
    }
   ],
   "source": [
    "head(eqtl$X)"
   ]
  },
  {
   "cell_type": "code",
   "execution_count": 5,
   "id": "remarkable-exception",
   "metadata": {
    "kernel": "SoS"
   },
   "outputs": [
    {
     "data": {
      "text/html": [
       "<style>\n",
       ".dl-inline {width: auto; margin:0; padding: 0}\n",
       ".dl-inline>dt, .dl-inline>dd {float: none; width: auto; display: inline-block}\n",
       ".dl-inline>dt::after {content: \":\\0020\"; padding-right: .5ex}\n",
       ".dl-inline>dt:not(:first-of-type) {padding-left: .5ex}\n",
       "</style><dl class=dl-inline><dt>MAP15387421:MAP15387421</dt><dd>0.501979720853617</dd><dt>MAP22868024:MAP22868024</dt><dd>0.245679287823213</dd><dt>MAP46246604:MAP46246604</dt><dd>-0.0628168771308699</dd><dt>MAP50104134:MAP50104134</dt><dd>-0.536495173109637</dd><dt>MAP50104846:MAP50104846</dt><dd>-0.561434074845749</dd><dt>MAP50106442:MAP50106442</dt><dd>-0.546241697077773</dd></dl>\n"
      ],
      "text/latex": [
       "\\begin{description*}\n",
       "\\item[MAP15387421:MAP15387421] 0.501979720853617\n",
       "\\item[MAP22868024:MAP22868024] 0.245679287823213\n",
       "\\item[MAP46246604:MAP46246604] -0.0628168771308699\n",
       "\\item[MAP50104134:MAP50104134] -0.536495173109637\n",
       "\\item[MAP50104846:MAP50104846] -0.561434074845749\n",
       "\\item[MAP50106442:MAP50106442] -0.546241697077773\n",
       "\\end{description*}\n"
      ],
      "text/markdown": [
       "MAP15387421:MAP15387421\n",
       ":   0.501979720853617MAP22868024:MAP22868024\n",
       ":   0.245679287823213MAP46246604:MAP46246604\n",
       ":   -0.0628168771308699MAP50104134:MAP50104134\n",
       ":   -0.536495173109637MAP50104846:MAP50104846\n",
       ":   -0.561434074845749MAP50106442:MAP50106442\n",
       ":   -0.546241697077773\n",
       "\n"
      ],
      "text/plain": [
       "MAP15387421:MAP15387421 MAP22868024:MAP22868024 MAP46246604:MAP46246604 \n",
       "             0.50197972              0.24567929             -0.06281688 \n",
       "MAP50104134:MAP50104134 MAP50104846:MAP50104846 MAP50106442:MAP50106442 \n",
       "            -0.53649517             -0.56143407             -0.54624170 "
      ]
     },
     "metadata": {},
     "output_type": "display_data"
    }
   ],
   "source": [
    "head(eqtl$y_res)"
   ]
  },
  {
   "cell_type": "code",
   "execution_count": 6,
   "id": "welcome-power",
   "metadata": {
    "kernel": "SoS"
   },
   "outputs": [
    {
     "data": {
      "text/html": [
       "<style>\n",
       ".list-inline {list-style: none; margin:0; padding: 0}\n",
       ".list-inline>li {display: inline-block}\n",
       ".list-inline>li:not(:last-child)::after {content: \"\\00b7\"; padding: 0 .5ex}\n",
       "</style>\n",
       "<ol class=list-inline><li>415</li><li>2828</li></ol>\n"
      ],
      "text/latex": [
       "\\begin{enumerate*}\n",
       "\\item 415\n",
       "\\item 2828\n",
       "\\end{enumerate*}\n"
      ],
      "text/markdown": [
       "1. 415\n",
       "2. 2828\n",
       "\n",
       "\n"
      ],
      "text/plain": [
       "[1]  415 2828"
      ]
     },
     "metadata": {},
     "output_type": "display_data"
    }
   ],
   "source": [
    "dim(eqtl$X)"
   ]
  },
  {
   "cell_type": "markdown",
   "id": "nutritional-baseline",
   "metadata": {
    "kernel": "SoS"
   },
   "source": [
    "## Fine-mapping using SuSiE\n",
    "\n",
    "In FunGen-xQTL we have a [simple pipeline](https://github.com/cumc/xqtl-pipeline/blob/main/code/fine_mapping/SuSiE/SuSiE.ipynb) for this."
   ]
  },
  {
   "cell_type": "code",
   "execution_count": 7,
   "id": "packed-canyon",
   "metadata": {
    "kernel": "SoS"
   },
   "outputs": [
    {
     "name": "stderr",
     "output_type": "stream",
     "text": [
      "Warning message:\n",
      "“replacing previous import ‘ellipsis::check_dots_unnamed’ by ‘rlang::check_dots_unnamed’ when loading ‘hms’”\n",
      "Warning message:\n",
      "“replacing previous import ‘ellipsis::check_dots_used’ by ‘rlang::check_dots_used’ when loading ‘hms’”\n",
      "Warning message:\n",
      "“replacing previous import ‘ellipsis::check_dots_empty’ by ‘rlang::check_dots_empty’ when loading ‘hms’”\n",
      "── \u001b[1mAttaching packages\u001b[22m ─────────────────────────────────────── tidyverse 1.3.0 ──\n",
      "\n",
      "\u001b[32m✔\u001b[39m \u001b[34mggplot2\u001b[39m 3.4.3     \u001b[32m✔\u001b[39m \u001b[34mpurrr  \u001b[39m 0.3.4\n",
      "\u001b[32m✔\u001b[39m \u001b[34mtibble \u001b[39m 3.2.1     \u001b[32m✔\u001b[39m \u001b[34mdplyr  \u001b[39m 1.0.2\n",
      "\u001b[32m✔\u001b[39m \u001b[34mtidyr  \u001b[39m 1.0.3     \u001b[32m✔\u001b[39m \u001b[34mstringr\u001b[39m 1.4.0\n",
      "\u001b[32m✔\u001b[39m \u001b[34mreadr  \u001b[39m 1.3.1     \u001b[32m✔\u001b[39m \u001b[34mforcats\u001b[39m 0.5.0\n",
      "\n",
      "── \u001b[1mConflicts\u001b[22m ────────────────────────────────────────── tidyverse_conflicts() ──\n",
      "\u001b[31m✖\u001b[39m \u001b[34mdplyr\u001b[39m::\u001b[32mfilter()\u001b[39m masks \u001b[34mstats\u001b[39m::filter()\n",
      "\u001b[31m✖\u001b[39m \u001b[34mdplyr\u001b[39m::\u001b[32mlag()\u001b[39m    masks \u001b[34mstats\u001b[39m::lag()\n",
      "\n"
     ]
    }
   ],
   "source": [
    "library(susieR)\n",
    "library(tidyverse)\n",
    "get_cs_index <- function(snps_idx, fitted_data) {\n",
    "    idx <- tryCatch(\n",
    "        which(\n",
    "            pmap(list(a = fitted_data$sets$cs), function(a) snps_idx %in% a) %>% unlist()\n",
    "        ),\n",
    "        error = function(e) NA_integer_\n",
    "    )\n",
    "    if(length(idx) == 0) return(NA_integer_)\n",
    "    return(idx)\n",
    "}\n",
    "signal_cutoff = 0.1\n",
    "coverage = 0.7\n",
    "susie_res <- susie(eqtl$X, eqtl$y_res, \n",
    "                 L=20,\n",
    "                 max_iter=500,\n",
    "                 estimate_residual_variance=TRUE,\n",
    "                 estimate_prior_variance=TRUE,\n",
    "                 refine=TRUE,\n",
    "                 compute_univariate_zscore=FALSE,\n",
    "                 coverage=coverage)"
   ]
  },
  {
   "cell_type": "code",
   "execution_count": 8,
   "id": "contained-handy",
   "metadata": {
    "kernel": "SoS"
   },
   "outputs": [],
   "source": [
    "secondary_coverage = 0.2\n",
    "susie_res$sets_secondary = susie_get_cs(susie_res, eqtl$X, coverage=secondary_coverage)"
   ]
  },
  {
   "cell_type": "code",
   "execution_count": 9,
   "id": "advanced-wrestling",
   "metadata": {
    "kernel": "SoS"
   },
   "outputs": [],
   "source": [
    "compute_maf <- function(geno){\n",
    "  f <- mean(geno,na.rm = TRUE)/2\n",
    "  return(min(f, 1-f))\n",
    "}\n",
    "variants_index = c(which(susie_res$pip >= signal_cutoff), unlist(susie_res$sets$cs)) %>% unique %>% sort\n",
    "maf = apply(eqtl$X, 2, compute_maf)[variants_index]\n",
    "all_variants = gsub(\"_\",\":\",names(susie_res$pip))\n",
    "variants = gsub(\"_\",\":\",names(susie_res$pip)[variants_index])\n",
    "pip = susie_res$pip[variants_index]\n",
    "cs_info = map_int(variants_index, ~get_cs_index(.x, susie_res))\n",
    "cs_index = ifelse(is.na(cs_info), 0, str_replace(names(susie_res$sets$cs)[cs_info], \"L\", \"\") %>% as.numeric)\n",
    "univariate_res = univariate_regression(eqtl$X[, variants_index, drop=F], eqtl$y_res)\n",
    "# here betahat and sebetahat were computed from standardized X and Y\n",
    "susie_res$top_loci = cbind(variants, maf, univariate_res$betahat, univariate_res$sebetahat, pip, cs_index)\n",
    "colnames(susie_res$top_loci) = c(\"variant_id\", \"maf\", \"bhat\", \"sbhat\", \"pip\", \"cs_index_primary\")#, \"cs_index_secondary\")\n",
    "rownames(susie_res$top_loci) = NULL"
   ]
  },
  {
   "cell_type": "code",
   "execution_count": 10,
   "id": "higher-cameroon",
   "metadata": {
    "kernel": "SoS"
   },
   "outputs": [
    {
     "data": {
      "text/html": [
       "<table>\n",
       "<caption>A matrix: 15 × 6 of type chr</caption>\n",
       "<thead>\n",
       "\t<tr><th scope=col>variant_id</th><th scope=col>maf</th><th scope=col>bhat</th><th scope=col>sbhat</th><th scope=col>pip</th><th scope=col>cs_index_primary</th></tr>\n",
       "</thead>\n",
       "<tbody>\n",
       "\t<tr><td>chr8:27596246:C:T</td><td>0.278313253012048</td><td>-0.122514739342209</td><td>0.0249868671221125</td><td>0.144496973204548 </td><td>0</td></tr>\n",
       "\t<tr><td>chr8:27724254:C:T</td><td>0.472289156626506</td><td>0.146350893456887 </td><td>0.0235695850612729</td><td>0.044266347614216 </td><td>1</td></tr>\n",
       "\t<tr><td>chr8:27724508:A:C</td><td>0.472289156626506</td><td>0.146350893456887 </td><td>0.0235695850612729</td><td>0.044266347614216 </td><td>1</td></tr>\n",
       "\t<tr><td>chr8:27728910:A:G</td><td>0.469879518072289</td><td>0.146101325781137 </td><td>0.0235890553342029</td><td>0.03949625295586  </td><td>1</td></tr>\n",
       "\t<tr><td>chr8:27729588:C:T</td><td>0.471084337349398</td><td>0.145082188952344 </td><td>0.0235285991106962</td><td>0.0345101547656025</td><td>1</td></tr>\n",
       "\t<tr><td>chr8:27732510:A:G</td><td>0.472289156626506</td><td>0.147441999306526 </td><td>0.0234182228577676</td><td>0.0684513651185077</td><td>1</td></tr>\n",
       "\t<tr><td>chr8:27734332:G:A</td><td>0.497590361445783</td><td>0.14373324203229  </td><td>0.0230653145891427</td><td>0.0663490510604041</td><td>1</td></tr>\n",
       "\t<tr><td>chr8:27737583:T:C</td><td>0.496385542168675</td><td>0.142163759153291 </td><td>0.0231535224323869</td><td>0.0411110622607239</td><td>1</td></tr>\n",
       "\t<tr><td>chr8:27737848:G:A</td><td>0.497590361445783</td><td>0.14373324203229  </td><td>0.0230653145891427</td><td>0.0663490510604041</td><td>1</td></tr>\n",
       "\t<tr><td>chr8:27740783:C:T</td><td>0.497590361445783</td><td>0.14373324203229  </td><td>0.0230653145891427</td><td>0.0663490510604043</td><td>1</td></tr>\n",
       "\t<tr><td>chr8:27743285:C:A</td><td>0.497590361445783</td><td>0.14373324203229  </td><td>0.0230653145891427</td><td>0.0663490510604041</td><td>1</td></tr>\n",
       "\t<tr><td>chr8:27745710:C:T</td><td>0.473493975903614</td><td>0.148379062725204 </td><td>0.0234638029050504</td><td>0.076963100475587 </td><td>1</td></tr>\n",
       "\t<tr><td>chr8:27745749:C:T</td><td>0.497590361445783</td><td>0.141364354229342 </td><td>0.0231007359525088</td><td>0.0363654788434328</td><td>1</td></tr>\n",
       "\t<tr><td>chr8:27752021:G:A</td><td>0.49993728060858 </td><td>0.141437506070959 </td><td>0.0230989526643856</td><td>0.0363658594454672</td><td>1</td></tr>\n",
       "\t<tr><td>chr8:27755495:T:C</td><td>0.474698795180723</td><td>0.144921704020173 </td><td>0.0234421257080182</td><td>0.0365496708556206</td><td>1</td></tr>\n",
       "</tbody>\n",
       "</table>\n"
      ],
      "text/latex": [
       "A matrix: 15 × 6 of type chr\n",
       "\\begin{tabular}{llllll}\n",
       " variant\\_id & maf & bhat & sbhat & pip & cs\\_index\\_primary\\\\\n",
       "\\hline\n",
       "\t chr8:27596246:C:T & 0.278313253012048 & -0.122514739342209 & 0.0249868671221125 & 0.144496973204548  & 0\\\\\n",
       "\t chr8:27724254:C:T & 0.472289156626506 & 0.146350893456887  & 0.0235695850612729 & 0.044266347614216  & 1\\\\\n",
       "\t chr8:27724508:A:C & 0.472289156626506 & 0.146350893456887  & 0.0235695850612729 & 0.044266347614216  & 1\\\\\n",
       "\t chr8:27728910:A:G & 0.469879518072289 & 0.146101325781137  & 0.0235890553342029 & 0.03949625295586   & 1\\\\\n",
       "\t chr8:27729588:C:T & 0.471084337349398 & 0.145082188952344  & 0.0235285991106962 & 0.0345101547656025 & 1\\\\\n",
       "\t chr8:27732510:A:G & 0.472289156626506 & 0.147441999306526  & 0.0234182228577676 & 0.0684513651185077 & 1\\\\\n",
       "\t chr8:27734332:G:A & 0.497590361445783 & 0.14373324203229   & 0.0230653145891427 & 0.0663490510604041 & 1\\\\\n",
       "\t chr8:27737583:T:C & 0.496385542168675 & 0.142163759153291  & 0.0231535224323869 & 0.0411110622607239 & 1\\\\\n",
       "\t chr8:27737848:G:A & 0.497590361445783 & 0.14373324203229   & 0.0230653145891427 & 0.0663490510604041 & 1\\\\\n",
       "\t chr8:27740783:C:T & 0.497590361445783 & 0.14373324203229   & 0.0230653145891427 & 0.0663490510604043 & 1\\\\\n",
       "\t chr8:27743285:C:A & 0.497590361445783 & 0.14373324203229   & 0.0230653145891427 & 0.0663490510604041 & 1\\\\\n",
       "\t chr8:27745710:C:T & 0.473493975903614 & 0.148379062725204  & 0.0234638029050504 & 0.076963100475587  & 1\\\\\n",
       "\t chr8:27745749:C:T & 0.497590361445783 & 0.141364354229342  & 0.0231007359525088 & 0.0363654788434328 & 1\\\\\n",
       "\t chr8:27752021:G:A & 0.49993728060858  & 0.141437506070959  & 0.0230989526643856 & 0.0363658594454672 & 1\\\\\n",
       "\t chr8:27755495:T:C & 0.474698795180723 & 0.144921704020173  & 0.0234421257080182 & 0.0365496708556206 & 1\\\\\n",
       "\\end{tabular}\n"
      ],
      "text/markdown": [
       "\n",
       "A matrix: 15 × 6 of type chr\n",
       "\n",
       "| variant_id | maf | bhat | sbhat | pip | cs_index_primary |\n",
       "|---|---|---|---|---|---|\n",
       "| chr8:27596246:C:T | 0.278313253012048 | -0.122514739342209 | 0.0249868671221125 | 0.144496973204548  | 0 |\n",
       "| chr8:27724254:C:T | 0.472289156626506 | 0.146350893456887  | 0.0235695850612729 | 0.044266347614216  | 1 |\n",
       "| chr8:27724508:A:C | 0.472289156626506 | 0.146350893456887  | 0.0235695850612729 | 0.044266347614216  | 1 |\n",
       "| chr8:27728910:A:G | 0.469879518072289 | 0.146101325781137  | 0.0235890553342029 | 0.03949625295586   | 1 |\n",
       "| chr8:27729588:C:T | 0.471084337349398 | 0.145082188952344  | 0.0235285991106962 | 0.0345101547656025 | 1 |\n",
       "| chr8:27732510:A:G | 0.472289156626506 | 0.147441999306526  | 0.0234182228577676 | 0.0684513651185077 | 1 |\n",
       "| chr8:27734332:G:A | 0.497590361445783 | 0.14373324203229   | 0.0230653145891427 | 0.0663490510604041 | 1 |\n",
       "| chr8:27737583:T:C | 0.496385542168675 | 0.142163759153291  | 0.0231535224323869 | 0.0411110622607239 | 1 |\n",
       "| chr8:27737848:G:A | 0.497590361445783 | 0.14373324203229   | 0.0230653145891427 | 0.0663490510604041 | 1 |\n",
       "| chr8:27740783:C:T | 0.497590361445783 | 0.14373324203229   | 0.0230653145891427 | 0.0663490510604043 | 1 |\n",
       "| chr8:27743285:C:A | 0.497590361445783 | 0.14373324203229   | 0.0230653145891427 | 0.0663490510604041 | 1 |\n",
       "| chr8:27745710:C:T | 0.473493975903614 | 0.148379062725204  | 0.0234638029050504 | 0.076963100475587  | 1 |\n",
       "| chr8:27745749:C:T | 0.497590361445783 | 0.141364354229342  | 0.0231007359525088 | 0.0363654788434328 | 1 |\n",
       "| chr8:27752021:G:A | 0.49993728060858  | 0.141437506070959  | 0.0230989526643856 | 0.0363658594454672 | 1 |\n",
       "| chr8:27755495:T:C | 0.474698795180723 | 0.144921704020173  | 0.0234421257080182 | 0.0365496708556206 | 1 |\n",
       "\n"
      ],
      "text/plain": [
       "      variant_id        maf               bhat               sbhat             \n",
       " [1,] chr8:27596246:C:T 0.278313253012048 -0.122514739342209 0.0249868671221125\n",
       " [2,] chr8:27724254:C:T 0.472289156626506 0.146350893456887  0.0235695850612729\n",
       " [3,] chr8:27724508:A:C 0.472289156626506 0.146350893456887  0.0235695850612729\n",
       " [4,] chr8:27728910:A:G 0.469879518072289 0.146101325781137  0.0235890553342029\n",
       " [5,] chr8:27729588:C:T 0.471084337349398 0.145082188952344  0.0235285991106962\n",
       " [6,] chr8:27732510:A:G 0.472289156626506 0.147441999306526  0.0234182228577676\n",
       " [7,] chr8:27734332:G:A 0.497590361445783 0.14373324203229   0.0230653145891427\n",
       " [8,] chr8:27737583:T:C 0.496385542168675 0.142163759153291  0.0231535224323869\n",
       " [9,] chr8:27737848:G:A 0.497590361445783 0.14373324203229   0.0230653145891427\n",
       "[10,] chr8:27740783:C:T 0.497590361445783 0.14373324203229   0.0230653145891427\n",
       "[11,] chr8:27743285:C:A 0.497590361445783 0.14373324203229   0.0230653145891427\n",
       "[12,] chr8:27745710:C:T 0.473493975903614 0.148379062725204  0.0234638029050504\n",
       "[13,] chr8:27745749:C:T 0.497590361445783 0.141364354229342  0.0231007359525088\n",
       "[14,] chr8:27752021:G:A 0.49993728060858  0.141437506070959  0.0230989526643856\n",
       "[15,] chr8:27755495:T:C 0.474698795180723 0.144921704020173  0.0234421257080182\n",
       "      pip                cs_index_primary\n",
       " [1,] 0.144496973204548  0               \n",
       " [2,] 0.044266347614216  1               \n",
       " [3,] 0.044266347614216  1               \n",
       " [4,] 0.03949625295586   1               \n",
       " [5,] 0.0345101547656025 1               \n",
       " [6,] 0.0684513651185077 1               \n",
       " [7,] 0.0663490510604041 1               \n",
       " [8,] 0.0411110622607239 1               \n",
       " [9,] 0.0663490510604041 1               \n",
       "[10,] 0.0663490510604043 1               \n",
       "[11,] 0.0663490510604041 1               \n",
       "[12,] 0.076963100475587  1               \n",
       "[13,] 0.0363654788434328 1               \n",
       "[14,] 0.0363658594454672 1               \n",
       "[15,] 0.0365496708556206 1               "
      ]
     },
     "metadata": {},
     "output_type": "display_data"
    }
   ],
   "source": [
    "susie_res$top_loci # to test you can set it to 1) 0.1 and 0.95 vs 2) 0.1 and 0.2\n",
    "# parameter: default_coverage = 0.95\n",
    "# parameter: secondary_coverage = 0.7\n",
    "# parameter: signal_cutoff = 0.1"
   ]
  },
  {
   "cell_type": "code",
   "execution_count": 11,
   "id": "interpreted-sucking",
   "metadata": {
    "kernel": "SoS"
   },
   "outputs": [
    {
     "data": {
      "text/html": [
       "4.71522854142189e-07"
      ],
      "text/latex": [
       "4.71522854142189e-07"
      ],
      "text/markdown": [
       "4.71522854142189e-07"
      ],
      "text/plain": [
       "[1] 4.715229e-07"
      ]
     },
     "metadata": {},
     "output_type": "display_data"
    }
   ],
   "source": [
    "pnorm(-0.122514739342209/0.0249868671221125)"
   ]
  },
  {
   "cell_type": "markdown",
   "id": "boxed-story",
   "metadata": {
    "kernel": "SoS"
   },
   "source": [
    "PIP of the two SNPs of interest are:"
   ]
  },
  {
   "cell_type": "code",
   "execution_count": 12,
   "id": "egyptian-pressure",
   "metadata": {
    "kernel": "SoS"
   },
   "outputs": [
    {
     "data": {
      "text/html": [
       "<strong>chr8:27608798_C_T:</strong> 0.00602147951325172"
      ],
      "text/latex": [
       "\\textbf{chr8:27608798\\textbackslash{}\\_C\\textbackslash{}\\_T:} 0.00602147951325172"
      ],
      "text/markdown": [
       "**chr8:27608798_C_T:** 0.00602147951325172"
      ],
      "text/plain": [
       "chr8:27608798_C_T \n",
       "       0.00602148 "
      ]
     },
     "metadata": {},
     "output_type": "display_data"
    }
   ],
   "source": [
    "susie_res$pip[\"chr8:27608798_C_T\"]"
   ]
  },
  {
   "cell_type": "code",
   "execution_count": 13,
   "id": "primary-january",
   "metadata": {
    "kernel": "SoS"
   },
   "outputs": [
    {
     "data": {
      "text/html": [
       "<strong>chr8:27637095_G_A:</strong> 0.000459521424368114"
      ],
      "text/latex": [
       "\\textbf{chr8:27637095\\textbackslash{}\\_G\\textbackslash{}\\_A:} 0.000459521424368114"
      ],
      "text/markdown": [
       "**chr8:27637095_G_A:** 0.000459521424368114"
      ],
      "text/plain": [
       "chr8:27637095_G_A \n",
       "     0.0004595214 "
      ]
     },
     "metadata": {},
     "output_type": "display_data"
    }
   ],
   "source": [
    "susie_res$pip[\"chr8:27637095_G_A\"]"
   ]
  },
  {
   "cell_type": "markdown",
   "id": "dedicated-assist",
   "metadata": {
    "kernel": "SoS"
   },
   "source": [
    "## TWAS"
   ]
  },
  {
   "cell_type": "markdown",
   "id": "hungarian-imagination",
   "metadata": {
    "kernel": "SoS"
   },
   "source": [
    "Use SuSiE,"
   ]
  },
  {
   "cell_type": "code",
   "execution_count": 14,
   "id": "associate-austria",
   "metadata": {
    "kernel": "SoS"
   },
   "outputs": [],
   "source": [
    "R = cor(eqtl$X)"
   ]
  },
  {
   "cell_type": "code",
   "execution_count": 41,
   "id": "graduate-aviation",
   "metadata": {
    "kernel": "SoS"
   },
   "outputs": [
    {
     "name": "stderr",
     "output_type": "stream",
     "text": [
      "Loading pecotmr\n",
      "\n"
     ]
    }
   ],
   "source": [
    "devtools::load_all(\"~/GIT/software/pecotmr\")"
   ]
  },
  {
   "cell_type": "code",
   "execution_count": 16,
   "id": "developed-melissa",
   "metadata": {
    "kernel": "SoS"
   },
   "outputs": [],
   "source": [
    "weights = susie_weights(susie_res)"
   ]
  },
  {
   "cell_type": "code",
   "execution_count": 17,
   "id": "departmental-cinema",
   "metadata": {
    "kernel": "SoS"
   },
   "outputs": [
    {
     "data": {
      "text/html": [
       "<dl>\n",
       "\t<dt>$z</dt>\n",
       "\t\t<dd><table>\n",
       "<caption>A matrix: 1 × 1 of type dbl</caption>\n",
       "<tbody>\n",
       "\t<tr><td>-3.07806</td></tr>\n",
       "</tbody>\n",
       "</table>\n",
       "</dd>\n",
       "\t<dt>$pval</dt>\n",
       "\t\t<dd><table>\n",
       "<caption>A matrix: 1 × 1 of type dbl</caption>\n",
       "<tbody>\n",
       "\t<tr><td>0.002083527</td></tr>\n",
       "</tbody>\n",
       "</table>\n",
       "</dd>\n",
       "</dl>\n"
      ],
      "text/latex": [
       "\\begin{description}\n",
       "\\item[\\$z] A matrix: 1 × 1 of type dbl\n",
       "\\begin{tabular}{l}\n",
       "\t -3.07806\\\\\n",
       "\\end{tabular}\n",
       "\n",
       "\\item[\\$pval] A matrix: 1 × 1 of type dbl\n",
       "\\begin{tabular}{l}\n",
       "\t 0.002083527\\\\\n",
       "\\end{tabular}\n",
       "\n",
       "\\end{description}\n"
      ],
      "text/markdown": [
       "$z\n",
       ":   \n",
       "A matrix: 1 × 1 of type dbl\n",
       "\n",
       "| -3.07806 |\n",
       "\n",
       "\n",
       "$pval\n",
       ":   \n",
       "A matrix: 1 × 1 of type dbl\n",
       "\n",
       "| 0.002083527 |\n",
       "\n",
       "\n",
       "\n",
       "\n"
      ],
      "text/plain": [
       "$z\n",
       "         [,1]\n",
       "[1,] -3.07806\n",
       "\n",
       "$pval\n",
       "            [,1]\n",
       "[1,] 0.002083527\n"
      ]
     },
     "metadata": {},
     "output_type": "display_data"
    }
   ],
   "source": [
    "twas_z(weights, gwas$Z, R=R)"
   ]
  },
  {
   "cell_type": "code",
   "execution_count": 18,
   "id": "arbitrary-differential",
   "metadata": {
    "kernel": "SoS"
   },
   "outputs": [
    {
     "data": {
      "text/html": [
       "<table>\n",
       "<caption>A matrix: 1 × 1 of type dbl</caption>\n",
       "<tbody>\n",
       "\t<tr><td>0.1220979</td></tr>\n",
       "</tbody>\n",
       "</table>\n"
      ],
      "text/latex": [
       "A matrix: 1 × 1 of type dbl\n",
       "\\begin{tabular}{l}\n",
       "\t 0.1220979\\\\\n",
       "\\end{tabular}\n"
      ],
      "text/markdown": [
       "\n",
       "A matrix: 1 × 1 of type dbl\n",
       "\n",
       "| 0.1220979 |\n",
       "\n"
      ],
      "text/plain": [
       "     [,1]     \n",
       "[1,] 0.1220979"
      ]
     },
     "metadata": {},
     "output_type": "display_data"
    }
   ],
   "source": [
    "cor(eqtl$X%*%weights, eqtl$y_res)^2"
   ]
  },
  {
   "cell_type": "markdown",
   "id": "metropolitan-bobby",
   "metadata": {
    "kernel": "SoS"
   },
   "source": [
    "Now select only the top loci,"
   ]
  },
  {
   "cell_type": "code",
   "execution_count": 19,
   "id": "superb-coaching",
   "metadata": {
    "kernel": "SoS"
   },
   "outputs": [
    {
     "data": {
      "image/png": "[encoded data removed]",
      "text/plain": [
       "plot without title"
      ]
     },
     "metadata": {
      "image/png": {
       "height": 420,
       "width": 420
      },
      "text/plain": {
       "height": 420,
       "width": 420
      }
     },
     "output_type": "display_data"
    }
   ],
   "source": [
    "plot(weights)"
   ]
  },
  {
   "cell_type": "code",
   "execution_count": 20,
   "id": "hairy-manhattan",
   "metadata": {
    "kernel": "SoS"
   },
   "outputs": [],
   "source": [
    "weights[!all_variants %in% susie_res$top_loci[,1]] = 0"
   ]
  },
  {
   "cell_type": "code",
   "execution_count": 21,
   "id": "floral-motel",
   "metadata": {
    "kernel": "SoS"
   },
   "outputs": [
    {
     "data": {
      "image/png": "[encoded data removed]",
      "text/plain": [
       "plot without title"
      ]
     },
     "metadata": {
      "image/png": {
       "height": 420,
       "width": 420
      },
      "text/plain": {
       "height": 420,
       "width": 420
      }
     },
     "output_type": "display_data"
    }
   ],
   "source": [
    "plot(weights)"
   ]
  },
  {
   "cell_type": "code",
   "execution_count": 22,
   "id": "starting-finance",
   "metadata": {
    "kernel": "SoS"
   },
   "outputs": [
    {
     "data": {
      "text/html": [
       "<dl>\n",
       "\t<dt>$z</dt>\n",
       "\t\t<dd><table>\n",
       "<caption>A matrix: 1 × 1 of type dbl</caption>\n",
       "<tbody>\n",
       "\t<tr><td>-2.438249</td></tr>\n",
       "</tbody>\n",
       "</table>\n",
       "</dd>\n",
       "\t<dt>$pval</dt>\n",
       "\t\t<dd><table>\n",
       "<caption>A matrix: 1 × 1 of type dbl</caption>\n",
       "<tbody>\n",
       "\t<tr><td>0.01475859</td></tr>\n",
       "</tbody>\n",
       "</table>\n",
       "</dd>\n",
       "</dl>\n"
      ],
      "text/latex": [
       "\\begin{description}\n",
       "\\item[\\$z] A matrix: 1 × 1 of type dbl\n",
       "\\begin{tabular}{l}\n",
       "\t -2.438249\\\\\n",
       "\\end{tabular}\n",
       "\n",
       "\\item[\\$pval] A matrix: 1 × 1 of type dbl\n",
       "\\begin{tabular}{l}\n",
       "\t 0.01475859\\\\\n",
       "\\end{tabular}\n",
       "\n",
       "\\end{description}\n"
      ],
      "text/markdown": [
       "$z\n",
       ":   \n",
       "A matrix: 1 × 1 of type dbl\n",
       "\n",
       "| -2.438249 |\n",
       "\n",
       "\n",
       "$pval\n",
       ":   \n",
       "A matrix: 1 × 1 of type dbl\n",
       "\n",
       "| 0.01475859 |\n",
       "\n",
       "\n",
       "\n",
       "\n"
      ],
      "text/plain": [
       "$z\n",
       "          [,1]\n",
       "[1,] -2.438249\n",
       "\n",
       "$pval\n",
       "           [,1]\n",
       "[1,] 0.01475859\n"
      ]
     },
     "metadata": {},
     "output_type": "display_data"
    }
   ],
   "source": [
    "twas_z(weights, gwas$Z, R=R)"
   ]
  },
  {
   "cell_type": "markdown",
   "id": "fitting-cheese",
   "metadata": {
    "kernel": "SoS"
   },
   "source": [
    "Use elastic net"
   ]
  },
  {
   "cell_type": "code",
   "execution_count": 23,
   "id": "unnecessary-earthquake",
   "metadata": {
    "kernel": "SoS"
   },
   "outputs": [
    {
     "data": {
      "text/html": [
       "<table>\n",
       "<caption>A matrix: 1 × 1 of type dbl</caption>\n",
       "<tbody>\n",
       "\t<tr><td>0.1612689</td></tr>\n",
       "</tbody>\n",
       "</table>\n"
      ],
      "text/latex": [
       "A matrix: 1 × 1 of type dbl\n",
       "\\begin{tabular}{l}\n",
       "\t 0.1612689\\\\\n",
       "\\end{tabular}\n"
      ],
      "text/markdown": [
       "\n",
       "A matrix: 1 × 1 of type dbl\n",
       "\n",
       "| 0.1612689 |\n",
       "\n"
      ],
      "text/plain": [
       "     [,1]     \n",
       "[1,] 0.1612689"
      ]
     },
     "metadata": {},
     "output_type": "display_data"
    },
    {
     "data": {
      "text/html": [
       "<dl>\n",
       "\t<dt>$z</dt>\n",
       "\t\t<dd><table>\n",
       "<caption>A matrix: 1 × 1 of type dbl</caption>\n",
       "<tbody>\n",
       "\t<tr><td>-4.259195</td></tr>\n",
       "</tbody>\n",
       "</table>\n",
       "</dd>\n",
       "\t<dt>$pval</dt>\n",
       "\t\t<dd><table>\n",
       "<caption>A matrix: 1 × 1 of type dbl</caption>\n",
       "<tbody>\n",
       "\t<tr><td>2.05164e-05</td></tr>\n",
       "</tbody>\n",
       "</table>\n",
       "</dd>\n",
       "</dl>\n"
      ],
      "text/latex": [
       "\\begin{description}\n",
       "\\item[\\$z] A matrix: 1 × 1 of type dbl\n",
       "\\begin{tabular}{l}\n",
       "\t -4.259195\\\\\n",
       "\\end{tabular}\n",
       "\n",
       "\\item[\\$pval] A matrix: 1 × 1 of type dbl\n",
       "\\begin{tabular}{l}\n",
       "\t 2.05164e-05\\\\\n",
       "\\end{tabular}\n",
       "\n",
       "\\end{description}\n"
      ],
      "text/markdown": [
       "$z\n",
       ":   \n",
       "A matrix: 1 × 1 of type dbl\n",
       "\n",
       "| -4.259195 |\n",
       "\n",
       "\n",
       "$pval\n",
       ":   \n",
       "A matrix: 1 × 1 of type dbl\n",
       "\n",
       "| 2.05164e-05 |\n",
       "\n",
       "\n",
       "\n",
       "\n"
      ],
      "text/plain": [
       "$z\n",
       "          [,1]\n",
       "[1,] -4.259195\n",
       "\n",
       "$pval\n",
       "            [,1]\n",
       "[1,] 2.05164e-05\n"
      ]
     },
     "metadata": {},
     "output_type": "display_data"
    }
   ],
   "source": [
    "weights = glmnet_weights(eqtl$X, eqtl$y_res)\n",
    "cor(eqtl$X%*%weights, eqtl$y_res)^2\n",
    "twas_z(weights, gwas$Z, R=R)"
   ]
  },
  {
   "cell_type": "code",
   "execution_count": 24,
   "id": "historical-walnut",
   "metadata": {
    "kernel": "SoS"
   },
   "outputs": [
    {
     "data": {
      "image/png": "[encoded data removed]",
      "text/plain": [
       "plot without title"
      ]
     },
     "metadata": {
      "image/png": {
       "height": 420,
       "width": 420
      },
      "text/plain": {
       "height": 420,
       "width": 420
      }
     },
     "output_type": "display_data"
    }
   ],
   "source": [
    "plot(weights)"
   ]
  },
  {
   "cell_type": "markdown",
   "id": "thrown-schedule",
   "metadata": {
    "kernel": "SoS"
   },
   "source": [
    "Use LASSO,"
   ]
  },
  {
   "cell_type": "code",
   "execution_count": 25,
   "id": "spread-injection",
   "metadata": {
    "kernel": "SoS"
   },
   "outputs": [
    {
     "data": {
      "text/html": [
       "<table>\n",
       "<caption>A matrix: 1 × 1 of type dbl</caption>\n",
       "<tbody>\n",
       "\t<tr><td>0.2566184</td></tr>\n",
       "</tbody>\n",
       "</table>\n"
      ],
      "text/latex": [
       "A matrix: 1 × 1 of type dbl\n",
       "\\begin{tabular}{l}\n",
       "\t 0.2566184\\\\\n",
       "\\end{tabular}\n"
      ],
      "text/markdown": [
       "\n",
       "A matrix: 1 × 1 of type dbl\n",
       "\n",
       "| 0.2566184 |\n",
       "\n"
      ],
      "text/plain": [
       "     [,1]     \n",
       "[1,] 0.2566184"
      ]
     },
     "metadata": {},
     "output_type": "display_data"
    },
    {
     "data": {
      "text/html": [
       "<dl>\n",
       "\t<dt>$z</dt>\n",
       "\t\t<dd><table>\n",
       "<caption>A matrix: 1 × 1 of type dbl</caption>\n",
       "<tbody>\n",
       "\t<tr><td>-4.432258</td></tr>\n",
       "</tbody>\n",
       "</table>\n",
       "</dd>\n",
       "\t<dt>$pval</dt>\n",
       "\t\t<dd><table>\n",
       "<caption>A matrix: 1 × 1 of type dbl</caption>\n",
       "<tbody>\n",
       "\t<tr><td>9.325124e-06</td></tr>\n",
       "</tbody>\n",
       "</table>\n",
       "</dd>\n",
       "</dl>\n"
      ],
      "text/latex": [
       "\\begin{description}\n",
       "\\item[\\$z] A matrix: 1 × 1 of type dbl\n",
       "\\begin{tabular}{l}\n",
       "\t -4.432258\\\\\n",
       "\\end{tabular}\n",
       "\n",
       "\\item[\\$pval] A matrix: 1 × 1 of type dbl\n",
       "\\begin{tabular}{l}\n",
       "\t 9.325124e-06\\\\\n",
       "\\end{tabular}\n",
       "\n",
       "\\end{description}\n"
      ],
      "text/markdown": [
       "$z\n",
       ":   \n",
       "A matrix: 1 × 1 of type dbl\n",
       "\n",
       "| -4.432258 |\n",
       "\n",
       "\n",
       "$pval\n",
       ":   \n",
       "A matrix: 1 × 1 of type dbl\n",
       "\n",
       "| 9.325124e-06 |\n",
       "\n",
       "\n",
       "\n",
       "\n"
      ],
      "text/plain": [
       "$z\n",
       "          [,1]\n",
       "[1,] -4.432258\n",
       "\n",
       "$pval\n",
       "             [,1]\n",
       "[1,] 9.325124e-06\n"
      ]
     },
     "metadata": {},
     "output_type": "display_data"
    }
   ],
   "source": [
    "weights = glmnet_weights(eqtl$X, eqtl$y_res,alpha=1)\n",
    "cor(eqtl$X%*%weights, eqtl$y_res)^2\n",
    "twas_z(weights, gwas$Z, R=R)"
   ]
  },
  {
   "cell_type": "code",
   "execution_count": 26,
   "id": "sustained-thermal",
   "metadata": {
    "kernel": "SoS"
   },
   "outputs": [
    {
     "data": {
      "image/png": "[encoded data removed]",
      "text/plain": [
       "plot without title"
      ]
     },
     "metadata": {
      "image/png": {
       "height": 420,
       "width": 420
      },
      "text/plain": {
       "height": 420,
       "width": 420
      }
     },
     "output_type": "display_data"
    }
   ],
   "source": [
    "plot(weights)"
   ]
  },
  {
   "cell_type": "markdown",
   "id": "possible-thumbnail",
   "metadata": {
    "kernel": "SoS"
   },
   "source": [
    "Use varbvs,"
   ]
  },
  {
   "cell_type": "code",
   "execution_count": 27,
   "id": "royal-glasgow",
   "metadata": {
    "kernel": "SoS"
   },
   "outputs": [
    {
     "name": "stdout",
     "output_type": "stream",
     "text": [
      "          [,1]\n",
      "[1,] 0.1359204\n"
     ]
    },
    {
     "data": {
      "text/html": [
       "<dl>\n",
       "\t<dt>$z</dt>\n",
       "\t\t<dd><table>\n",
       "<caption>A matrix: 1 × 1 of type dbl</caption>\n",
       "<tbody>\n",
       "\t<tr><td>-2.406905</td></tr>\n",
       "</tbody>\n",
       "</table>\n",
       "</dd>\n",
       "\t<dt>$pval</dt>\n",
       "\t\t<dd><table>\n",
       "<caption>A matrix: 1 × 1 of type dbl</caption>\n",
       "<tbody>\n",
       "\t<tr><td>0.01608834</td></tr>\n",
       "</tbody>\n",
       "</table>\n",
       "</dd>\n",
       "</dl>\n"
      ],
      "text/latex": [
       "\\begin{description}\n",
       "\\item[\\$z] A matrix: 1 × 1 of type dbl\n",
       "\\begin{tabular}{l}\n",
       "\t -2.406905\\\\\n",
       "\\end{tabular}\n",
       "\n",
       "\\item[\\$pval] A matrix: 1 × 1 of type dbl\n",
       "\\begin{tabular}{l}\n",
       "\t 0.01608834\\\\\n",
       "\\end{tabular}\n",
       "\n",
       "\\end{description}\n"
      ],
      "text/markdown": [
       "$z\n",
       ":   \n",
       "A matrix: 1 × 1 of type dbl\n",
       "\n",
       "| -2.406905 |\n",
       "\n",
       "\n",
       "$pval\n",
       ":   \n",
       "A matrix: 1 × 1 of type dbl\n",
       "\n",
       "| 0.01608834 |\n",
       "\n",
       "\n",
       "\n",
       "\n"
      ],
      "text/plain": [
       "$z\n",
       "          [,1]\n",
       "[1,] -2.406905\n",
       "\n",
       "$pval\n",
       "           [,1]\n",
       "[1,] 0.01608834\n"
      ]
     },
     "metadata": {},
     "output_type": "display_data"
    }
   ],
   "source": [
    "library(varbvs)\n",
    "twas_varbvs = function(X,y,z,R=NULL) {\n",
    "    if (is.null(R)) R = cor(X)\n",
    "    weights = varbvs(X,Z=NULL,y,logodds = seq(-3,-1,0.1),verbose=F)$beta\n",
    "    print(cor(X%*%weights, y)^2)\n",
    "    twas_z(weights, z, R)\n",
    "}\n",
    "\n",
    "twas_varbvs(eqtl$X,eqtl$y_res, gwas$Z, R=R)"
   ]
  },
  {
   "cell_type": "markdown",
   "id": "forbidden-inflation",
   "metadata": {
    "kernel": "SoS"
   },
   "source": [
    "Use mr.ash"
   ]
  },
  {
   "cell_type": "code",
   "execution_count": 42,
   "id": "mysterious-fight",
   "metadata": {
    "kernel": "SoS"
   },
   "outputs": [
    {
     "name": "stdout",
     "output_type": "stream",
     "text": [
      "Mr.ASH terminated at iteration 85.\n"
     ]
    },
    {
     "data": {
      "text/html": [
       "<table>\n",
       "<caption>A matrix: 1 × 1 of type dbl</caption>\n",
       "<tbody>\n",
       "\t<tr><td>0.1816391</td></tr>\n",
       "</tbody>\n",
       "</table>\n"
      ],
      "text/latex": [
       "A matrix: 1 × 1 of type dbl\n",
       "\\begin{tabular}{l}\n",
       "\t 0.1816391\\\\\n",
       "\\end{tabular}\n"
      ],
      "text/markdown": [
       "\n",
       "A matrix: 1 × 1 of type dbl\n",
       "\n",
       "| 0.1816391 |\n",
       "\n"
      ],
      "text/plain": [
       "     [,1]     \n",
       "[1,] 0.1816391"
      ]
     },
     "metadata": {},
     "output_type": "display_data"
    },
    {
     "data": {
      "text/html": [
       "<dl>\n",
       "\t<dt>$z</dt>\n",
       "\t\t<dd><table>\n",
       "<caption>A matrix: 1 × 1 of type dbl</caption>\n",
       "<tbody>\n",
       "\t<tr><td>-3.176755</td></tr>\n",
       "</tbody>\n",
       "</table>\n",
       "</dd>\n",
       "\t<dt>$pval</dt>\n",
       "\t\t<dd><table>\n",
       "<caption>A matrix: 1 × 1 of type dbl</caption>\n",
       "<tbody>\n",
       "\t<tr><td>0.001489329</td></tr>\n",
       "</tbody>\n",
       "</table>\n",
       "</dd>\n",
       "</dl>\n"
      ],
      "text/latex": [
       "\\begin{description}\n",
       "\\item[\\$z] A matrix: 1 × 1 of type dbl\n",
       "\\begin{tabular}{l}\n",
       "\t -3.176755\\\\\n",
       "\\end{tabular}\n",
       "\n",
       "\\item[\\$pval] A matrix: 1 × 1 of type dbl\n",
       "\\begin{tabular}{l}\n",
       "\t 0.001489329\\\\\n",
       "\\end{tabular}\n",
       "\n",
       "\\end{description}\n"
      ],
      "text/markdown": [
       "$z\n",
       ":   \n",
       "A matrix: 1 × 1 of type dbl\n",
       "\n",
       "| -3.176755 |\n",
       "\n",
       "\n",
       "$pval\n",
       ":   \n",
       "A matrix: 1 × 1 of type dbl\n",
       "\n",
       "| 0.001489329 |\n",
       "\n",
       "\n",
       "\n",
       "\n"
      ],
      "text/plain": [
       "$z\n",
       "          [,1]\n",
       "[1,] -3.176755\n",
       "\n",
       "$pval\n",
       "            [,1]\n",
       "[1,] 0.001489329\n"
      ]
     },
     "metadata": {},
     "output_type": "display_data"
    }
   ],
   "source": [
    "lasso.weights = glmnet_weights(eqtl$X, eqtl$y_res,alpha=1)\n",
    "weights = mr_ash_weights(eqtl$X, eqtl$y_res, init_prior_sd=TRUE, beta.init=lasso.weights)\n",
    "cor(eqtl$X%*%weights, eqtl$y_res)^2\n",
    "twas_z(weights, gwas$Z, R=R)"
   ]
  },
  {
   "cell_type": "code",
   "execution_count": 43,
   "id": "intellectual-hanging",
   "metadata": {
    "kernel": "SoS"
   },
   "outputs": [
    {
     "data": {
      "image/png": "[encoded data removed]",
      "text/plain": [
       "plot without title"
      ]
     },
     "metadata": {
      "image/png": {
       "height": 420,
       "width": 420
      },
      "text/plain": {
       "height": 420,
       "width": 420
      }
     },
     "output_type": "display_data"
    }
   ],
   "source": [
    "plot(weights)"
   ]
  },
  {
   "cell_type": "code",
   "execution_count": 44,
   "id": "velvet-omaha",
   "metadata": {
    "kernel": "SoS"
   },
   "outputs": [
    {
     "name": "stdout",
     "output_type": "stream",
     "text": [
      "Mr.ASH terminated at iteration 50.\n"
     ]
    },
    {
     "data": {
      "text/html": [
       "<table>\n",
       "<caption>A matrix: 1 × 1 of type dbl</caption>\n",
       "<tbody>\n",
       "\t<tr><td>0.1821173</td></tr>\n",
       "</tbody>\n",
       "</table>\n"
      ],
      "text/latex": [
       "A matrix: 1 × 1 of type dbl\n",
       "\\begin{tabular}{l}\n",
       "\t 0.1821173\\\\\n",
       "\\end{tabular}\n"
      ],
      "text/markdown": [
       "\n",
       "A matrix: 1 × 1 of type dbl\n",
       "\n",
       "| 0.1821173 |\n",
       "\n"
      ],
      "text/plain": [
       "     [,1]     \n",
       "[1,] 0.1821173"
      ]
     },
     "metadata": {},
     "output_type": "display_data"
    },
    {
     "data": {
      "text/html": [
       "<dl>\n",
       "\t<dt>$z</dt>\n",
       "\t\t<dd><table>\n",
       "<caption>A matrix: 1 × 1 of type dbl</caption>\n",
       "<tbody>\n",
       "\t<tr><td>-3.383475</td></tr>\n",
       "</tbody>\n",
       "</table>\n",
       "</dd>\n",
       "\t<dt>$pval</dt>\n",
       "\t\t<dd><table>\n",
       "<caption>A matrix: 1 × 1 of type dbl</caption>\n",
       "<tbody>\n",
       "\t<tr><td>0.000715748</td></tr>\n",
       "</tbody>\n",
       "</table>\n",
       "</dd>\n",
       "</dl>\n"
      ],
      "text/latex": [
       "\\begin{description}\n",
       "\\item[\\$z] A matrix: 1 × 1 of type dbl\n",
       "\\begin{tabular}{l}\n",
       "\t -3.383475\\\\\n",
       "\\end{tabular}\n",
       "\n",
       "\\item[\\$pval] A matrix: 1 × 1 of type dbl\n",
       "\\begin{tabular}{l}\n",
       "\t 0.000715748\\\\\n",
       "\\end{tabular}\n",
       "\n",
       "\\end{description}\n"
      ],
      "text/markdown": [
       "$z\n",
       ":   \n",
       "A matrix: 1 × 1 of type dbl\n",
       "\n",
       "| -3.383475 |\n",
       "\n",
       "\n",
       "$pval\n",
       ":   \n",
       "A matrix: 1 × 1 of type dbl\n",
       "\n",
       "| 0.000715748 |\n",
       "\n",
       "\n",
       "\n",
       "\n"
      ],
      "text/plain": [
       "$z\n",
       "          [,1]\n",
       "[1,] -3.383475\n",
       "\n",
       "$pval\n",
       "            [,1]\n",
       "[1,] 0.000715748\n"
      ]
     },
     "metadata": {},
     "output_type": "display_data"
    }
   ],
   "source": [
    "weights = mr_ash_weights(eqtl$X, eqtl$y_res, init_prior_sd=FALSE, beta.init=lasso.weights)\n",
    "cor(eqtl$X%*%weights, eqtl$y_res)^2\n",
    "twas_z(weights, gwas$Z, R=R)"
   ]
  },
  {
   "cell_type": "code",
   "execution_count": 45,
   "id": "informational-musical",
   "metadata": {
    "kernel": "SoS"
   },
   "outputs": [
    {
     "data": {
      "image/png": "[encoded data removed]",
      "text/plain": [
       "plot without title"
      ]
     },
     "metadata": {
      "image/png": {
       "height": 420,
       "width": 420
      },
      "text/plain": {
       "height": 420,
       "width": 420
      }
     },
     "output_type": "display_data"
    }
   ],
   "source": [
    "plot(weights)"
   ]
  }
 ],
 "metadata": {
  "kernelspec": {
   "display_name": "R",
   "language": "R",
   "name": "ir"
  },
  "language_info": {
   "codemirror_mode": "r",
   "file_extension": ".r",
   "mimetype": "text/x-r-source",
   "name": "R",
   "pygments_lexer": "r",
   "version": "3.6.3"
  },
  "sos": {
   "kernels": [
    [
     "SoS",
     "sos",
     "",
     ""
    ]
   ],
   "version": "0.22.4"
  }
 },
 "nbformat": 4,
 "nbformat_minor": 5
}
