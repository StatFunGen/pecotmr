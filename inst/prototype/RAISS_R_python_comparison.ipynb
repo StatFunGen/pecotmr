{
 "cells": [
  {
   "cell_type": "markdown",
   "id": "b1166d96-61b4-4b7f-8ddf-5c300d98a612",
   "metadata": {
    "kernel": "SoS"
   },
   "source": [
    "## RAISS python version verification"
   ]
  },
  {
   "cell_type": "markdown",
   "id": "37924c21-263f-401e-9fa4-31cdf5901f4f",
   "metadata": {
    "kernel": "SoS"
   },
   "source": [
    "## Overview:\n",
    "    \n",
    "Since the RAISS R code is derived from original python code at https://gitlab.pasteur.fr/statistical-genetics/raiss/-/blob/master/raiss/stat_models.py,\n",
    "To verify that our R code is correct, I use python version to reimplement the result. \n",
    "\n",
    "## Data: \n",
    "\n",
    "The data is from real data of a region with 5565 SNPs, 13 SNPs don't have z scores but LD matrix is available, we try to use RAISS to impute the 13 missing SNPs z score.\n",
    "\n",
    "zscores: `~/RSS_QC/data/python_compare/zt.csv` dimension 5565 * 1\n",
    "LD of known SNPs : `~/RSS_QC/data/python_compare/sig_t.csv`, dimension 5565 * 5565\n",
    "LD of known SNPs and unknown SNPs : `~/RSS_QC/data/python_compare/sig_t.csv`, dimension 13 * 5565\n",
    "\n",
    "\n",
    "## Conclusion:\n",
    "\n",
    "The result using raiss_model function is totally the same. Our R code is correct."
   ]
  },
  {
   "cell_type": "code",
   "execution_count": 43,
   "id": "9703dc15-7a81-46f3-bfc4-53ba1fff5b4b",
   "metadata": {
    "kernel": "SoS",
    "tags": []
   },
   "outputs": [],
   "source": [
    "\"\"\"\n",
    "This module contain the statistical library for imputation.\n",
    "\n",
    "Notation style of matrices subset and vectors are based on the publication:\n",
    "\n",
    "Bogdan Pasaniuc, Noah Zaitlen, Huwenbo Shi, Gaurav Bhatia, Alexander Gusev,\n",
    "Joseph Pickrell, Joel Hirschhorn, David P. Strachan, Nick Patterson,\n",
    "Alkes L. Price;\n",
    "Fast and accurate imputation of summary statistics enhances evidence\n",
    "of functional enrichment, Bioinformatics, Volume 30, Issue 20, 15 October 2014,\n",
    "Pages 2906–2914\n",
    "\n",
    "\"\"\"\n",
    "\n",
    "import numpy as np\n",
    "import scipy as sc\n",
    "import scipy.linalg\n",
    "\n",
    "def compute_mu(sig_i_t, sig_t_inv, zt):\n",
    "    \"\"\"\n",
    "    Compute the estimation of z-score from neighborring snp\n",
    "\n",
    "    Args:\n",
    "        sig_i_t (matrix?) : correlation matrix with line corresponding to\n",
    "        unknown Snp (snp to impute) and column to known SNPs\n",
    "        sig_t_inv (np.ndarray): inverse of the correlation matrix of known\n",
    "        matrix\n",
    "        zt (np.array?): Zscores of known snp\n",
    "    Returns:\n",
    "        mu_i (np.array): a vector of length i containing the estimate of zscore\n",
    "\n",
    "    \"\"\"\n",
    "    return np.dot(sig_i_t, np.dot(sig_t_inv, zt))\n",
    "\n",
    "def compute_var(sig_i_t, sig_t_inv, lamb, batch=True):\n",
    "    \"\"\"\n",
    "    Compute the expected variance of the imputed SNPs\n",
    "    Args:\n",
    "        sig_i_t (matrix?) : correlation matrix with line corresponding to\n",
    "        unknown Snp (snp to impute) and column to known SNPs\n",
    "        sig_t_inv (np.ndarray): inverse of the correlation matrix of known\n",
    "        matrix\n",
    "        lamb (float): regularization term added to matrix\n",
    "\n",
    "    \"\"\"\n",
    "\n",
    "    if batch:\n",
    "        var = (1 + lamb) - np.einsum('ij,jk,ki->i', sig_i_t, sig_t_inv ,sig_i_t.transpose())\n",
    "        ld_score = (sig_i_t**2).sum(1)\n",
    "    else:\n",
    "        var = (1 + lamb) - np.dot(sig_i_t, np.dot(sig_t_inv, sig_i_t.transpose()))\n",
    "        ld_score = (sig_i_t**2).sum()\n",
    "    return var, ld_score\n",
    "\n",
    "def check_inversion(sig_t, sig_t_inv):\n",
    "    return np.allclose(sig_t, np.dot(sig_t, np.dot(sig_t_inv, sig_t)))\n",
    "\n",
    "def var_in_boundaries(var,lamb):\n",
    "    \"\"\"\n",
    "    Forces the variance to be in the 0 to 1+lambda boundary\n",
    "    theoritically we shouldn't have to do that\n",
    "    \"\"\"\n",
    "    id_neg = np.where(var < 0)\n",
    "    var_norm = var\n",
    "    var[id_neg] = 0\n",
    "    id_inf = np.where(var > (0.99999+lamb))\n",
    "    var[id_inf] = 1\n",
    "\n",
    "    return var\n",
    "\n",
    "def invert_sig_t(sig_t, lamb, rtol):\n",
    "    try:\n",
    "        np.fill_diagonal(sig_t, (1+lamb))\n",
    "        sig_t_inv = scipy.linalg.pinv(sig_t, rtol=rtol,atol=0)\n",
    "        return(sig_t_inv)\n",
    "    except np.linalg.LinAlgError:\n",
    "        invert_sig_t(sig_t, lamb*1.1, rtol*1.1)\n",
    "\n",
    "def raiss_model(zt, sig_t, sig_i_t, lamb=0.01, rtol=0.01,  batch=True):\n",
    "    \"\"\"\n",
    "    Compute the variance\n",
    "    Args:\n",
    "        zt (np.array): the vector of known Z scores\n",
    "        sig_t (np.ndarray) : the matrix of known Linkage desiquilibrium\n",
    "         correlation\n",
    "        sig_i_t (np.ndarray): correlation matrix of known matrix\n",
    "        lamb (float): regularization term added to the diagonal of the sig_t matrix\n",
    "        rtol (float): threshold to filter eigenvector with a eigenvalue under rtol\n",
    "        make inversion biased but much more numerically robust\n",
    "    \"\"\"\n",
    "    sig_t_inv = invert_sig_t(sig_t, lamb, rtol)\n",
    "    if sig_t_inv is None:\n",
    "        return None\n",
    "    else:\n",
    "        if batch:\n",
    "            condition_number = np.array([np.linalg.cond(sig_t)]*sig_i_t.shape[0])\n",
    "            correct_inversion = np.array([check_inversion(sig_t, sig_t_inv)]*sig_i_t.shape[0])\n",
    "        else:\n",
    "            condition_number = np.linalg.cond(sig_t)\n",
    "            correct_inversion = check_inversion(sig_t, sig_t_inv)\n",
    "        var, ld_score = compute_var(sig_i_t, sig_t_inv, lamb, batch)\n",
    "\n",
    "        mu = compute_mu(sig_i_t, sig_t_inv, zt)\n",
    "        var_norm = var_in_boundaries(var, lamb)\n",
    "\n",
    "        R2 = ((1+lamb)-var_norm)\n",
    "\n",
    "        mu = mu / np.sqrt(R2)\n",
    "        return({\"var\" : var, \"mu\" : mu, \"ld_score\" : ld_score, \"condition_number\" : condition_number, \"correct_inversion\":correct_inversion })\n"
   ]
  },
  {
   "cell_type": "code",
   "execution_count": 49,
   "id": "21365f72-6abd-419e-be2d-fcd79189b381",
   "metadata": {
    "kernel": "SoS",
    "tags": []
   },
   "outputs": [],
   "source": [
    "import pandas as pd\n",
    "import numpy as np\n",
    "\n",
    "# Read CSV file into a pandas DataFrame\n",
    "zt = pd.read_csv(\"/home/hs3393/RSS_QC/data/python_compare/zt.csv\", header=None)\n",
    "sig_t = pd.read_csv(\"/home/hs3393/RSS_QC/data/python_compare/sig_t.csv\", header=None)\n",
    "sig_i_t = pd.read_csv(\"/home/hs3393/RSS_QC/data/python_compare/sig_i_t.csv\", header=None)\n",
    "\n"
   ]
  },
  {
   "cell_type": "code",
   "execution_count": 77,
   "id": "5ed89735-5a52-4e5e-8b04-c5ffe2c28079",
   "metadata": {
    "kernel": "SoS",
    "tags": []
   },
   "outputs": [],
   "source": [
    "# Convert DataFrame to NumPy ndarray\n",
    "zt = zt.to_numpy()\n",
    "sig_t = sig_t.to_numpy()\n",
    "sig_i_t = sig_i_t.to_numpy()\n",
    "\n",
    "zt = zt.T\n",
    "\n",
    "res = raiss_model(zt, sig_t, sig_i_t, lamb=0.01, rtol=0.01,  batch=True)"
   ]
  },
  {
   "cell_type": "code",
   "execution_count": 78,
   "id": "6d79f344-a126-4948-a960-e7d67430610d",
   "metadata": {
    "kernel": "SoS",
    "tags": []
   },
   "outputs": [
    {
     "data": {
      "text/plain": [
       "{'var': array([0.01560217, 0.02432745, 0.21867454, 0.03558347, 0.19160761,\n",
       "        0.06203065, 0.09720293, 0.03220463, 0.248352  , 0.64194037,\n",
       "        0.02318182, 0.04403999, 0.05428655]),\n",
       " 'mu': array([-3.80199571, -2.69057991,  3.93713591,  6.12016482,  4.47129728,\n",
       "         5.73833363,  5.29888995,  2.29405333, -3.60477839,  0.86846564,\n",
       "        -3.99102852,  2.18083374,  2.5667356 ]),\n",
       " 'ld_score': array([66.06321894, 41.80978648, 16.75226928, 47.68584184, 16.96760059,\n",
       "        39.55272632, 35.21468757, 52.61507398, 20.40925093,  3.80182507,\n",
       "        55.41959595, 49.06049168, 42.36681352]),\n",
       " 'condition_number': array([192331.259663, 192331.259663, 192331.259663, 192331.259663,\n",
       "        192331.259663, 192331.259663, 192331.259663, 192331.259663,\n",
       "        192331.259663, 192331.259663, 192331.259663, 192331.259663,\n",
       "        192331.259663]),\n",
       " 'correct_inversion': array([False, False, False, False, False, False, False, False, False,\n",
       "        False, False, False, False])}"
      ]
     },
     "execution_count": 78,
     "metadata": {},
     "output_type": "execute_result"
    }
   ],
   "source": [
    "res"
   ]
  },
  {
   "cell_type": "markdown",
   "id": "07d9c186-4c20-43d3-9fde-d7ec3002fba0",
   "metadata": {
    "kernel": "SoS"
   },
   "source": [
    "# Compare with R result"
   ]
  },
  {
   "cell_type": "code",
   "execution_count": 4,
   "id": "19a3444a-0ec3-417b-97d1-bb43dd58c183",
   "metadata": {
    "kernel": "R",
    "tags": []
   },
   "outputs": [
    {
     "name": "stderr",
     "output_type": "stream",
     "text": [
      "── \u001b[1mAttaching core tidyverse packages\u001b[22m ──────────────────────── tidyverse 2.0.0 ──\n",
      "\u001b[32m✔\u001b[39m \u001b[34mdplyr    \u001b[39m 1.1.4     \u001b[32m✔\u001b[39m \u001b[34mreadr    \u001b[39m 2.1.5\n",
      "\u001b[32m✔\u001b[39m \u001b[34mforcats  \u001b[39m 1.0.0     \u001b[32m✔\u001b[39m \u001b[34mstringr  \u001b[39m 1.5.1\n",
      "\u001b[32m✔\u001b[39m \u001b[34mggplot2  \u001b[39m 3.5.0     \u001b[32m✔\u001b[39m \u001b[34mtibble   \u001b[39m 3.2.1\n",
      "\u001b[32m✔\u001b[39m \u001b[34mlubridate\u001b[39m 1.9.3     \u001b[32m✔\u001b[39m \u001b[34mtidyr    \u001b[39m 1.3.1\n",
      "\u001b[32m✔\u001b[39m \u001b[34mpurrr    \u001b[39m 1.0.2     \n",
      "── \u001b[1mConflicts\u001b[22m ────────────────────────────────────────── tidyverse_conflicts() ──\n",
      "\u001b[31m✖\u001b[39m \u001b[34mdplyr\u001b[39m::\u001b[32mfilter()\u001b[39m masks \u001b[34mstats\u001b[39m::filter()\n",
      "\u001b[31m✖\u001b[39m \u001b[34mdplyr\u001b[39m::\u001b[32mlag()\u001b[39m    masks \u001b[34mstats\u001b[39m::lag()\n",
      "\u001b[36mℹ\u001b[39m Use the conflicted package (\u001b[3m\u001b[34m<http://conflicted.r-lib.org/>\u001b[39m\u001b[23m) to force all conflicts to become errors\n"
     ]
    }
   ],
   "source": [
    "\n",
    "library(tidyverse)\n",
    "source(\"/home/hs3393/RSS_QC/pecotmr/R/raiss.R\")"
   ]
  },
  {
   "cell_type": "code",
   "execution_count": 11,
   "id": "8c05060a-c0e3-4823-b7c9-95fcc54de82e",
   "metadata": {
    "kernel": "R",
    "tags": []
   },
   "outputs": [],
   "source": [
    "zt = read.csv(\"/home/hs3393/RSS_QC/data/python_compare/zt.csv\", header = F) %>% as.matrix()\n",
    "sig_t = read.csv(\"/home/hs3393/RSS_QC/data/python_compare/sig_t.csv\", header = F) %>% as.matrix()\n",
    "sig_i_t = read.csv(\"/home/hs3393/RSS_QC/data/python_compare/sig_i_t.csv\", header = F) %>% as.matrix()"
   ]
  },
  {
   "cell_type": "code",
   "execution_count": 16,
   "id": "7249d0e1-e202-471d-8a0c-e89270c750a5",
   "metadata": {
    "kernel": "R",
    "tags": []
   },
   "outputs": [
    {
     "data": {
      "text/html": [
       "<style>\n",
       ".list-inline {list-style: none; margin:0; padding: 0}\n",
       ".list-inline>li {display: inline-block}\n",
       ".list-inline>li:not(:last-child)::after {content: \"\\00b7\"; padding: 0 .5ex}\n",
       "</style>\n",
       "<ol class=list-inline><li>5565</li><li>1</li></ol>\n"
      ],
      "text/latex": [
       "\\begin{enumerate*}\n",
       "\\item 5565\n",
       "\\item 1\n",
       "\\end{enumerate*}\n"
      ],
      "text/markdown": [
       "1. 5565\n",
       "2. 1\n",
       "\n",
       "\n"
      ],
      "text/plain": [
       "[1] 5565    1"
      ]
     },
     "metadata": {},
     "output_type": "display_data"
    },
    {
     "data": {
      "text/html": [
       "<style>\n",
       ".list-inline {list-style: none; margin:0; padding: 0}\n",
       ".list-inline>li {display: inline-block}\n",
       ".list-inline>li:not(:last-child)::after {content: \"\\00b7\"; padding: 0 .5ex}\n",
       "</style>\n",
       "<ol class=list-inline><li>5565</li><li>5565</li></ol>\n"
      ],
      "text/latex": [
       "\\begin{enumerate*}\n",
       "\\item 5565\n",
       "\\item 5565\n",
       "\\end{enumerate*}\n"
      ],
      "text/markdown": [
       "1. 5565\n",
       "2. 5565\n",
       "\n",
       "\n"
      ],
      "text/plain": [
       "[1] 5565 5565"
      ]
     },
     "metadata": {},
     "output_type": "display_data"
    },
    {
     "data": {
      "text/html": [
       "<style>\n",
       ".list-inline {list-style: none; margin:0; padding: 0}\n",
       ".list-inline>li {display: inline-block}\n",
       ".list-inline>li:not(:last-child)::after {content: \"\\00b7\"; padding: 0 .5ex}\n",
       "</style>\n",
       "<ol class=list-inline><li>13</li><li>5565</li></ol>\n"
      ],
      "text/latex": [
       "\\begin{enumerate*}\n",
       "\\item 13\n",
       "\\item 5565\n",
       "\\end{enumerate*}\n"
      ],
      "text/markdown": [
       "1. 13\n",
       "2. 5565\n",
       "\n",
       "\n"
      ],
      "text/plain": [
       "[1]   13 5565"
      ]
     },
     "metadata": {},
     "output_type": "display_data"
    }
   ],
   "source": [
    "dim(zt)\n",
    "dim(sig_t)\n",
    "dim(sig_i_t)"
   ]
  },
  {
   "cell_type": "code",
   "execution_count": 14,
   "id": "d0ca626c-62f7-4411-aa1e-60bed0570760",
   "metadata": {
    "kernel": "R",
    "tags": []
   },
   "outputs": [
    {
     "data": {
      "text/html": [
       "<dl>\n",
       "\t<dt>$var</dt>\n",
       "\t\t<dd><style>\n",
       ".list-inline {list-style: none; margin:0; padding: 0}\n",
       ".list-inline>li {display: inline-block}\n",
       ".list-inline>li:not(:last-child)::after {content: \"\\00b7\"; padding: 0 .5ex}\n",
       "</style>\n",
       "<ol class=list-inline><li>0.0156021670083766</li><li>0.02432745446649</li><li>0.218674544502425</li><li>0.0355834690698534</li><li>0.19160761225303</li><li>0.0620306497307026</li><li>0.0972029340549441</li><li>0.0322046349157485</li><li>0.2483520042117</li><li>0.641940370977964</li><li>0.0231818206116869</li><li>0.0440399886503524</li><li>0.0542865499715963</li></ol>\n",
       "</dd>\n",
       "\t<dt>$mu</dt>\n",
       "\t\t<dd><table class=\"dataframe\">\n",
       "<caption>A matrix: 13 × 1 of type dbl</caption>\n",
       "<thead>\n",
       "\t<tr><th scope=col>V1</th></tr>\n",
       "</thead>\n",
       "<tbody>\n",
       "\t<tr><td>-3.8019957</td></tr>\n",
       "\t<tr><td>-2.6905799</td></tr>\n",
       "\t<tr><td> 3.9371359</td></tr>\n",
       "\t<tr><td> 6.1201648</td></tr>\n",
       "\t<tr><td> 4.4712973</td></tr>\n",
       "\t<tr><td> 5.7383336</td></tr>\n",
       "\t<tr><td> 5.2988900</td></tr>\n",
       "\t<tr><td> 2.2940533</td></tr>\n",
       "\t<tr><td>-3.6047784</td></tr>\n",
       "\t<tr><td> 0.8684656</td></tr>\n",
       "\t<tr><td>-3.9910285</td></tr>\n",
       "\t<tr><td> 2.1808337</td></tr>\n",
       "\t<tr><td> 2.5667356</td></tr>\n",
       "</tbody>\n",
       "</table>\n",
       "</dd>\n",
       "\t<dt>$raiss_ld_score</dt>\n",
       "\t\t<dd><style>\n",
       ".list-inline {list-style: none; margin:0; padding: 0}\n",
       ".list-inline>li {display: inline-block}\n",
       ".list-inline>li:not(:last-child)::after {content: \"\\00b7\"; padding: 0 .5ex}\n",
       "</style>\n",
       "<ol class=list-inline><li>66.0632189385585</li><li>41.8097864796998</li><li>16.7522692818621</li><li>47.6858418445792</li><li>16.9676005879392</li><li>39.5527263165068</li><li>35.2146875651021</li><li>52.6150739831065</li><li>20.4092509290833</li><li>3.80182506695562</li><li>55.4195959477022</li><li>49.0604916804541</li><li>42.3668135198077</li></ol>\n",
       "</dd>\n",
       "\t<dt>$condition_number</dt>\n",
       "\t\t<dd>&lt;NA&gt;</dd>\n",
       "\t<dt>$correct_inversion</dt>\n",
       "\t\t<dd><style>\n",
       ".list-inline {list-style: none; margin:0; padding: 0}\n",
       ".list-inline>li {display: inline-block}\n",
       ".list-inline>li:not(:last-child)::after {content: \"\\00b7\"; padding: 0 .5ex}\n",
       "</style>\n",
       "<ol class=list-inline><li>'Mean relative difference: 0.0396162'</li><li>'Mean relative difference: 0.0396162'</li><li>'Mean relative difference: 0.0396162'</li><li>'Mean relative difference: 0.0396162'</li><li>'Mean relative difference: 0.0396162'</li><li>'Mean relative difference: 0.0396162'</li><li>'Mean relative difference: 0.0396162'</li><li>'Mean relative difference: 0.0396162'</li><li>'Mean relative difference: 0.0396162'</li><li>'Mean relative difference: 0.0396162'</li><li>'Mean relative difference: 0.0396162'</li><li>'Mean relative difference: 0.0396162'</li><li>'Mean relative difference: 0.0396162'</li></ol>\n",
       "</dd>\n",
       "</dl>\n"
      ],
      "text/latex": [
       "\\begin{description}\n",
       "\\item[\\$var] \\begin{enumerate*}\n",
       "\\item 0.0156021670083766\n",
       "\\item 0.02432745446649\n",
       "\\item 0.218674544502425\n",
       "\\item 0.0355834690698534\n",
       "\\item 0.19160761225303\n",
       "\\item 0.0620306497307026\n",
       "\\item 0.0972029340549441\n",
       "\\item 0.0322046349157485\n",
       "\\item 0.2483520042117\n",
       "\\item 0.641940370977964\n",
       "\\item 0.0231818206116869\n",
       "\\item 0.0440399886503524\n",
       "\\item 0.0542865499715963\n",
       "\\end{enumerate*}\n",
       "\n",
       "\\item[\\$mu] A matrix: 13 × 1 of type dbl\n",
       "\\begin{tabular}{l}\n",
       " V1\\\\\n",
       "\\hline\n",
       "\t -3.8019957\\\\\n",
       "\t -2.6905799\\\\\n",
       "\t  3.9371359\\\\\n",
       "\t  6.1201648\\\\\n",
       "\t  4.4712973\\\\\n",
       "\t  5.7383336\\\\\n",
       "\t  5.2988900\\\\\n",
       "\t  2.2940533\\\\\n",
       "\t -3.6047784\\\\\n",
       "\t  0.8684656\\\\\n",
       "\t -3.9910285\\\\\n",
       "\t  2.1808337\\\\\n",
       "\t  2.5667356\\\\\n",
       "\\end{tabular}\n",
       "\n",
       "\\item[\\$raiss\\_ld\\_score] \\begin{enumerate*}\n",
       "\\item 66.0632189385585\n",
       "\\item 41.8097864796998\n",
       "\\item 16.7522692818621\n",
       "\\item 47.6858418445792\n",
       "\\item 16.9676005879392\n",
       "\\item 39.5527263165068\n",
       "\\item 35.2146875651021\n",
       "\\item 52.6150739831065\n",
       "\\item 20.4092509290833\n",
       "\\item 3.80182506695562\n",
       "\\item 55.4195959477022\n",
       "\\item 49.0604916804541\n",
       "\\item 42.3668135198077\n",
       "\\end{enumerate*}\n",
       "\n",
       "\\item[\\$condition\\_number] <NA>\n",
       "\\item[\\$correct\\_inversion] \\begin{enumerate*}\n",
       "\\item 'Mean relative difference: 0.0396162'\n",
       "\\item 'Mean relative difference: 0.0396162'\n",
       "\\item 'Mean relative difference: 0.0396162'\n",
       "\\item 'Mean relative difference: 0.0396162'\n",
       "\\item 'Mean relative difference: 0.0396162'\n",
       "\\item 'Mean relative difference: 0.0396162'\n",
       "\\item 'Mean relative difference: 0.0396162'\n",
       "\\item 'Mean relative difference: 0.0396162'\n",
       "\\item 'Mean relative difference: 0.0396162'\n",
       "\\item 'Mean relative difference: 0.0396162'\n",
       "\\item 'Mean relative difference: 0.0396162'\n",
       "\\item 'Mean relative difference: 0.0396162'\n",
       "\\item 'Mean relative difference: 0.0396162'\n",
       "\\end{enumerate*}\n",
       "\n",
       "\\end{description}\n"
      ],
      "text/markdown": [
       "$var\n",
       ":   1. 0.0156021670083766\n",
       "2. 0.02432745446649\n",
       "3. 0.218674544502425\n",
       "4. 0.0355834690698534\n",
       "5. 0.19160761225303\n",
       "6. 0.0620306497307026\n",
       "7. 0.0972029340549441\n",
       "8. 0.0322046349157485\n",
       "9. 0.2483520042117\n",
       "10. 0.641940370977964\n",
       "11. 0.0231818206116869\n",
       "12. 0.0440399886503524\n",
       "13. 0.0542865499715963\n",
       "\n",
       "\n",
       "\n",
       "$mu\n",
       ":   \n",
       "A matrix: 13 × 1 of type dbl\n",
       "\n",
       "| V1 |\n",
       "|---|\n",
       "| -3.8019957 |\n",
       "| -2.6905799 |\n",
       "|  3.9371359 |\n",
       "|  6.1201648 |\n",
       "|  4.4712973 |\n",
       "|  5.7383336 |\n",
       "|  5.2988900 |\n",
       "|  2.2940533 |\n",
       "| -3.6047784 |\n",
       "|  0.8684656 |\n",
       "| -3.9910285 |\n",
       "|  2.1808337 |\n",
       "|  2.5667356 |\n",
       "\n",
       "\n",
       "$raiss_ld_score\n",
       ":   1. 66.0632189385585\n",
       "2. 41.8097864796998\n",
       "3. 16.7522692818621\n",
       "4. 47.6858418445792\n",
       "5. 16.9676005879392\n",
       "6. 39.5527263165068\n",
       "7. 35.2146875651021\n",
       "8. 52.6150739831065\n",
       "9. 20.4092509290833\n",
       "10. 3.80182506695562\n",
       "11. 55.4195959477022\n",
       "12. 49.0604916804541\n",
       "13. 42.3668135198077\n",
       "\n",
       "\n",
       "\n",
       "$condition_number\n",
       ":   &lt;NA&gt;\n",
       "$correct_inversion\n",
       ":   1. 'Mean relative difference: 0.0396162'\n",
       "2. 'Mean relative difference: 0.0396162'\n",
       "3. 'Mean relative difference: 0.0396162'\n",
       "4. 'Mean relative difference: 0.0396162'\n",
       "5. 'Mean relative difference: 0.0396162'\n",
       "6. 'Mean relative difference: 0.0396162'\n",
       "7. 'Mean relative difference: 0.0396162'\n",
       "8. 'Mean relative difference: 0.0396162'\n",
       "9. 'Mean relative difference: 0.0396162'\n",
       "10. 'Mean relative difference: 0.0396162'\n",
       "11. 'Mean relative difference: 0.0396162'\n",
       "12. 'Mean relative difference: 0.0396162'\n",
       "13. 'Mean relative difference: 0.0396162'\n",
       "\n",
       "\n",
       "\n",
       "\n",
       "\n"
      ],
      "text/plain": [
       "$var\n",
       " [1] 0.01560217 0.02432745 0.21867454 0.03558347 0.19160761 0.06203065\n",
       " [7] 0.09720293 0.03220463 0.24835200 0.64194037 0.02318182 0.04403999\n",
       "[13] 0.05428655\n",
       "\n",
       "$mu\n",
       "              V1\n",
       " [1,] -3.8019957\n",
       " [2,] -2.6905799\n",
       " [3,]  3.9371359\n",
       " [4,]  6.1201648\n",
       " [5,]  4.4712973\n",
       " [6,]  5.7383336\n",
       " [7,]  5.2988900\n",
       " [8,]  2.2940533\n",
       " [9,] -3.6047784\n",
       "[10,]  0.8684656\n",
       "[11,] -3.9910285\n",
       "[12,]  2.1808337\n",
       "[13,]  2.5667356\n",
       "\n",
       "$raiss_ld_score\n",
       " [1] 66.063219 41.809786 16.752269 47.685842 16.967601 39.552726 35.214688\n",
       " [8] 52.615074 20.409251  3.801825 55.419596 49.060492 42.366814\n",
       "\n",
       "$condition_number\n",
       "[1] NA\n",
       "\n",
       "$correct_inversion\n",
       " [1] \"Mean relative difference: 0.0396162\" \"Mean relative difference: 0.0396162\"\n",
       " [3] \"Mean relative difference: 0.0396162\" \"Mean relative difference: 0.0396162\"\n",
       " [5] \"Mean relative difference: 0.0396162\" \"Mean relative difference: 0.0396162\"\n",
       " [7] \"Mean relative difference: 0.0396162\" \"Mean relative difference: 0.0396162\"\n",
       " [9] \"Mean relative difference: 0.0396162\" \"Mean relative difference: 0.0396162\"\n",
       "[11] \"Mean relative difference: 0.0396162\" \"Mean relative difference: 0.0396162\"\n",
       "[13] \"Mean relative difference: 0.0396162\"\n"
      ]
     },
     "metadata": {},
     "output_type": "display_data"
    }
   ],
   "source": [
    "raiss_model(zt, sig_t, sig_i_t)"
   ]
  },
  {
   "cell_type": "markdown",
   "id": "5bd9b7f9-9e49-4017-8059-4e678d9fb964",
   "metadata": {
    "kernel": "R",
    "tags": []
   },
   "source": [
    "By simply checking, all outputs are totally the same except for the conditionalnumber. But it seems like it'v not involved in the output. The rest part of RAISS function is to make it a dataframe. So our transfering from python to R is valid."
   ]
  }
 ],
 "metadata": {
  "kernelspec": {
   "display_name": "SoS",
   "language": "sos",
   "name": "sos"
  },
  "language_info": {
   "codemirror_mode": "sos",
   "file_extension": ".sos",
   "mimetype": "text/x-sos",
   "name": "sos",
   "nbconvert_exporter": "sos_notebook.converter.SoS_Exporter",
   "pygments_lexer": "sos"
  },
  "sos": {
   "kernels": [
    [
     "R",
     "ir",
     "R",
     "#DCDCDA",
     ""
    ],
    [
     "SoS",
     "sos",
     "",
     "",
     "sos"
    ]
   ],
   "version": "0.24.3"
  }
 },
 "nbformat": 4,
 "nbformat_minor": 5
}
