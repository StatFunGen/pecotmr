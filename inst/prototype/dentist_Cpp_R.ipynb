{
 "cells": [
  {
   "cell_type": "markdown",
   "id": "0ad9ef06-198e-4579-a4d5-780cec6c4336",
   "metadata": {},
   "source": [
    "# Introduction"
   ]
  },
  {
   "cell_type": "markdown",
   "id": "6f967d0f-fcc6-4375-bebc-d3e0c271ca83",
   "metadata": {},
   "source": [
    "This notebook is to study the DENTIST algorithm based on the original C++ [(github repo)](https://github.com/Yves-CHEN/DENTIST) and the version we converted into R [slalom.R](https://github.com/cumc/pecotmr/blob/main/R/slalom.R)."
   ]
  },
  {
   "cell_type": "markdown",
   "id": "e4cfe7e4-6a77-4412-aa0d-4331c8b2c24e",
   "metadata": {},
   "source": [
    "# DENTIST in C++"
   ]
  },
  {
   "cell_type": "markdown",
   "id": "554d9e9c-6ce5-4be5-84cf-cf34e303e740",
   "metadata": {},
   "source": [
    "## Installation"
   ]
  },
  {
   "cell_type": "markdown",
   "id": "c08bcb90-28e0-4827-a258-60ea8e5ba2d3",
   "metadata": {},
   "source": [
    "Please follow the instructions from [Gao's fork](https://github.com/gaow/DENTIST/tree/master). We failed to compile the original repo.\n",
    "\n",
    "The compiled executable file will be stored in `./builts` folder."
   ]
  },
  {
   "cell_type": "markdown",
   "id": "35697039-a180-46aa-9b57-5cdcf2520b1f",
   "metadata": {},
   "source": [
    "## Run DENTIST on test data"
   ]
  },
  {
   "cell_type": "markdown",
   "id": "24a74212-fc66-45c5-9d83-dbf3d2b2525b",
   "metadata": {
    "tags": []
   },
   "source": [
    "```shell\n",
    "/home/rd2972/software/DENTIST/builts/DENTIST.tmp2 \\\n",
    "    --bfile  /home/hs3393//RSS_QC/pecotmr/data/RSS_QC_MWE/PLINK_input_MWE \\\n",
    "    --gwas-summary /home/hs3393/RSS_QC/pecotmr/data/RSS_QC_MWE/Sumstat_MAF_filtered.txt \\\n",
    "    --out /home/rd2972/private_data/20240300_rss_qc_imputation/DENTIST/per_iteration/dentist_original/4213_variants/out\n",
    "```"
   ]
  },
  {
   "cell_type": "markdown",
   "id": "f0e653bb-6c33-45f2-947a-7a623e3470e9",
   "metadata": {},
   "source": [
    "- `Input data`\n",
    "    - The bfiles contain 4123 variants of 1153 individuals.\n",
    "    - The summary statistics is for the same 4123 variants.\n",
    "- `Output results`\n",
    "    - Output from the original `DENTIST`\n",
    "        - `/home/rd2972/private_data/20240300_rss_qc_imputation/DENTIST/per_iteration/dentist_original/4213_variants/out.DENTIST.full.txt` (4123 variants)\n",
    "        - `/home/rd2972/private_data/20240300_rss_qc_imputation/DENTIST/per_iteration/dentist_original/4213_variants/out.DENTIST.ignored.txt` (empty)\n",
    "        - `/home/rd2972/private_data/20240300_rss_qc_imputation/DENTIST/per_iteration/dentist_original/4213_variants/out.DENTIST.short.txt` (63 variants)\n",
    "    - Output of `LD_it`:\n",
    "        - We edit the C++ code so every time it runs `oneIteration` function, it will append `LD_it` to `/home/rd2972/private_data/20240300_rss_qc_imputation/DENTIST/per_iteration/dentist_original/4213_variants/LD_it_output.txt`\n",
    "        - Then we separate the output file into seperate `LD_it`, stored at `/home/rd2972/private_data/20240300_rss_qc_imputation/DENTIST/per_iteration/dentist_original/4213_variants/LD_separate/`\n",
    "        - **WEIRD WEIRD WEIRD**: for 8 iterations there are 32 `LD_it`s. (why not 16??)"
   ]
  },
  {
   "cell_type": "markdown",
   "id": "0104bff2-cf96-46f0-af60-bc190d620832",
   "metadata": {
    "kernel": "SoS"
   },
   "source": [
    "# Run dentist in R"
   ]
  },
  {
   "cell_type": "code",
   "execution_count": 1,
   "id": "5818acf0-c87c-4e6e-ae01-916252cb5851",
   "metadata": {
    "kernel": "SoS",
    "tags": []
   },
   "outputs": [
    {
     "name": "stderr",
     "output_type": "stream",
     "text": [
      "\n",
      "Attaching package: ‘data.table’\n",
      "\n",
      "\n",
      "The following objects are masked from ‘package:dplyr’:\n",
      "\n",
      "    between, first, last\n",
      "\n",
      "\n",
      "Registered S3 methods overwritten by 'RcppGSL':\n",
      "  method               from         \n",
      "  predict.fastLm       RcppArmadillo\n",
      "  print.fastLm         RcppArmadillo\n",
      "  summary.fastLm       RcppArmadillo\n",
      "  print.summary.fastLm RcppArmadillo\n",
      "\n",
      "Warning message in sourceCpp(\"/home/rd2972/software/pecotmr/src/RcppExports.cpp\"):\n",
      "“No Rcpp::export attributes or RCPP_MODULE declarations found in source”\n"
     ]
    }
   ],
   "source": [
    "rm(list=ls())\n",
    "library(readr)\n",
    "library(dplyr, warn.conflicts = FALSE)\n",
    "library(data.table)\n",
    "library(RcppArmadillo)\n",
    "library(Rcpp)\n",
    "source(\"/home/rd2972/software/pecotmr/R/run_dentist.R\")\n",
    "source(\"/home/rd2972/software/pecotmr/R/RcppExports.R\")\n",
    "sourceCpp(\"/home/rd2972/software/pecotmr/src/dentist.cpp\")\n",
    "sourceCpp(\"/home/rd2972/software/pecotmr/src/RcppExports.cpp\")"
   ]
  },
  {
   "cell_type": "code",
   "execution_count": 2,
   "id": "fbf0f861-5126-4a24-b50f-f7c93ab7eba0",
   "metadata": {
    "tags": []
   },
   "outputs": [
    {
     "name": "stderr",
     "output_type": "stream",
     "text": [
      "Warning message in fread(\"/home/hs3393/RSS_QC/pecotmr/data/RSS_QC_MWE/LD_MWE.tsv\"):\n",
      "“Detected 4123 column names but the data has 4124 columns (i.e. invalid file). Added 1 extra default column name for the first column which is guessed to be row names or an index. Use setnames() afterwards if this guess is not correct, or fix the file write command that created the file to create a valid file.”\n"
     ]
    }
   ],
   "source": [
    "snp_data = read_delim(\"/home/hs3393/RSS_QC/pecotmr/data/RSS_QC_MWE/Sumstat_MAF_filtered.txt\", show_col_types = FALSE) %>% mutate(z = b / se)\n",
    "LD_data = fread(\"/home/hs3393/RSS_QC/pecotmr/data/RSS_QC_MWE/LD_MWE.tsv\")[,-1]\n",
    "LD_data = as.matrix(LD_data)"
   ]
  },
  {
   "cell_type": "code",
   "execution_count": 3,
   "id": "5769d01c-8c6e-45f7-ade3-1b952b060b24",
   "metadata": {
    "tags": []
   },
   "outputs": [
    {
     "data": {
      "text/html": [
       "<table class=\"dataframe\">\n",
       "<caption>A tibble: 3 × 9</caption>\n",
       "<thead>\n",
       "\t<tr><th scope=col>SNP</th><th scope=col>A1</th><th scope=col>A2</th><th scope=col>freq</th><th scope=col>b</th><th scope=col>se</th><th scope=col>p</th><th scope=col>N</th><th scope=col>z</th></tr>\n",
       "\t<tr><th scope=col>&lt;chr&gt;</th><th scope=col>&lt;chr&gt;</th><th scope=col>&lt;chr&gt;</th><th scope=col>&lt;dbl&gt;</th><th scope=col>&lt;dbl&gt;</th><th scope=col>&lt;dbl&gt;</th><th scope=col>&lt;dbl&gt;</th><th scope=col>&lt;dbl&gt;</th><th scope=col>&lt;dbl&gt;</th></tr>\n",
       "</thead>\n",
       "<tbody>\n",
       "\t<tr><td>chr1:206011748_A_G</td><td>G</td><td>A</td><td>0.1865</td><td>-0.0169</td><td>0.0115</td><td>0.07083977</td><td>1153</td><td>-1.469565</td></tr>\n",
       "\t<tr><td>chr1:206012565_A_G</td><td>G</td><td>A</td><td>0.1908</td><td>-0.0189</td><td>0.0114</td><td>0.04866936</td><td>1153</td><td>-1.657895</td></tr>\n",
       "\t<tr><td>chr1:206012721_C_G</td><td>G</td><td>C</td><td>0.1930</td><td>-0.0185</td><td>0.0114</td><td>0.05231533</td><td>1153</td><td>-1.622807</td></tr>\n",
       "</tbody>\n",
       "</table>\n"
      ],
      "text/latex": [
       "A tibble: 3 × 9\n",
       "\\begin{tabular}{lllllllll}\n",
       " SNP & A1 & A2 & freq & b & se & p & N & z\\\\\n",
       " <chr> & <chr> & <chr> & <dbl> & <dbl> & <dbl> & <dbl> & <dbl> & <dbl>\\\\\n",
       "\\hline\n",
       "\t chr1:206011748\\_A\\_G & G & A & 0.1865 & -0.0169 & 0.0115 & 0.07083977 & 1153 & -1.469565\\\\\n",
       "\t chr1:206012565\\_A\\_G & G & A & 0.1908 & -0.0189 & 0.0114 & 0.04866936 & 1153 & -1.657895\\\\\n",
       "\t chr1:206012721\\_C\\_G & G & C & 0.1930 & -0.0185 & 0.0114 & 0.05231533 & 1153 & -1.622807\\\\\n",
       "\\end{tabular}\n"
      ],
      "text/markdown": [
       "\n",
       "A tibble: 3 × 9\n",
       "\n",
       "| SNP &lt;chr&gt; | A1 &lt;chr&gt; | A2 &lt;chr&gt; | freq &lt;dbl&gt; | b &lt;dbl&gt; | se &lt;dbl&gt; | p &lt;dbl&gt; | N &lt;dbl&gt; | z &lt;dbl&gt; |\n",
       "|---|---|---|---|---|---|---|---|---|\n",
       "| chr1:206011748_A_G | G | A | 0.1865 | -0.0169 | 0.0115 | 0.07083977 | 1153 | -1.469565 |\n",
       "| chr1:206012565_A_G | G | A | 0.1908 | -0.0189 | 0.0114 | 0.04866936 | 1153 | -1.657895 |\n",
       "| chr1:206012721_C_G | G | C | 0.1930 | -0.0185 | 0.0114 | 0.05231533 | 1153 | -1.622807 |\n",
       "\n"
      ],
      "text/plain": [
       "  SNP                A1 A2 freq   b       se     p          N    z        \n",
       "1 chr1:206011748_A_G G  A  0.1865 -0.0169 0.0115 0.07083977 1153 -1.469565\n",
       "2 chr1:206012565_A_G G  A  0.1908 -0.0189 0.0114 0.04866936 1153 -1.657895\n",
       "3 chr1:206012721_C_G G  C  0.1930 -0.0185 0.0114 0.05231533 1153 -1.622807"
      ]
     },
     "metadata": {},
     "output_type": "display_data"
    },
    {
     "data": {
      "text/html": [
       "<style>\n",
       ".list-inline {list-style: none; margin:0; padding: 0}\n",
       ".list-inline>li {display: inline-block}\n",
       ".list-inline>li:not(:last-child)::after {content: \"\\00b7\"; padding: 0 .5ex}\n",
       "</style>\n",
       "<ol class=list-inline><li>4123</li><li>9</li></ol>\n"
      ],
      "text/latex": [
       "\\begin{enumerate*}\n",
       "\\item 4123\n",
       "\\item 9\n",
       "\\end{enumerate*}\n"
      ],
      "text/markdown": [
       "1. 4123\n",
       "2. 9\n",
       "\n",
       "\n"
      ],
      "text/plain": [
       "[1] 4123    9"
      ]
     },
     "metadata": {},
     "output_type": "display_data"
    }
   ],
   "source": [
    "head(snp_data,3)\n",
    "dim(snp_data)"
   ]
  },
  {
   "cell_type": "code",
   "execution_count": 4,
   "id": "e7585bd2-7da4-4b0f-b927-5589c92538c2",
   "metadata": {
    "kernel": "SoS",
    "tags": []
   },
   "outputs": [],
   "source": [
    "res1 = dentist(snp_data$z, LD_data, \n",
    "                 nSample = 1153, nIter = 8, \n",
    "                 pValueThreshold = 5.0369e-8, gPvalueThreshold = 0.05,\n",
    "                 propSVD = 0.4, gcControl = FALSE)\n",
    "# most argument values are matched with default values here: /home/rd2972/software/DENTIST/options.h\n",
    "# 1153 comes from ` /home/hs3393//RSS_QC/pecotmr/data/RSS_QC_MWE/PLINK_input_MWE.fam`\n",
    "# the output are all stored at `/home/rd2972/private_data/20240300_rss_qc_imputation/DENTIST/per_iteration/dentist_Rcpp/`"
   ]
  },
  {
   "cell_type": "code",
   "execution_count": 5,
   "id": "7cc5d968-0123-46f5-9571-3e6622f21e6d",
   "metadata": {
    "kernel": "SoS",
    "tags": []
   },
   "outputs": [
    {
     "data": {
      "text/html": [
       "<table class=\"dataframe\">\n",
       "<caption>A data.frame: 3 × 6</caption>\n",
       "<thead>\n",
       "\t<tr><th></th><th scope=col>imputed_z</th><th scope=col>rsq</th><th scope=col>corrected_z</th><th scope=col>iter_to_correct</th><th scope=col>is_problematic</th><th scope=col>original_z</th></tr>\n",
       "\t<tr><th></th><th scope=col>&lt;dbl&gt;</th><th scope=col>&lt;dbl&gt;</th><th scope=col>&lt;dbl&gt;</th><th scope=col>&lt;int&gt;</th><th scope=col>&lt;dbl&gt;</th><th scope=col>&lt;dbl&gt;</th></tr>\n",
       "</thead>\n",
       "<tbody>\n",
       "\t<tr><th scope=row>1</th><td>-0.3698164</td><td>0.7568408</td><td>-2.230222</td><td>8</td><td>0</td><td>-1.469565</td></tr>\n",
       "\t<tr><th scope=row>2</th><td>-0.2682808</td><td>0.7585386</td><td>-2.827941</td><td>8</td><td>0</td><td>-1.657895</td></tr>\n",
       "\t<tr><th scope=row>3</th><td>-0.2928419</td><td>0.7613557</td><td>-2.722480</td><td>8</td><td>0</td><td>-1.622807</td></tr>\n",
       "</tbody>\n",
       "</table>\n"
      ],
      "text/latex": [
       "A data.frame: 3 × 6\n",
       "\\begin{tabular}{r|llllll}\n",
       "  & imputed\\_z & rsq & corrected\\_z & iter\\_to\\_correct & is\\_problematic & original\\_z\\\\\n",
       "  & <dbl> & <dbl> & <dbl> & <int> & <dbl> & <dbl>\\\\\n",
       "\\hline\n",
       "\t1 & -0.3698164 & 0.7568408 & -2.230222 & 8 & 0 & -1.469565\\\\\n",
       "\t2 & -0.2682808 & 0.7585386 & -2.827941 & 8 & 0 & -1.657895\\\\\n",
       "\t3 & -0.2928419 & 0.7613557 & -2.722480 & 8 & 0 & -1.622807\\\\\n",
       "\\end{tabular}\n"
      ],
      "text/markdown": [
       "\n",
       "A data.frame: 3 × 6\n",
       "\n",
       "| <!--/--> | imputed_z &lt;dbl&gt; | rsq &lt;dbl&gt; | corrected_z &lt;dbl&gt; | iter_to_correct &lt;int&gt; | is_problematic &lt;dbl&gt; | original_z &lt;dbl&gt; |\n",
       "|---|---|---|---|---|---|---|\n",
       "| 1 | -0.3698164 | 0.7568408 | -2.230222 | 8 | 0 | -1.469565 |\n",
       "| 2 | -0.2682808 | 0.7585386 | -2.827941 | 8 | 0 | -1.657895 |\n",
       "| 3 | -0.2928419 | 0.7613557 | -2.722480 | 8 | 0 | -1.622807 |\n",
       "\n"
      ],
      "text/plain": [
       "  imputed_z  rsq       corrected_z iter_to_correct is_problematic original_z\n",
       "1 -0.3698164 0.7568408 -2.230222   8               0              -1.469565 \n",
       "2 -0.2682808 0.7585386 -2.827941   8               0              -1.657895 \n",
       "3 -0.2928419 0.7613557 -2.722480   8               0              -1.622807 "
      ]
     },
     "metadata": {},
     "output_type": "display_data"
    }
   ],
   "source": [
    "head(res1,3)"
   ]
  },
  {
   "cell_type": "code",
   "execution_count": 6,
   "id": "e6f158e6-41d0-401c-8740-38fbfb447ce1",
   "metadata": {
    "tags": []
   },
   "outputs": [],
   "source": [
    "saveRDS(res1, file = \"/home/rd2972/private_data/20240300_rss_qc_imputation/DENTIST/per_iteration/dentist_Rcpp/result.rds\")"
   ]
  },
  {
   "cell_type": "markdown",
   "id": "d56cb739-a212-4a47-9ed1-6a6f8745b7dd",
   "metadata": {},
   "source": [
    "Note: There are two `LD_it`s for each iteration, and the index of iteration starts from 0. For example, `DENTIST_Rcpp_output_42.txt` stores the `LD_it` from the second time it runs `oneIteration` function in the No.5 iteration."
   ]
  },
  {
   "cell_type": "markdown",
   "id": "9f0418ab-9f0b-44d8-be09-a012cd449178",
   "metadata": {
    "kernel": "SoS"
   },
   "source": [
    "# Compare results"
   ]
  },
  {
   "cell_type": "code",
   "execution_count": 8,
   "id": "10b64d87-5d2a-4ddf-bcab-e5bffda87450",
   "metadata": {},
   "outputs": [],
   "source": [
    "# load the two LD_its from the first ieration\n",
    "Rcpp_res_iter_0_1 <- fread(\"/home/rd2972/private_data/20240300_rss_qc_imputation/DENTIST/per_iteration/dentist_Rcpp/4213_variants/DENTIST_Rcpp_output_01.txt\")\n",
    "Rcpp_res_iter_0_2 <- fread(\"/home/rd2972/private_data/20240300_rss_qc_imputation/DENTIST/per_iteration/dentist_Rcpp/4213_variants/DENTIST_Rcpp_output_02.txt\")"
   ]
  },
  {
   "cell_type": "code",
   "execution_count": 9,
   "id": "8f56d0db-1a98-4a6f-b685-95ae54473133",
   "metadata": {},
   "outputs": [],
   "source": [
    "# load the first two LD_its from \n",
    "dentist_res_1 <-fread(\"/home/rd2972/private_data/20240300_rss_qc_imputation/DENTIST/per_iteration/dentist_original/4213_variants/LD_separate/LD_it_output_1.txt\")\n",
    "dentist_res_2 <-fread(\"/home/rd2972/private_data/20240300_rss_qc_imputation/DENTIST/per_iteration/dentist_original/4213_variants/LD_separate/LD_it_output_2.txt\")"
   ]
  },
  {
   "cell_type": "code",
   "execution_count": 12,
   "id": "fedcf877-af3c-4857-a37e-e760cd1d5829",
   "metadata": {
    "tags": []
   },
   "outputs": [
    {
     "name": "stdout",
     "output_type": "stream",
     "text": [
      "[1] \"==============From Rcpp version=====================\"\n"
     ]
    },
    {
     "data": {
      "text/html": [
       "<style>\n",
       ".list-inline {list-style: none; margin:0; padding: 0}\n",
       ".list-inline>li {display: inline-block}\n",
       ".list-inline>li:not(:last-child)::after {content: \"\\00b7\"; padding: 0 .5ex}\n",
       "</style>\n",
       "<ol class=list-inline><li>2062</li><li>2061</li></ol>\n"
      ],
      "text/latex": [
       "\\begin{enumerate*}\n",
       "\\item 2062\n",
       "\\item 2061\n",
       "\\end{enumerate*}\n"
      ],
      "text/markdown": [
       "1. 2062\n",
       "2. 2061\n",
       "\n",
       "\n"
      ],
      "text/plain": [
       "[1] 2062 2061"
      ]
     },
     "metadata": {},
     "output_type": "display_data"
    },
    {
     "data": {
      "text/html": [
       "<table class=\"dataframe\">\n",
       "<caption>A data.table: 10 × 10</caption>\n",
       "<thead>\n",
       "\t<tr><th scope=col>V1</th><th scope=col>V2</th><th scope=col>V3</th><th scope=col>V4</th><th scope=col>V5</th><th scope=col>V6</th><th scope=col>V7</th><th scope=col>V8</th><th scope=col>V9</th><th scope=col>V10</th></tr>\n",
       "\t<tr><th scope=col>&lt;dbl&gt;</th><th scope=col>&lt;dbl&gt;</th><th scope=col>&lt;dbl&gt;</th><th scope=col>&lt;dbl&gt;</th><th scope=col>&lt;dbl&gt;</th><th scope=col>&lt;dbl&gt;</th><th scope=col>&lt;dbl&gt;</th><th scope=col>&lt;dbl&gt;</th><th scope=col>&lt;dbl&gt;</th><th scope=col>&lt;dbl&gt;</th></tr>\n",
       "</thead>\n",
       "<tbody>\n",
       "\t<tr><td>0.98501</td><td>0.99703</td><td>-0.165970</td><td>0.98062</td><td>0.95174</td><td> 0.305990</td><td> 0.196350</td><td> 0.24287000</td><td> 1.9603e-01</td><td> 0.200050</td></tr>\n",
       "\t<tr><td>0.97722</td><td>0.98368</td><td>-0.165530</td><td>0.99097</td><td>0.96237</td><td> 0.309330</td><td> 0.182120</td><td> 0.24568000</td><td> 1.9891e-01</td><td> 0.184900</td></tr>\n",
       "\t<tr><td>0.94805</td><td>0.94244</td><td>-0.078334</td><td>0.96493</td><td>0.99127</td><td> 0.299980</td><td> 0.174640</td><td> 0.23784000</td><td> 1.9103e-01</td><td> 0.177670</td></tr>\n",
       "\t<tr><td>0.41409</td><td>0.40288</td><td>-0.056151</td><td>0.41477</td><td>0.39906</td><td>-0.034997</td><td>-0.049078</td><td>-0.02528900</td><td>-3.2538e-02</td><td>-0.046423</td></tr>\n",
       "\t<tr><td>0.58251</td><td>0.57434</td><td>-0.182270</td><td>0.58924</td><td>0.60417</td><td> 0.173310</td><td> 0.068187</td><td> 0.16826000</td><td> 8.4623e-02</td><td> 0.077967</td></tr>\n",
       "\t<tr><td>0.28936</td><td>0.28088</td><td>-0.048627</td><td>0.29017</td><td>0.27282</td><td> 0.900440</td><td> 0.708410</td><td>-0.03901300</td><td>-7.5352e-05</td><td> 0.724340</td></tr>\n",
       "\t<tr><td>0.19780</td><td>0.21003</td><td>-0.066790</td><td>0.19857</td><td>0.18544</td><td> 0.633320</td><td> 0.938430</td><td>-0.00181520</td><td> 1.8330e-02</td><td> 0.987060</td></tr>\n",
       "\t<tr><td>0.18323</td><td>0.21323</td><td>-0.064954</td><td>0.18401</td><td>0.17146</td><td> 0.590860</td><td> 0.938180</td><td>-0.00176530</td><td> 1.7826e-02</td><td> 0.986700</td></tr>\n",
       "\t<tr><td>0.18698</td><td>0.21642</td><td>-0.066252</td><td>0.18776</td><td>0.17500</td><td> 0.607260</td><td> 0.950820</td><td>-0.00257810</td><td> 1.6673e-02</td><td> 1.000000</td></tr>\n",
       "\t<tr><td>0.20367</td><td>0.19739</td><td>-0.065482</td><td>0.20439</td><td>0.19126</td><td> 0.643030</td><td> 0.899000</td><td>-0.00095894</td><td> 1.9565e-02</td><td> 0.945680</td></tr>\n",
       "</tbody>\n",
       "</table>\n"
      ],
      "text/latex": [
       "A data.table: 10 × 10\n",
       "\\begin{tabular}{llllllllll}\n",
       " V1 & V2 & V3 & V4 & V5 & V6 & V7 & V8 & V9 & V10\\\\\n",
       " <dbl> & <dbl> & <dbl> & <dbl> & <dbl> & <dbl> & <dbl> & <dbl> & <dbl> & <dbl>\\\\\n",
       "\\hline\n",
       "\t 0.98501 & 0.99703 & -0.165970 & 0.98062 & 0.95174 &  0.305990 &  0.196350 &  0.24287000 &  1.9603e-01 &  0.200050\\\\\n",
       "\t 0.97722 & 0.98368 & -0.165530 & 0.99097 & 0.96237 &  0.309330 &  0.182120 &  0.24568000 &  1.9891e-01 &  0.184900\\\\\n",
       "\t 0.94805 & 0.94244 & -0.078334 & 0.96493 & 0.99127 &  0.299980 &  0.174640 &  0.23784000 &  1.9103e-01 &  0.177670\\\\\n",
       "\t 0.41409 & 0.40288 & -0.056151 & 0.41477 & 0.39906 & -0.034997 & -0.049078 & -0.02528900 & -3.2538e-02 & -0.046423\\\\\n",
       "\t 0.58251 & 0.57434 & -0.182270 & 0.58924 & 0.60417 &  0.173310 &  0.068187 &  0.16826000 &  8.4623e-02 &  0.077967\\\\\n",
       "\t 0.28936 & 0.28088 & -0.048627 & 0.29017 & 0.27282 &  0.900440 &  0.708410 & -0.03901300 & -7.5352e-05 &  0.724340\\\\\n",
       "\t 0.19780 & 0.21003 & -0.066790 & 0.19857 & 0.18544 &  0.633320 &  0.938430 & -0.00181520 &  1.8330e-02 &  0.987060\\\\\n",
       "\t 0.18323 & 0.21323 & -0.064954 & 0.18401 & 0.17146 &  0.590860 &  0.938180 & -0.00176530 &  1.7826e-02 &  0.986700\\\\\n",
       "\t 0.18698 & 0.21642 & -0.066252 & 0.18776 & 0.17500 &  0.607260 &  0.950820 & -0.00257810 &  1.6673e-02 &  1.000000\\\\\n",
       "\t 0.20367 & 0.19739 & -0.065482 & 0.20439 & 0.19126 &  0.643030 &  0.899000 & -0.00095894 &  1.9565e-02 &  0.945680\\\\\n",
       "\\end{tabular}\n"
      ],
      "text/markdown": [
       "\n",
       "A data.table: 10 × 10\n",
       "\n",
       "| V1 &lt;dbl&gt; | V2 &lt;dbl&gt; | V3 &lt;dbl&gt; | V4 &lt;dbl&gt; | V5 &lt;dbl&gt; | V6 &lt;dbl&gt; | V7 &lt;dbl&gt; | V8 &lt;dbl&gt; | V9 &lt;dbl&gt; | V10 &lt;dbl&gt; |\n",
       "|---|---|---|---|---|---|---|---|---|---|\n",
       "| 0.98501 | 0.99703 | -0.165970 | 0.98062 | 0.95174 |  0.305990 |  0.196350 |  0.24287000 |  1.9603e-01 |  0.200050 |\n",
       "| 0.97722 | 0.98368 | -0.165530 | 0.99097 | 0.96237 |  0.309330 |  0.182120 |  0.24568000 |  1.9891e-01 |  0.184900 |\n",
       "| 0.94805 | 0.94244 | -0.078334 | 0.96493 | 0.99127 |  0.299980 |  0.174640 |  0.23784000 |  1.9103e-01 |  0.177670 |\n",
       "| 0.41409 | 0.40288 | -0.056151 | 0.41477 | 0.39906 | -0.034997 | -0.049078 | -0.02528900 | -3.2538e-02 | -0.046423 |\n",
       "| 0.58251 | 0.57434 | -0.182270 | 0.58924 | 0.60417 |  0.173310 |  0.068187 |  0.16826000 |  8.4623e-02 |  0.077967 |\n",
       "| 0.28936 | 0.28088 | -0.048627 | 0.29017 | 0.27282 |  0.900440 |  0.708410 | -0.03901300 | -7.5352e-05 |  0.724340 |\n",
       "| 0.19780 | 0.21003 | -0.066790 | 0.19857 | 0.18544 |  0.633320 |  0.938430 | -0.00181520 |  1.8330e-02 |  0.987060 |\n",
       "| 0.18323 | 0.21323 | -0.064954 | 0.18401 | 0.17146 |  0.590860 |  0.938180 | -0.00176530 |  1.7826e-02 |  0.986700 |\n",
       "| 0.18698 | 0.21642 | -0.066252 | 0.18776 | 0.17500 |  0.607260 |  0.950820 | -0.00257810 |  1.6673e-02 |  1.000000 |\n",
       "| 0.20367 | 0.19739 | -0.065482 | 0.20439 | 0.19126 |  0.643030 |  0.899000 | -0.00095894 |  1.9565e-02 |  0.945680 |\n",
       "\n"
      ],
      "text/plain": [
       "   V1      V2      V3        V4      V5      V6        V7        V8         \n",
       "1  0.98501 0.99703 -0.165970 0.98062 0.95174  0.305990  0.196350  0.24287000\n",
       "2  0.97722 0.98368 -0.165530 0.99097 0.96237  0.309330  0.182120  0.24568000\n",
       "3  0.94805 0.94244 -0.078334 0.96493 0.99127  0.299980  0.174640  0.23784000\n",
       "4  0.41409 0.40288 -0.056151 0.41477 0.39906 -0.034997 -0.049078 -0.02528900\n",
       "5  0.58251 0.57434 -0.182270 0.58924 0.60417  0.173310  0.068187  0.16826000\n",
       "6  0.28936 0.28088 -0.048627 0.29017 0.27282  0.900440  0.708410 -0.03901300\n",
       "7  0.19780 0.21003 -0.066790 0.19857 0.18544  0.633320  0.938430 -0.00181520\n",
       "8  0.18323 0.21323 -0.064954 0.18401 0.17146  0.590860  0.938180 -0.00176530\n",
       "9  0.18698 0.21642 -0.066252 0.18776 0.17500  0.607260  0.950820 -0.00257810\n",
       "10 0.20367 0.19739 -0.065482 0.20439 0.19126  0.643030  0.899000 -0.00095894\n",
       "   V9          V10      \n",
       "1   1.9603e-01  0.200050\n",
       "2   1.9891e-01  0.184900\n",
       "3   1.9103e-01  0.177670\n",
       "4  -3.2538e-02 -0.046423\n",
       "5   8.4623e-02  0.077967\n",
       "6  -7.5352e-05  0.724340\n",
       "7   1.8330e-02  0.987060\n",
       "8   1.7826e-02  0.986700\n",
       "9   1.6673e-02  1.000000\n",
       "10  1.9565e-02  0.945680"
      ]
     },
     "metadata": {},
     "output_type": "display_data"
    },
    {
     "data": {
      "text/html": [
       "<style>\n",
       ".list-inline {list-style: none; margin:0; padding: 0}\n",
       ".list-inline>li {display: inline-block}\n",
       ".list-inline>li:not(:last-child)::after {content: \"\\00b7\"; padding: 0 .5ex}\n",
       "</style>\n",
       "<ol class=list-inline><li>2053</li><li>2061</li></ol>\n"
      ],
      "text/latex": [
       "\\begin{enumerate*}\n",
       "\\item 2053\n",
       "\\item 2061\n",
       "\\end{enumerate*}\n"
      ],
      "text/markdown": [
       "1. 2053\n",
       "2. 2061\n",
       "\n",
       "\n"
      ],
      "text/plain": [
       "[1] 2053 2061"
      ]
     },
     "metadata": {},
     "output_type": "display_data"
    },
    {
     "data": {
      "text/html": [
       "<table class=\"dataframe\">\n",
       "<caption>A data.table: 10 × 10</caption>\n",
       "<thead>\n",
       "\t<tr><th scope=col>V1</th><th scope=col>V2</th><th scope=col>V3</th><th scope=col>V4</th><th scope=col>V5</th><th scope=col>V6</th><th scope=col>V7</th><th scope=col>V8</th><th scope=col>V9</th><th scope=col>V10</th></tr>\n",
       "\t<tr><th scope=col>&lt;dbl&gt;</th><th scope=col>&lt;dbl&gt;</th><th scope=col>&lt;dbl&gt;</th><th scope=col>&lt;dbl&gt;</th><th scope=col>&lt;dbl&gt;</th><th scope=col>&lt;dbl&gt;</th><th scope=col>&lt;dbl&gt;</th><th scope=col>&lt;dbl&gt;</th><th scope=col>&lt;dbl&gt;</th><th scope=col>&lt;dbl&gt;</th></tr>\n",
       "</thead>\n",
       "<tbody>\n",
       "\t<tr><td>0.98501</td><td>0.99703</td><td>-0.165970</td><td>0.98062</td><td>0.95174</td><td> 0.305990</td><td> 0.196350</td><td> 0.24287000</td><td> 1.9603e-01</td><td> 0.200050</td></tr>\n",
       "\t<tr><td>0.97722</td><td>0.98368</td><td>-0.165530</td><td>0.99097</td><td>0.96237</td><td> 0.309330</td><td> 0.182120</td><td> 0.24568000</td><td> 1.9891e-01</td><td> 0.184900</td></tr>\n",
       "\t<tr><td>0.94805</td><td>0.94244</td><td>-0.078334</td><td>0.96493</td><td>0.99127</td><td> 0.299980</td><td> 0.174640</td><td> 0.23784000</td><td> 1.9103e-01</td><td> 0.177670</td></tr>\n",
       "\t<tr><td>0.41409</td><td>0.40288</td><td>-0.056151</td><td>0.41477</td><td>0.39906</td><td>-0.034997</td><td>-0.049078</td><td>-0.02528900</td><td>-3.2538e-02</td><td>-0.046423</td></tr>\n",
       "\t<tr><td>0.58251</td><td>0.57434</td><td>-0.182270</td><td>0.58924</td><td>0.60417</td><td> 0.173310</td><td> 0.068187</td><td> 0.16826000</td><td> 8.4623e-02</td><td> 0.077967</td></tr>\n",
       "\t<tr><td>0.28936</td><td>0.28088</td><td>-0.048627</td><td>0.29017</td><td>0.27282</td><td> 0.900440</td><td> 0.708410</td><td>-0.03901300</td><td>-7.5352e-05</td><td> 0.724340</td></tr>\n",
       "\t<tr><td>0.19780</td><td>0.21003</td><td>-0.066790</td><td>0.19857</td><td>0.18544</td><td> 0.633320</td><td> 0.938430</td><td>-0.00181520</td><td> 1.8330e-02</td><td> 0.987060</td></tr>\n",
       "\t<tr><td>0.18323</td><td>0.21323</td><td>-0.064954</td><td>0.18401</td><td>0.17146</td><td> 0.590860</td><td> 0.938180</td><td>-0.00176530</td><td> 1.7826e-02</td><td> 0.986700</td></tr>\n",
       "\t<tr><td>0.18698</td><td>0.21642</td><td>-0.066252</td><td>0.18776</td><td>0.17500</td><td> 0.607260</td><td> 0.950820</td><td>-0.00257810</td><td> 1.6673e-02</td><td> 1.000000</td></tr>\n",
       "\t<tr><td>0.20367</td><td>0.19739</td><td>-0.065482</td><td>0.20439</td><td>0.19126</td><td> 0.643030</td><td> 0.899000</td><td>-0.00095894</td><td> 1.9565e-02</td><td> 0.945680</td></tr>\n",
       "</tbody>\n",
       "</table>\n"
      ],
      "text/latex": [
       "A data.table: 10 × 10\n",
       "\\begin{tabular}{llllllllll}\n",
       " V1 & V2 & V3 & V4 & V5 & V6 & V7 & V8 & V9 & V10\\\\\n",
       " <dbl> & <dbl> & <dbl> & <dbl> & <dbl> & <dbl> & <dbl> & <dbl> & <dbl> & <dbl>\\\\\n",
       "\\hline\n",
       "\t 0.98501 & 0.99703 & -0.165970 & 0.98062 & 0.95174 &  0.305990 &  0.196350 &  0.24287000 &  1.9603e-01 &  0.200050\\\\\n",
       "\t 0.97722 & 0.98368 & -0.165530 & 0.99097 & 0.96237 &  0.309330 &  0.182120 &  0.24568000 &  1.9891e-01 &  0.184900\\\\\n",
       "\t 0.94805 & 0.94244 & -0.078334 & 0.96493 & 0.99127 &  0.299980 &  0.174640 &  0.23784000 &  1.9103e-01 &  0.177670\\\\\n",
       "\t 0.41409 & 0.40288 & -0.056151 & 0.41477 & 0.39906 & -0.034997 & -0.049078 & -0.02528900 & -3.2538e-02 & -0.046423\\\\\n",
       "\t 0.58251 & 0.57434 & -0.182270 & 0.58924 & 0.60417 &  0.173310 &  0.068187 &  0.16826000 &  8.4623e-02 &  0.077967\\\\\n",
       "\t 0.28936 & 0.28088 & -0.048627 & 0.29017 & 0.27282 &  0.900440 &  0.708410 & -0.03901300 & -7.5352e-05 &  0.724340\\\\\n",
       "\t 0.19780 & 0.21003 & -0.066790 & 0.19857 & 0.18544 &  0.633320 &  0.938430 & -0.00181520 &  1.8330e-02 &  0.987060\\\\\n",
       "\t 0.18323 & 0.21323 & -0.064954 & 0.18401 & 0.17146 &  0.590860 &  0.938180 & -0.00176530 &  1.7826e-02 &  0.986700\\\\\n",
       "\t 0.18698 & 0.21642 & -0.066252 & 0.18776 & 0.17500 &  0.607260 &  0.950820 & -0.00257810 &  1.6673e-02 &  1.000000\\\\\n",
       "\t 0.20367 & 0.19739 & -0.065482 & 0.20439 & 0.19126 &  0.643030 &  0.899000 & -0.00095894 &  1.9565e-02 &  0.945680\\\\\n",
       "\\end{tabular}\n"
      ],
      "text/markdown": [
       "\n",
       "A data.table: 10 × 10\n",
       "\n",
       "| V1 &lt;dbl&gt; | V2 &lt;dbl&gt; | V3 &lt;dbl&gt; | V4 &lt;dbl&gt; | V5 &lt;dbl&gt; | V6 &lt;dbl&gt; | V7 &lt;dbl&gt; | V8 &lt;dbl&gt; | V9 &lt;dbl&gt; | V10 &lt;dbl&gt; |\n",
       "|---|---|---|---|---|---|---|---|---|---|\n",
       "| 0.98501 | 0.99703 | -0.165970 | 0.98062 | 0.95174 |  0.305990 |  0.196350 |  0.24287000 |  1.9603e-01 |  0.200050 |\n",
       "| 0.97722 | 0.98368 | -0.165530 | 0.99097 | 0.96237 |  0.309330 |  0.182120 |  0.24568000 |  1.9891e-01 |  0.184900 |\n",
       "| 0.94805 | 0.94244 | -0.078334 | 0.96493 | 0.99127 |  0.299980 |  0.174640 |  0.23784000 |  1.9103e-01 |  0.177670 |\n",
       "| 0.41409 | 0.40288 | -0.056151 | 0.41477 | 0.39906 | -0.034997 | -0.049078 | -0.02528900 | -3.2538e-02 | -0.046423 |\n",
       "| 0.58251 | 0.57434 | -0.182270 | 0.58924 | 0.60417 |  0.173310 |  0.068187 |  0.16826000 |  8.4623e-02 |  0.077967 |\n",
       "| 0.28936 | 0.28088 | -0.048627 | 0.29017 | 0.27282 |  0.900440 |  0.708410 | -0.03901300 | -7.5352e-05 |  0.724340 |\n",
       "| 0.19780 | 0.21003 | -0.066790 | 0.19857 | 0.18544 |  0.633320 |  0.938430 | -0.00181520 |  1.8330e-02 |  0.987060 |\n",
       "| 0.18323 | 0.21323 | -0.064954 | 0.18401 | 0.17146 |  0.590860 |  0.938180 | -0.00176530 |  1.7826e-02 |  0.986700 |\n",
       "| 0.18698 | 0.21642 | -0.066252 | 0.18776 | 0.17500 |  0.607260 |  0.950820 | -0.00257810 |  1.6673e-02 |  1.000000 |\n",
       "| 0.20367 | 0.19739 | -0.065482 | 0.20439 | 0.19126 |  0.643030 |  0.899000 | -0.00095894 |  1.9565e-02 |  0.945680 |\n",
       "\n"
      ],
      "text/plain": [
       "   V1      V2      V3        V4      V5      V6        V7        V8         \n",
       "1  0.98501 0.99703 -0.165970 0.98062 0.95174  0.305990  0.196350  0.24287000\n",
       "2  0.97722 0.98368 -0.165530 0.99097 0.96237  0.309330  0.182120  0.24568000\n",
       "3  0.94805 0.94244 -0.078334 0.96493 0.99127  0.299980  0.174640  0.23784000\n",
       "4  0.41409 0.40288 -0.056151 0.41477 0.39906 -0.034997 -0.049078 -0.02528900\n",
       "5  0.58251 0.57434 -0.182270 0.58924 0.60417  0.173310  0.068187  0.16826000\n",
       "6  0.28936 0.28088 -0.048627 0.29017 0.27282  0.900440  0.708410 -0.03901300\n",
       "7  0.19780 0.21003 -0.066790 0.19857 0.18544  0.633320  0.938430 -0.00181520\n",
       "8  0.18323 0.21323 -0.064954 0.18401 0.17146  0.590860  0.938180 -0.00176530\n",
       "9  0.18698 0.21642 -0.066252 0.18776 0.17500  0.607260  0.950820 -0.00257810\n",
       "10 0.20367 0.19739 -0.065482 0.20439 0.19126  0.643030  0.899000 -0.00095894\n",
       "   V9          V10      \n",
       "1   1.9603e-01  0.200050\n",
       "2   1.9891e-01  0.184900\n",
       "3   1.9103e-01  0.177670\n",
       "4  -3.2538e-02 -0.046423\n",
       "5   8.4623e-02  0.077967\n",
       "6  -7.5352e-05  0.724340\n",
       "7   1.8330e-02  0.987060\n",
       "8   1.7826e-02  0.986700\n",
       "9   1.6673e-02  1.000000\n",
       "10  1.9565e-02  0.945680"
      ]
     },
     "metadata": {},
     "output_type": "display_data"
    },
    {
     "name": "stdout",
     "output_type": "stream",
     "text": [
      "[1] \"==============From DENTIST C++ version=====================\"\n"
     ]
    },
    {
     "data": {
      "text/html": [
       "<style>\n",
       ".list-inline {list-style: none; margin:0; padding: 0}\n",
       ".list-inline>li {display: inline-block}\n",
       ".list-inline>li:not(:last-child)::after {content: \"\\00b7\"; padding: 0 .5ex}\n",
       "</style>\n",
       "<ol class=list-inline><li>828</li><li>827</li></ol>\n"
      ],
      "text/latex": [
       "\\begin{enumerate*}\n",
       "\\item 828\n",
       "\\item 827\n",
       "\\end{enumerate*}\n"
      ],
      "text/markdown": [
       "1. 828\n",
       "2. 827\n",
       "\n",
       "\n"
      ],
      "text/plain": [
       "[1] 828 827"
      ]
     },
     "metadata": {},
     "output_type": "display_data"
    },
    {
     "data": {
      "text/html": [
       "<table class=\"dataframe\">\n",
       "<caption>A data.table: 10 × 10</caption>\n",
       "<thead>\n",
       "\t<tr><th scope=col>V1</th><th scope=col>V2</th><th scope=col>V3</th><th scope=col>V4</th><th scope=col>V5</th><th scope=col>V6</th><th scope=col>V7</th><th scope=col>V8</th><th scope=col>V9</th><th scope=col>V10</th></tr>\n",
       "\t<tr><th scope=col>&lt;dbl&gt;</th><th scope=col>&lt;dbl&gt;</th><th scope=col>&lt;dbl&gt;</th><th scope=col>&lt;dbl&gt;</th><th scope=col>&lt;dbl&gt;</th><th scope=col>&lt;dbl&gt;</th><th scope=col>&lt;dbl&gt;</th><th scope=col>&lt;dbl&gt;</th><th scope=col>&lt;dbl&gt;</th><th scope=col>&lt;dbl&gt;</th></tr>\n",
       "</thead>\n",
       "<tbody>\n",
       "\t<tr><td>0.948033</td><td>0.948211</td><td>0.955779</td><td>-0.0785996</td><td>0.964921</td><td>0.991271</td><td> 0.4037350</td><td>0.1881340</td><td>0.1776080</td><td> 0.237791000</td></tr>\n",
       "\t<tr><td>0.312609</td><td>0.305939</td><td>0.309283</td><td>-0.0338847</td><td>0.313154</td><td>0.296342</td><td>-0.0350442</td><td>0.6333060</td><td>0.6072500</td><td>-0.035160200</td></tr>\n",
       "\t<tr><td>0.582866</td><td>0.575675</td><td>0.585092</td><td>-0.1821460</td><td>0.589592</td><td>0.604548</td><td> 0.2425070</td><td>0.0866302</td><td>0.0780352</td><td> 0.168334000</td></tr>\n",
       "\t<tr><td>0.289292</td><td>0.282638</td><td>0.286153</td><td>-0.0487172</td><td>0.290100</td><td>0.272754</td><td>-0.0425133</td><td>0.7553270</td><td>0.7243300</td><td>-0.039047800</td></tr>\n",
       "\t<tr><td>0.183171</td><td>0.196556</td><td>0.181131</td><td>-0.0650268</td><td>0.183950</td><td>0.171392</td><td>-0.0457802</td><td>0.9725030</td><td>0.9867000</td><td>-0.001791760</td></tr>\n",
       "\t<tr><td>0.166918</td><td>0.196288</td><td>0.182052</td><td>-0.0713314</td><td>0.185002</td><td>0.171811</td><td>-0.0491233</td><td>0.9384300</td><td>0.9508180</td><td>-0.005674030</td></tr>\n",
       "\t<tr><td>0.192370</td><td>0.195959</td><td>0.198841</td><td> 0.0278439</td><td>0.201963</td><td>0.188044</td><td>-0.0325835</td><td>0.0183002</td><td>0.0166432</td><td>-0.033922000</td></tr>\n",
       "\t<tr><td>0.203609</td><td>0.198676</td><td>0.201369</td><td>-0.0655563</td><td>0.204336</td><td>0.191198</td><td>-0.0463954</td><td>0.9855720</td><td>0.9456780</td><td>-0.000985741</td></tr>\n",
       "\t<tr><td>0.183171</td><td>0.196556</td><td>0.181131</td><td>-0.0650268</td><td>0.183950</td><td>0.171392</td><td>-0.0457802</td><td>0.9725030</td><td>0.9867000</td><td>-0.001791760</td></tr>\n",
       "\t<tr><td>0.167823</td><td>0.198033</td><td>0.183351</td><td>-0.0688656</td><td>0.186260</td><td>0.173280</td><td>-0.0478103</td><td>0.9349840</td><td>0.9487020</td><td>-0.004174250</td></tr>\n",
       "</tbody>\n",
       "</table>\n"
      ],
      "text/latex": [
       "A data.table: 10 × 10\n",
       "\\begin{tabular}{llllllllll}\n",
       " V1 & V2 & V3 & V4 & V5 & V6 & V7 & V8 & V9 & V10\\\\\n",
       " <dbl> & <dbl> & <dbl> & <dbl> & <dbl> & <dbl> & <dbl> & <dbl> & <dbl> & <dbl>\\\\\n",
       "\\hline\n",
       "\t 0.948033 & 0.948211 & 0.955779 & -0.0785996 & 0.964921 & 0.991271 &  0.4037350 & 0.1881340 & 0.1776080 &  0.237791000\\\\\n",
       "\t 0.312609 & 0.305939 & 0.309283 & -0.0338847 & 0.313154 & 0.296342 & -0.0350442 & 0.6333060 & 0.6072500 & -0.035160200\\\\\n",
       "\t 0.582866 & 0.575675 & 0.585092 & -0.1821460 & 0.589592 & 0.604548 &  0.2425070 & 0.0866302 & 0.0780352 &  0.168334000\\\\\n",
       "\t 0.289292 & 0.282638 & 0.286153 & -0.0487172 & 0.290100 & 0.272754 & -0.0425133 & 0.7553270 & 0.7243300 & -0.039047800\\\\\n",
       "\t 0.183171 & 0.196556 & 0.181131 & -0.0650268 & 0.183950 & 0.171392 & -0.0457802 & 0.9725030 & 0.9867000 & -0.001791760\\\\\n",
       "\t 0.166918 & 0.196288 & 0.182052 & -0.0713314 & 0.185002 & 0.171811 & -0.0491233 & 0.9384300 & 0.9508180 & -0.005674030\\\\\n",
       "\t 0.192370 & 0.195959 & 0.198841 &  0.0278439 & 0.201963 & 0.188044 & -0.0325835 & 0.0183002 & 0.0166432 & -0.033922000\\\\\n",
       "\t 0.203609 & 0.198676 & 0.201369 & -0.0655563 & 0.204336 & 0.191198 & -0.0463954 & 0.9855720 & 0.9456780 & -0.000985741\\\\\n",
       "\t 0.183171 & 0.196556 & 0.181131 & -0.0650268 & 0.183950 & 0.171392 & -0.0457802 & 0.9725030 & 0.9867000 & -0.001791760\\\\\n",
       "\t 0.167823 & 0.198033 & 0.183351 & -0.0688656 & 0.186260 & 0.173280 & -0.0478103 & 0.9349840 & 0.9487020 & -0.004174250\\\\\n",
       "\\end{tabular}\n"
      ],
      "text/markdown": [
       "\n",
       "A data.table: 10 × 10\n",
       "\n",
       "| V1 &lt;dbl&gt; | V2 &lt;dbl&gt; | V3 &lt;dbl&gt; | V4 &lt;dbl&gt; | V5 &lt;dbl&gt; | V6 &lt;dbl&gt; | V7 &lt;dbl&gt; | V8 &lt;dbl&gt; | V9 &lt;dbl&gt; | V10 &lt;dbl&gt; |\n",
       "|---|---|---|---|---|---|---|---|---|---|\n",
       "| 0.948033 | 0.948211 | 0.955779 | -0.0785996 | 0.964921 | 0.991271 |  0.4037350 | 0.1881340 | 0.1776080 |  0.237791000 |\n",
       "| 0.312609 | 0.305939 | 0.309283 | -0.0338847 | 0.313154 | 0.296342 | -0.0350442 | 0.6333060 | 0.6072500 | -0.035160200 |\n",
       "| 0.582866 | 0.575675 | 0.585092 | -0.1821460 | 0.589592 | 0.604548 |  0.2425070 | 0.0866302 | 0.0780352 |  0.168334000 |\n",
       "| 0.289292 | 0.282638 | 0.286153 | -0.0487172 | 0.290100 | 0.272754 | -0.0425133 | 0.7553270 | 0.7243300 | -0.039047800 |\n",
       "| 0.183171 | 0.196556 | 0.181131 | -0.0650268 | 0.183950 | 0.171392 | -0.0457802 | 0.9725030 | 0.9867000 | -0.001791760 |\n",
       "| 0.166918 | 0.196288 | 0.182052 | -0.0713314 | 0.185002 | 0.171811 | -0.0491233 | 0.9384300 | 0.9508180 | -0.005674030 |\n",
       "| 0.192370 | 0.195959 | 0.198841 |  0.0278439 | 0.201963 | 0.188044 | -0.0325835 | 0.0183002 | 0.0166432 | -0.033922000 |\n",
       "| 0.203609 | 0.198676 | 0.201369 | -0.0655563 | 0.204336 | 0.191198 | -0.0463954 | 0.9855720 | 0.9456780 | -0.000985741 |\n",
       "| 0.183171 | 0.196556 | 0.181131 | -0.0650268 | 0.183950 | 0.171392 | -0.0457802 | 0.9725030 | 0.9867000 | -0.001791760 |\n",
       "| 0.167823 | 0.198033 | 0.183351 | -0.0688656 | 0.186260 | 0.173280 | -0.0478103 | 0.9349840 | 0.9487020 | -0.004174250 |\n",
       "\n"
      ],
      "text/plain": [
       "   V1       V2       V3       V4         V5       V6       V7         V8       \n",
       "1  0.948033 0.948211 0.955779 -0.0785996 0.964921 0.991271  0.4037350 0.1881340\n",
       "2  0.312609 0.305939 0.309283 -0.0338847 0.313154 0.296342 -0.0350442 0.6333060\n",
       "3  0.582866 0.575675 0.585092 -0.1821460 0.589592 0.604548  0.2425070 0.0866302\n",
       "4  0.289292 0.282638 0.286153 -0.0487172 0.290100 0.272754 -0.0425133 0.7553270\n",
       "5  0.183171 0.196556 0.181131 -0.0650268 0.183950 0.171392 -0.0457802 0.9725030\n",
       "6  0.166918 0.196288 0.182052 -0.0713314 0.185002 0.171811 -0.0491233 0.9384300\n",
       "7  0.192370 0.195959 0.198841  0.0278439 0.201963 0.188044 -0.0325835 0.0183002\n",
       "8  0.203609 0.198676 0.201369 -0.0655563 0.204336 0.191198 -0.0463954 0.9855720\n",
       "9  0.183171 0.196556 0.181131 -0.0650268 0.183950 0.171392 -0.0457802 0.9725030\n",
       "10 0.167823 0.198033 0.183351 -0.0688656 0.186260 0.173280 -0.0478103 0.9349840\n",
       "   V9        V10         \n",
       "1  0.1776080  0.237791000\n",
       "2  0.6072500 -0.035160200\n",
       "3  0.0780352  0.168334000\n",
       "4  0.7243300 -0.039047800\n",
       "5  0.9867000 -0.001791760\n",
       "6  0.9508180 -0.005674030\n",
       "7  0.0166432 -0.033922000\n",
       "8  0.9456780 -0.000985741\n",
       "9  0.9867000 -0.001791760\n",
       "10 0.9487020 -0.004174250"
      ]
     },
     "metadata": {},
     "output_type": "display_data"
    },
    {
     "data": {
      "text/html": [
       "<style>\n",
       ".list-inline {list-style: none; margin:0; padding: 0}\n",
       ".list-inline>li {display: inline-block}\n",
       ".list-inline>li:not(:last-child)::after {content: \"\\00b7\"; padding: 0 .5ex}\n",
       "</style>\n",
       "<ol class=list-inline><li>827</li><li>824</li></ol>\n"
      ],
      "text/latex": [
       "\\begin{enumerate*}\n",
       "\\item 827\n",
       "\\item 824\n",
       "\\end{enumerate*}\n"
      ],
      "text/markdown": [
       "1. 827\n",
       "2. 824\n",
       "\n",
       "\n"
      ],
      "text/plain": [
       "[1] 827 824"
      ]
     },
     "metadata": {},
     "output_type": "display_data"
    },
    {
     "data": {
      "text/html": [
       "<table class=\"dataframe\">\n",
       "<caption>A data.table: 10 × 10</caption>\n",
       "<thead>\n",
       "\t<tr><th scope=col>V1</th><th scope=col>V2</th><th scope=col>V3</th><th scope=col>V4</th><th scope=col>V5</th><th scope=col>V6</th><th scope=col>V7</th><th scope=col>V8</th><th scope=col>V9</th><th scope=col>V10</th></tr>\n",
       "\t<tr><th scope=col>&lt;dbl&gt;</th><th scope=col>&lt;dbl&gt;</th><th scope=col>&lt;dbl&gt;</th><th scope=col>&lt;dbl&gt;</th><th scope=col>&lt;dbl&gt;</th><th scope=col>&lt;dbl&gt;</th><th scope=col>&lt;dbl&gt;</th><th scope=col>&lt;dbl&gt;</th><th scope=col>&lt;dbl&gt;</th><th scope=col>&lt;dbl&gt;</th></tr>\n",
       "</thead>\n",
       "<tbody>\n",
       "\t<tr><td> 0.9480330</td><td> 0.3126090</td><td> 0.5828660</td><td> 0.2892920</td><td> 0.18317100</td><td> 0.16691800</td><td> 0.1923700</td><td> 0.203609000</td><td> 0.18317100</td><td> 0.16782300</td></tr>\n",
       "\t<tr><td> 0.9482110</td><td> 0.3059390</td><td> 0.5756750</td><td> 0.2826380</td><td> 0.19655600</td><td> 0.19628800</td><td> 0.1959590</td><td> 0.198676000</td><td> 0.19655600</td><td> 0.19803300</td></tr>\n",
       "\t<tr><td> 0.9557790</td><td> 0.3092830</td><td> 0.5850920</td><td> 0.2861530</td><td> 0.18113100</td><td> 0.18205200</td><td> 0.1988410</td><td> 0.201369000</td><td> 0.18113100</td><td> 0.18335100</td></tr>\n",
       "\t<tr><td>-0.0785996</td><td>-0.0338847</td><td>-0.1821460</td><td>-0.0487172</td><td>-0.06502680</td><td>-0.07133140</td><td> 0.0278439</td><td>-0.065556300</td><td>-0.06502680</td><td>-0.06886560</td></tr>\n",
       "\t<tr><td> 0.9649210</td><td> 0.3131540</td><td> 0.5895920</td><td> 0.2901000</td><td> 0.18395000</td><td> 0.18500200</td><td> 0.2019630</td><td> 0.204336000</td><td> 0.18395000</td><td> 0.18626000</td></tr>\n",
       "\t<tr><td> 0.9912710</td><td> 0.2963420</td><td> 0.6045480</td><td> 0.2727540</td><td> 0.17139200</td><td> 0.17181100</td><td> 0.1880440</td><td> 0.191198000</td><td> 0.17139200</td><td> 0.17328000</td></tr>\n",
       "\t<tr><td> 0.4037350</td><td>-0.0350442</td><td> 0.2425070</td><td>-0.0425133</td><td>-0.04578020</td><td>-0.04912330</td><td>-0.0325835</td><td>-0.046395400</td><td>-0.04578020</td><td>-0.04781030</td></tr>\n",
       "\t<tr><td> 0.1881340</td><td> 0.6333060</td><td> 0.0866302</td><td> 0.7553270</td><td> 0.97250300</td><td> 0.93843000</td><td> 0.0183002</td><td> 0.985572000</td><td> 0.97250300</td><td> 0.93498400</td></tr>\n",
       "\t<tr><td> 0.1776080</td><td> 0.6072500</td><td> 0.0780352</td><td> 0.7243300</td><td> 0.98670000</td><td> 0.95081800</td><td> 0.0166432</td><td> 0.945678000</td><td> 0.98670000</td><td> 0.94870200</td></tr>\n",
       "\t<tr><td> 0.2377910</td><td>-0.0351602</td><td> 0.1683340</td><td>-0.0390478</td><td>-0.00179176</td><td>-0.00567403</td><td>-0.0339220</td><td>-0.000985741</td><td>-0.00179176</td><td>-0.00417425</td></tr>\n",
       "</tbody>\n",
       "</table>\n"
      ],
      "text/latex": [
       "A data.table: 10 × 10\n",
       "\\begin{tabular}{llllllllll}\n",
       " V1 & V2 & V3 & V4 & V5 & V6 & V7 & V8 & V9 & V10\\\\\n",
       " <dbl> & <dbl> & <dbl> & <dbl> & <dbl> & <dbl> & <dbl> & <dbl> & <dbl> & <dbl>\\\\\n",
       "\\hline\n",
       "\t  0.9480330 &  0.3126090 &  0.5828660 &  0.2892920 &  0.18317100 &  0.16691800 &  0.1923700 &  0.203609000 &  0.18317100 &  0.16782300\\\\\n",
       "\t  0.9482110 &  0.3059390 &  0.5756750 &  0.2826380 &  0.19655600 &  0.19628800 &  0.1959590 &  0.198676000 &  0.19655600 &  0.19803300\\\\\n",
       "\t  0.9557790 &  0.3092830 &  0.5850920 &  0.2861530 &  0.18113100 &  0.18205200 &  0.1988410 &  0.201369000 &  0.18113100 &  0.18335100\\\\\n",
       "\t -0.0785996 & -0.0338847 & -0.1821460 & -0.0487172 & -0.06502680 & -0.07133140 &  0.0278439 & -0.065556300 & -0.06502680 & -0.06886560\\\\\n",
       "\t  0.9649210 &  0.3131540 &  0.5895920 &  0.2901000 &  0.18395000 &  0.18500200 &  0.2019630 &  0.204336000 &  0.18395000 &  0.18626000\\\\\n",
       "\t  0.9912710 &  0.2963420 &  0.6045480 &  0.2727540 &  0.17139200 &  0.17181100 &  0.1880440 &  0.191198000 &  0.17139200 &  0.17328000\\\\\n",
       "\t  0.4037350 & -0.0350442 &  0.2425070 & -0.0425133 & -0.04578020 & -0.04912330 & -0.0325835 & -0.046395400 & -0.04578020 & -0.04781030\\\\\n",
       "\t  0.1881340 &  0.6333060 &  0.0866302 &  0.7553270 &  0.97250300 &  0.93843000 &  0.0183002 &  0.985572000 &  0.97250300 &  0.93498400\\\\\n",
       "\t  0.1776080 &  0.6072500 &  0.0780352 &  0.7243300 &  0.98670000 &  0.95081800 &  0.0166432 &  0.945678000 &  0.98670000 &  0.94870200\\\\\n",
       "\t  0.2377910 & -0.0351602 &  0.1683340 & -0.0390478 & -0.00179176 & -0.00567403 & -0.0339220 & -0.000985741 & -0.00179176 & -0.00417425\\\\\n",
       "\\end{tabular}\n"
      ],
      "text/markdown": [
       "\n",
       "A data.table: 10 × 10\n",
       "\n",
       "| V1 &lt;dbl&gt; | V2 &lt;dbl&gt; | V3 &lt;dbl&gt; | V4 &lt;dbl&gt; | V5 &lt;dbl&gt; | V6 &lt;dbl&gt; | V7 &lt;dbl&gt; | V8 &lt;dbl&gt; | V9 &lt;dbl&gt; | V10 &lt;dbl&gt; |\n",
       "|---|---|---|---|---|---|---|---|---|---|\n",
       "|  0.9480330 |  0.3126090 |  0.5828660 |  0.2892920 |  0.18317100 |  0.16691800 |  0.1923700 |  0.203609000 |  0.18317100 |  0.16782300 |\n",
       "|  0.9482110 |  0.3059390 |  0.5756750 |  0.2826380 |  0.19655600 |  0.19628800 |  0.1959590 |  0.198676000 |  0.19655600 |  0.19803300 |\n",
       "|  0.9557790 |  0.3092830 |  0.5850920 |  0.2861530 |  0.18113100 |  0.18205200 |  0.1988410 |  0.201369000 |  0.18113100 |  0.18335100 |\n",
       "| -0.0785996 | -0.0338847 | -0.1821460 | -0.0487172 | -0.06502680 | -0.07133140 |  0.0278439 | -0.065556300 | -0.06502680 | -0.06886560 |\n",
       "|  0.9649210 |  0.3131540 |  0.5895920 |  0.2901000 |  0.18395000 |  0.18500200 |  0.2019630 |  0.204336000 |  0.18395000 |  0.18626000 |\n",
       "|  0.9912710 |  0.2963420 |  0.6045480 |  0.2727540 |  0.17139200 |  0.17181100 |  0.1880440 |  0.191198000 |  0.17139200 |  0.17328000 |\n",
       "|  0.4037350 | -0.0350442 |  0.2425070 | -0.0425133 | -0.04578020 | -0.04912330 | -0.0325835 | -0.046395400 | -0.04578020 | -0.04781030 |\n",
       "|  0.1881340 |  0.6333060 |  0.0866302 |  0.7553270 |  0.97250300 |  0.93843000 |  0.0183002 |  0.985572000 |  0.97250300 |  0.93498400 |\n",
       "|  0.1776080 |  0.6072500 |  0.0780352 |  0.7243300 |  0.98670000 |  0.95081800 |  0.0166432 |  0.945678000 |  0.98670000 |  0.94870200 |\n",
       "|  0.2377910 | -0.0351602 |  0.1683340 | -0.0390478 | -0.00179176 | -0.00567403 | -0.0339220 | -0.000985741 | -0.00179176 | -0.00417425 |\n",
       "\n"
      ],
      "text/plain": [
       "   V1         V2         V3         V4         V5          V6         \n",
       "1   0.9480330  0.3126090  0.5828660  0.2892920  0.18317100  0.16691800\n",
       "2   0.9482110  0.3059390  0.5756750  0.2826380  0.19655600  0.19628800\n",
       "3   0.9557790  0.3092830  0.5850920  0.2861530  0.18113100  0.18205200\n",
       "4  -0.0785996 -0.0338847 -0.1821460 -0.0487172 -0.06502680 -0.07133140\n",
       "5   0.9649210  0.3131540  0.5895920  0.2901000  0.18395000  0.18500200\n",
       "6   0.9912710  0.2963420  0.6045480  0.2727540  0.17139200  0.17181100\n",
       "7   0.4037350 -0.0350442  0.2425070 -0.0425133 -0.04578020 -0.04912330\n",
       "8   0.1881340  0.6333060  0.0866302  0.7553270  0.97250300  0.93843000\n",
       "9   0.1776080  0.6072500  0.0780352  0.7243300  0.98670000  0.95081800\n",
       "10  0.2377910 -0.0351602  0.1683340 -0.0390478 -0.00179176 -0.00567403\n",
       "   V7         V8           V9          V10        \n",
       "1   0.1923700  0.203609000  0.18317100  0.16782300\n",
       "2   0.1959590  0.198676000  0.19655600  0.19803300\n",
       "3   0.1988410  0.201369000  0.18113100  0.18335100\n",
       "4   0.0278439 -0.065556300 -0.06502680 -0.06886560\n",
       "5   0.2019630  0.204336000  0.18395000  0.18626000\n",
       "6   0.1880440  0.191198000  0.17139200  0.17328000\n",
       "7  -0.0325835 -0.046395400 -0.04578020 -0.04781030\n",
       "8   0.0183002  0.985572000  0.97250300  0.93498400\n",
       "9   0.0166432  0.945678000  0.98670000  0.94870200\n",
       "10 -0.0339220 -0.000985741 -0.00179176 -0.00417425"
      ]
     },
     "metadata": {},
     "output_type": "display_data"
    }
   ],
   "source": [
    "print(\"==============From Rcpp version=====================\")\n",
    "dim(Rcpp_res_iter_0_1)\n",
    "Rcpp_res_iter_0_1[1:10,1:10]\n",
    "dim(Rcpp_res_iter_0_2)\n",
    "Rcpp_res_iter_0_2[1:10,1:10]\n",
    "print(\"==============From DENTIST C++ version=====================\")\n",
    "dim(dentist_res_1)\n",
    "dentist_res_1[1:10,1:10]\n",
    "dim(dentist_res_2)\n",
    "dentist_res_2[1:10,1:10]"
   ]
  },
  {
   "cell_type": "markdown",
   "id": "cf5ab165-a015-4f81-8e36-93f18d3a3a9d",
   "metadata": {},
   "source": []
  }
 ],
 "metadata": {
  "kernelspec": {
   "display_name": "R",
   "language": "R",
   "name": "ir"
  },
  "language_info": {
   "codemirror_mode": "r",
   "file_extension": ".r",
   "mimetype": "text/x-r-source",
   "name": "R",
   "pygments_lexer": "r",
   "version": "4.3.1"
  },
  "sos": {
   "kernels": [
    [
     "SoS",
     "sos",
     "",
     ""
    ]
   ],
   "version": ""
  }
 },
 "nbformat": 4,
 "nbformat_minor": 5
}
